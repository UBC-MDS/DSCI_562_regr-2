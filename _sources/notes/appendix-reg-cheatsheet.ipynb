{
 "cells": [
  {
   "cell_type": "markdown",
   "id": "cf66dc98",
   "metadata": {
    "slideshow": {
     "slide_type": ""
    },
    "tags": []
   },
   "source": [
    "# Regression Cheatsheet"
   ]
  },
  {
   "cell_type": "markdown",
   "id": "b07b92cf",
   "metadata": {},
   "source": [
    "## Binary Logistic Regression"
   ]
  },
  {
   "cell_type": "markdown",
   "id": "18040929",
   "metadata": {},
   "source": [
    "###  Data Modelling Framework"
   ]
  },
  {
   "cell_type": "markdown",
   "id": "65a47676",
   "metadata": {},
   "source": [
    "The Binary Logistic regression model has a response variable in the form:\n",
    "\n",
    "$$\n",
    "Y_i =\n",
    "\\begin{cases}\n",
    "1 \\; \\; \\; \\; \\mbox{if the $i$th observation is a success},\\\\\n",
    "0 \\; \\; \\; \\; \\mbox{otherwise.}\n",
    "\\end{cases}\n",
    "$$\n",
    "\n",
    "As the response variable can only take the values $0$ or $1$, the key parameter becomes the probability that $Y_i$ takes on the value of $1$, i.e. the probability of success, denoted as $p_i$. Hence:\n",
    "\n",
    "$$\n",
    "Y_i \\sim \\text{Bernoulli}(p_i).\n",
    "$$"
   ]
  },
  {
   "cell_type": "markdown",
   "id": "1f94fa28",
   "metadata": {},
   "source": [
    "The Binary Logistic regression approach models the probability of success, $p_i$, of the binary response $Y_i$. To re-express $p_i$ **on an unrestricted scale**, the modelling is done in terms of the logit function (the link function in this model)."
   ]
  },
  {
   "cell_type": "markdown",
   "id": "3d4a4ea9",
   "metadata": {},
   "source": [
    "Specifically, for a training set of size $n$, $p_i$ ($i = 1, 2, \\dots, n$) will depend on the values of the $k$ regressors $X_{i, 1}, X_{i, 2}, \\dots, X_{i, k}$ in the form:\n",
    "\n",
    "$$\n",
    "h(p_i) = \\mbox{logit}(p_i) = \\log \\left( \\frac{p_i}{1 - p_i} \\right) = \\beta_0 + \\beta_1 X_{i, 1} + \\beta_1 X_{i, 2} + \\ldots + \\beta_k X_{i, k},\n",
    "$$\n",
    "\n",
    "or equivalently\n",
    "\n",
    "$$\n",
    "p_i = \\frac{\\exp \\left[ \\mbox{logit} (p_i) \\right]}{1 + \\exp \\left[ \\mbox{logit}(p_i) \\right]}.\n",
    "$$"
   ]
  },
  {
   "cell_type": "markdown",
   "id": "5b5ee652",
   "metadata": {},
   "source": [
    "Note that the $\\log(\\cdot)$ notation in the model above refers to the **natural logarithm**, i.e., **logarithm base $e$**. The equation above for $p_i$ shows that this Binary Logistic regression model will result in values of the probability of success $p_i$ that are always between 0 and 1. Furthermore, the response in this GLM is called the log-odds, the logarithm of the odds \n",
    "\n",
    "$$\\frac{p_i}{1 - p_i},$$\n",
    "\n",
    "the ratio of the probability of the event to the probability of the non-event."
   ]
  },
  {
   "cell_type": "markdown",
   "id": "15128df7",
   "metadata": {},
   "source": [
    "### Estimation"
   ]
  },
  {
   "cell_type": "markdown",
   "id": "40a717bf",
   "metadata": {
    "slideshow": {
     "slide_type": "slide"
    }
   },
   "source": [
    "Under a general framework with $k$ regressors, the **regression parameters** $\\beta_0, \\beta_1, \\dots, \\beta_k$ in this model are also unknown. In order to fit the model, we can use the function `glm()` and its argument `family = binomial` (required to specify the binary nature of the response), which obtains the estimates $\\hat{\\beta}_0, \\hat{\\beta}_1, \\dots \\hat{\\beta}_k$ (note the hat notation).\n",
    "\n",
    "The estimates are obtained through **maximum likelihood** where we assume a **joint probability mass function of the $n$ responses $Y_i$**."
   ]
  },
  {
   "cell_type": "markdown",
   "id": "d51a28bf",
   "metadata": {},
   "source": [
    "### Inference"
   ]
  },
  {
   "cell_type": "markdown",
   "id": "587666bb",
   "metadata": {
    "slideshow": {
     "slide_type": "slide"
    }
   },
   "source": [
    "We can determine **whether a regressor is statistically associated with the logarithm of the response's odds** through **hypothesis testing** for the parameters $\\beta_j$. We will need information about the estimated regression coefficient $\\hat{\\beta}_j$ and its corresponding variability which is reflected in the **standard error** of the estimate, $\\mbox{se} \\left( \\hat{\\beta}_j \\right)$."
   ]
  },
  {
   "cell_type": "markdown",
   "id": "d65baeca",
   "metadata": {},
   "source": [
    "To determine the **statistical significance** of $\\hat{\\beta}_j$, you can use the **Wald statistic** $z_j$\n",
    "\n",
    "$$\n",
    "z_j = \\frac{\\hat{\\beta}_j}{\\mbox{se}(\\hat{\\beta}_j)}\n",
    "$$\n",
    "\n",
    "to test the hypotheses\n",
    "\n",
    "```{math}\n",
    "\\begin{gather*}\n",
    "H_0: \\beta_j = 0 \\\\\n",
    "H_a: \\beta_j \\neq 0.\n",
    "\\end{gather*}\n",
    "```\n",
    "\n",
    "**A statistic like $z_j$ is analogous to the $t$-value in OLS regression.** However, in Binary Logistic regression, provided the sample size $n$ is large enough, $z_j$ has an **approximately Standard Normal distribution** under $H_0$ rather than a $t$-distribution."
   ]
  },
  {
   "cell_type": "markdown",
   "id": "60035f1f",
   "metadata": {
    "slideshow": {
     "slide_type": "slide"
    }
   },
   "source": [
    "`R` provides the corresponding **$p$-value** for each $\\beta_j$. The smaller the $p$-value, the stronger the evidence against the null hypothesis $H_0$. Hence, a small enough $p$-value (less than the significance level $\\alpha$) indicates that the data provides evidence in favour of **association** (**or causation in the case of an experimental study!**) between the log-dds and the $j$th regressor. Furthermore, given a specified level of confidence, we can construct approximate $(1 - \\alpha) \\times 100\\%$ **confidence intervals** (CIs) for the corresponding true value of $\\beta_j$:\n",
    "\n",
    "$$\n",
    "\\hat{\\beta}_j \\pm z_{\\alpha/2}\\mbox{se}(\\hat{\\beta}_j),\n",
    "$$\n",
    "\n",
    "where $z_{\\alpha/2}$ is the upper $\\alpha/2$ quantile of the **Standard Normal distribution**."
   ]
  },
  {
   "cell_type": "markdown",
   "id": "adb40f21",
   "metadata": {},
   "source": [
    "(bin-log-model-selection-app)=\n",
    "### Model Selection"
   ]
  },
  {
   "cell_type": "markdown",
   "id": "709a4739",
   "metadata": {},
   "source": [
    "#### Analysis of Deviance"
   ]
  },
  {
   "cell_type": "markdown",
   "id": "24c25bbe",
   "metadata": {
    "slideshow": {
     "slide_type": "slide"
    }
   },
   "source": [
    "The **deviance** ($D_k$) criterion can be used to compare a given model with $k$ regressors with that of a **baseline model**. The usual baseline model is the **saturated** or **full model**, which perfectly fits the data because it allows a distinct probability of success $p_i$ for the $i$th observation in the training dataset ($i = 1, \\dots, n$), **unrelated to the $k$ regressors**."
   ]
  },
  {
   "cell_type": "markdown",
   "id": "36c5fa76",
   "metadata": {},
   "source": [
    "Given the definition of the saturated or full model under this context, we can view it as an **overfitted model**. Thus, we aim to avoid this type of model."
   ]
  },
  {
   "cell_type": "markdown",
   "id": "0b3223d7",
   "metadata": {
    "slideshow": {
     "slide_type": "fragment"
    }
   },
   "source": [
    "The **maximized likelihood** of this full model is denoted as $\\hat{\\mathscr{l}}_f$. Now, let $\\hat{\\mathscr{l}}_k$ be the value of the maximized likelihood computed from our dataset of $n$ observation with $k$ regressors.\n",
    "\n",
    "We can compare the fits provided by these two models by the deviance $D_k$ given by\n",
    "\n",
    "$$\n",
    "D_k = -2 \\log \\Bigg(\\frac{\\hat{\\mathscr{l}}_k}{\\hat{\\mathscr{l}}_f} \\Bigg) =  -2 \\left[ \\log \\left( \\hat{\\mathscr{l}}_k \\right) - \\log \\left( \\hat{\\mathscr{l}}_f \\right) \\right].\n",
    "$$"
   ]
  },
  {
   "cell_type": "markdown",
   "id": "5e466550",
   "metadata": {
    "slideshow": {
     "slide_type": "slide"
    }
   },
   "source": [
    "Note that $D_k$ expresses **how much our given model deviates from the full model on log-likelihood scale**. This metric is interpreted as follows:\n",
    "\n",
    "- **Large values** of $D_k$ arise when $\\hat{\\mathscr{l}}_k$ is small relative to $\\hat{\\mathscr{l}}_f$, indicating that **our given model fits the data poorly compared to the baseline model**.\n",
    "- **Small values** of $D_k$ arise when $\\hat{\\mathscr{l}}_k$ is similar to $\\hat{\\mathscr{l}}_f$, indicating that **our given model provides a good fit to the data compared to the baseline model**."
   ]
  },
  {
   "cell_type": "markdown",
   "id": "7bdf1a9b",
   "metadata": {
    "slideshow": {
     "slide_type": "slide"
    }
   },
   "source": [
    "**For the specific case of the Binary Logistic regression**, it can be shown that $D_k$ is represented by the following equation:\n",
    "\n",
    "```{math}\n",
    ":label: deviance-bin-log-app\n",
    "\\begin{equation}\n",
    "D_k = -2 \\sum_{i = 1}^n \\left[\\hat{p}_i \\text{logit}(\\hat{p}_i) + \\log (1 - \\hat{p}_i) \\right],\n",
    "\\end{equation}\n",
    "```\n",
    "\n",
    "where $\\hat{p}_i$ is the estimated probability of success for the $i$th observation for $i = 1, \\dots, n$ in our training set **with our fitted model of $k$ regressors**. Equation {eq}`deviance-bin-log-app` above comes from **maximum likelihood estimation (MLE)**."
   ]
  },
  {
   "cell_type": "markdown",
   "id": "2bba9cd4",
   "metadata": {
    "slideshow": {
     "slide_type": "slide"
    }
   },
   "source": [
    "**For the specific case of Binary Logistic regression**, deviance $D_k$ {eq}`deviance-bin-log-app` cannot be used as a standalone metric of **goodness of fit** because of **data sparsity**; i.e., each $i$th observation has a different set of observed values for the $k$ regressors if at least one of them is of **continuous-type**. \n",
    "\n",
    "This data sparsity puts $D_k$ just in function of the fitted probabilities $\\hat{p}_i$ and not on the observed values $y_i$ (which tells us nothing about the agreement of our model with $k$ regressors to the observed data!)."
   ]
  },
  {
   "cell_type": "markdown",
   "id": "527aeb9e",
   "metadata": {},
   "source": [
    "Still, for the case of Binary Logistic regression, we can use the analysis of deviance to perform model selection **between two models where one is nested in the other**."
   ]
  },
  {
   "cell_type": "markdown",
   "id": "36ce4437",
   "metadata": {
    "slideshow": {
     "slide_type": "fragment"
    }
   },
   "source": [
    "Suppose **Model 1** is nested in **Model 2**. Hence, this specific model selection will involve a hypothesis testing. The hypotheses are:\n",
    "\n",
    "```{math}\n",
    "\\begin{gather*}\n",
    "H_0: \\textbf{Model 1} \\text{ fits the data better than } \\textbf{Model 2} \\\\\n",
    "H_a: \\textbf{Model 2} \\text{ fits the data better than } \\textbf{Model 1}.\n",
    "\\end{gather*}\n",
    "```"
   ]
  },
  {
   "cell_type": "markdown",
   "id": "9949e375",
   "metadata": {
    "slideshow": {
     "slide_type": "slide"
    }
   },
   "source": [
    "Let $D_2$ be the deviance for **Model 2** and $D_1$ the deviance for **Model 1**. The test statistic $\\Delta_D$ for the analysis of deviance is given by:\n",
    "\n",
    "$$\n",
    "\\Delta_D = D_1 - D_2 \\sim \\chi^2_{d},\n",
    "$$\n",
    "\n",
    "which **assymptotically** (i.e., $n \\rightarrow \\infty$) is [**Chi-squared distributed**](https://www.math.wm.edu/~leemis/chart/UDR/PDFs/Chisquare.pdf) with $d$ degrees of freedom under $H_0$. The $d$ degrees of freedom are the **regression parameters of difference between both models**."
   ]
  },
  {
   "cell_type": "markdown",
   "id": "23fbd92b",
   "metadata": {},
   "source": [
    "Formally, this nested hypothesis testing is called the **likelihood-ratio test**."
   ]
  },
  {
   "cell_type": "markdown",
   "id": "32910954",
   "metadata": {},
   "source": [
    "#### Akaike Information Criterion"
   ]
  },
  {
   "cell_type": "markdown",
   "id": "4ed65165",
   "metadata": {
    "slideshow": {
     "slide_type": "slide"
    }
   },
   "source": [
    "**One of the drawbacks of the analysis of deviance** is that it only allows to test **nested** regression models when we have sparse data (i.e., each response is associated with a different set of values in the regressors).\n",
    "\n",
    "Fortunately, we have alternatives for model selection. **The Akaike Information Criterion (AIC) makes possible to compare models that are either nested or not.** For a model with $k$ model terms and a deviance $D_k$ is defined as:\n",
    "\n",
    "```{math}\n",
    "\\begin{equation}\n",
    "\\mbox{AIC}_k = D_k + 2k.\n",
    "\\end{equation}\n",
    "```\n",
    "\n",
    "Models with **smaller** values of $\\mbox{AIC}_k$ are preferred. That said, $\\mbox{AIC}_k$ favours models with small values of $D_k$."
   ]
  },
  {
   "cell_type": "markdown",
   "id": "510b2c94",
   "metadata": {
    "slideshow": {
     "slide_type": "fragment"
    }
   },
   "source": [
    "However, $\\mbox{AIC}_k$ penalizes for including more regressors in the model. Hence, it discourages overfitting, which is key in model selection. This is why we select that model with the smallest $\\mbox{AIC}_k$."
   ]
  },
  {
   "cell_type": "markdown",
   "id": "cd2aec87",
   "metadata": {},
   "source": [
    "#### Bayesian Information Criterion"
   ]
  },
  {
   "cell_type": "markdown",
   "id": "ca41937b",
   "metadata": {
    "slideshow": {
     "slide_type": "slide"
    }
   },
   "source": [
    "An alternative to AIC is the Bayesian Information Criterion (BIC). **The BIC also makes possible to compare models that are either nested or not.** For a model with $k$ regressors, $n$ observations used for training, and a deviance $D_k$; it is defined as:\n",
    "\n",
    "```{math}\n",
    "\\mbox{BIC}_k = D_k + k \\log (n).\n",
    "```\n",
    "\n",
    "Models with **smaller** values of $\\mbox{BIC}_k$ are preferred. That said, $\\mbox{BIC}_k$ also favours models with small values of $D_k$."
   ]
  },
  {
   "cell_type": "markdown",
   "id": "f6b94cc9",
   "metadata": {
    "slideshow": {
     "slide_type": "slide"
    }
   },
   "source": [
    "The differences between AIC and BIC will be more pronounced in datasets with large sample sizes $n$. As the BIC penalty of $k \\log (n)$ will always be larger than the AIC penalty of $2k$ when $n > 7$, **BIC tends to select models with fewer regressors than AIC**."
   ]
  },
  {
   "cell_type": "markdown",
   "id": "166e0b36",
   "metadata": {
    "slideshow": {
     "slide_type": "slide"
    }
   },
   "source": [
    "## Cox Proportional Hazards Model\n",
    "\n",
    "It is a widely popular **semiparametric** regression model (namely, **Cox regression**). **In Statistics**, we call a regression model semiparametric when we only define the systematic component (i.e., regressors and regression estimates). Yet, we **do not assume any specific distribution** for our response of interest."
   ]
  },
  {
   "cell_type": "markdown",
   "id": "0a8daae7",
   "metadata": {
    "slideshow": {
     "slide_type": "fragment"
    }
   },
   "source": [
    "### Data Modelling Framework"
   ]
  },
  {
   "cell_type": "markdown",
   "id": "fa757789",
   "metadata": {
    "slideshow": {
     "slide_type": "slide"
    }
   },
   "source": [
    "The Cox Proportional Hazards model is a commonly used survival model that allows us to interpret how regressors influence a censored response.\n",
    "\n",
    "Using a training set of size $n$, the idea is to model the **hazard function** $\\lambda_i(t)$ directly for the $i$th observation ($i = 1, \\dots, n$) subject to $k$ regressors $X_{i,j}$ ($j = 1, \\dots, k$):\n",
    "\n",
    "$$\\lambda_i \\left( t | X_{i,1}, \\dots, X_{i,k} \\right) = \\lambda_0(t) \\exp\\left(\\sum_{j = 1}^k \\beta_j X_{i,j}\\right).$$\n"
   ]
  },
  {
   "cell_type": "markdown",
   "id": "678b4b8f",
   "metadata": {},
   "source": [
    "This model has certain particularities, which will be highlighted below:\n",
    "\n",
    "- We model the $i$th individual hazard function $\\lambda_i \\left( t | X_{i,1}, \\dots, X_{i,k} \\right)$ along with a baseline hazard $\\lambda_0(t)$, which is equal for all the $n$ observations, multiplied by $\\exp\\left(\\sum_{j = 1}^k \\beta_j X_{i,j}\\right)$.\n",
    "- The model does not have an intercept $\\beta_0$. Nevertheless, the baseline hazard $\\lambda_0(t)$ acts as the intercept in this survival framework.\n",
    "- The baseline hazard $\\lambda_0(t)$ is the reference **for all subjects** when all covariates are equal to zero. Note this baseline hazard depends on time $t$ **unlike the regressors $X_{i,j}$**. Cox regression does not assume any distribution on this baseline hazard, which is the non-parametric part of the model.\n",
    "- The parametric part of the model is reflected in $\\exp\\left(\\sum_{j = 1}^k \\beta_j X_{i,j}\\right)$.\n",
    "- Therefore, given the combinations of both situations, Cox regression is overall defined as semiparametric."
   ]
  },
  {
   "cell_type": "markdown",
   "id": "85993070",
   "metadata": {
    "slideshow": {
     "slide_type": "fragment"
    }
   },
   "source": [
    "To exemplify the **proportional hazards** assumption, let us consider a simple Cox regression model with a continuous regressor $X_{i, 1}$. Moreover, assume these two subjects $i = 1, 2$ have the following regressor values: \n",
    "\n",
    "$$X_{2, 1} = X_{1, 1} + 1 \\qquad \\text{Subject 2's regressor value is one unit larger}.$$"
   ]
  },
  {
   "cell_type": "markdown",
   "id": "2f1bbaa6",
   "metadata": {},
   "source": [
    "Their responses can be modelled as:\n",
    "\n",
    "```{math}\n",
    "\\begin{align*}\n",
    "\\lambda_1 \\left( t | X_{1,1} \\right) = \\lambda_0(t)\\exp\\left( \\beta_1 X_{1,1} \\right) \\qquad \\text{Subject 1}\n",
    "\\end{align*}\n",
    "```\n",
    "```{math}\n",
    "\\begin{align*}\n",
    "\\lambda_2 \\left( t | X_{2,1} \\right) &= \\lambda_0(t)\\exp\\left( \\beta_1 X_{2,1} \\right) \\\\\n",
    "&= \\lambda_0(t)\\exp\\left[ \\beta_1 (X_{1,1} + 1) \\right] \\\\\n",
    "&= \\lambda_0(t)\\exp\\left( \\beta_1 X_{1,1} \\right) \\exp \\left( \\beta_1 \\right) \\qquad \\text{Subject 2}\n",
    "\\end{align*}\n",
    "```"
   ]
  },
  {
   "cell_type": "markdown",
   "id": "5aa33d76",
   "metadata": {},
   "source": [
    "Then, the hazard ratio comes into play as:\n",
    "\n",
    "$$\n",
    "\\frac{\\lambda_2 \\left( t | X_{2,1} \\right)}{\\lambda_1 \\left( t | X_{1,1} \\right)} = \\frac{\\lambda_0(t)\\exp\\left( \\beta_1 X_{1,1} \\right) \\exp \\left( \\beta_1 \\right)}{\\lambda_0(t)\\exp\\left( \\beta_1 X_{1,1} \\right)} = \\exp\\left( \\beta_1 \\right) \\quad \\Rightarrow \\quad \\lambda_2(t) = \\lambda_1(t)\\exp\\left( \\beta_1 \\right)\n",
    "$$"
   ]
  },
  {
   "cell_type": "markdown",
   "id": "52a21f54",
   "metadata": {},
   "source": [
    "**In plain words and generally**, the proportional hazards assumption assumes that the hazard for any subject is proportional to the hazard of any other subject **via the exponentiated regression coefficients**."
   ]
  },
  {
   "cell_type": "markdown",
   "id": "331e3715",
   "metadata": {},
   "source": [
    "### Estimation"
   ]
  },
  {
   "cell_type": "markdown",
   "id": "4346c93d",
   "metadata": {
    "slideshow": {
     "slide_type": "slide"
    }
   },
   "source": [
    "Parameter estimation in Cox regression is done through another special maximum likelihood technique using a **partial likelihood**. A partial likelihood is a specific class of **quasi-likelihood**, which does not require assuming any specific PDF for the continuous survival times $Y_i$ (thus, the baseline hazard is not required to take any distributional form)."
   ]
  },
  {
   "cell_type": "markdown",
   "id": "f7ab3cbc",
   "metadata": {},
   "source": [
    "However, we use the parametric part \n",
    "\n",
    "$$\\exp\\left(\\sum_{j = 1}^k \\beta_j X_{i,j}\\right)$$\n",
    "\n",
    "to perform our corresponding estimation."
   ]
  },
  {
   "cell_type": "markdown",
   "id": "7ce234ab",
   "metadata": {},
   "source": [
    "### Inference"
   ]
  },
  {
   "cell_type": "markdown",
   "id": "d69a943e",
   "metadata": {
    "slideshow": {
     "slide_type": "slide"
    }
   },
   "source": [
    "We can determine **whether a regressor is statistically associated with the response's hazard function** through **hypothesis testing** for $\\beta_j$. We will need the estimated regression coefficient $\\hat{\\beta}_j$ and its **standard error**, $\\mbox{se}(\\hat{\\beta}_j)$. \n",
    "\n",
    "You can test the below hypotheses via the **Wald statistic** $z _j= \\frac{\\hat{\\beta}_j}{\\mbox{se}(\\hat{\\beta}_j)}$:\n",
    "\n",
    "```{math}\n",
    "\\begin{align*}\n",
    "H_0: \\beta_j &= 0 \\\\\n",
    "H_a: \\beta_j &\\neq 0.        \n",
    "\\end{align*}\n",
    "```"
   ]
  },
  {
   "cell_type": "markdown",
   "id": "adc3357d",
   "metadata": {
    "slideshow": {
     "slide_type": "slide"
    }
   },
   "source": [
    "Given a large enough training size $n$, $z_j$ has an **approximately Standard Normal distribution** under $H_0$.\n",
    "\n",
    "`R` provides the corresponding **$p$-value** for each $\\beta_j$. The smaller the $p$-value, the stronger the evidence against the null hypothesis $H_0$. Hence, a small enough $p$-value (less than the significance level $\\alpha$) indicates that the data provides evidence in favour of **association** (**or causation in the case of an experimental study!**) between the hazard function and the $j$th regressor. Furthermore, given a specified level of confidence, we can construct approximate $(1 - \\alpha) \\times 100\\%$ CIs for the corresponding true value of $\\beta_j$:\n",
    "\n",
    "$$\n",
    "\\hat{\\beta}_j \\pm z_{\\alpha/2}\\mbox{se}(\\hat{\\beta}_j),\n",
    "$$\n",
    "\n",
    "where $z_{\\alpha/2}$ is the upper $\\alpha/2$ quantile of the **Standard Normal distribution**."
   ]
  },
  {
   "cell_type": "markdown",
   "id": "5f2b6e6d",
   "metadata": {},
   "source": [
    "### Prediction"
   ]
  },
  {
   "cell_type": "markdown",
   "id": "d2e87110",
   "metadata": {
    "slideshow": {
     "slide_type": "slide"
    }
   },
   "source": [
    "Even though Cox regression models the hazard function $\\lambda_i(t)$, it is possible to obtain **a given estimated survival function** via the following equation:\n",
    "\n",
    "$$S\\left( t | X_1, \\dots X_k \\right) = S_0(t)^{\\exp\\left(\\sum_{j = 1}^k \\beta_j X_{i,j}\\right)},$$\n",
    "\n",
    "where \n",
    "\n",
    "$$S_0(t) = \\exp \\left[ - \\Lambda_0(t) \\right]$$\n",
    "\n",
    "is the **baseline survival function**. \n",
    "\n",
    "Note that $\\Lambda_0(t)$ is the cumulative baseline hazard function:\n",
    "\n",
    "$$\\Lambda_0(t) = \\int_0^{t} \\lambda_0(u)du.$$\n",
    "\n",
    "We use the baseline cumulative hazard $\\Lambda_0(t)$ to obtain $S_0(t)$."
   ]
  },
  {
   "cell_type": "markdown",
   "id": "1091b5ca",
   "metadata": {},
   "source": [
    "## Cumulative Hazard Function\n",
    "\n",
    "Let us consider a **continuous** random variable\n",
    "\n",
    "$$Y = \\text{Time until an event occurs.}$$\n",
    "\n",
    "The cumulative hazard function $\\Lambda(t)$ depict the accumulated amount of hazard up to time $t$ as follows:\n",
    "\n",
    "$$\n",
    "\\Lambda(t) = \\int_0^{t} \\lambda(u)du.\n",
    "$$\n",
    "\n",
    "Furthermore, the cumulative hazard function $\\Lambda(t)$ and survival function $S_Y(t)$ are mathematically related as follows:\n",
    "\n",
    "$$\\Lambda(t) = -\\log S_Y(t).$$"
   ]
  },
  {
   "cell_type": "markdown",
   "id": "2d7b32b6",
   "metadata": {},
   "source": [
    "## Hazard Function"
   ]
  },
  {
   "cell_type": "markdown",
   "id": "7d60ffa3",
   "metadata": {},
   "source": [
    "Let us consider a **continuous** random variable\n",
    "\n",
    "$$Y = \\text{Time until an event occurs.}$$\n",
    "\n",
    "Their survival and PDF functions are $S_Y(t)$ and $f_Y(t)$. That said, the hazard function $\\lambda(t)$, the **instantaneous rate of event occurrence per unit of time**, is given by\n",
    "\n",
    "$$\n",
    "\\lambda(t) = \\lim_{\\Delta t\\rightarrow 0} \\frac{P(t\\leq Y < t+\\Delta t | Y\\geq t)}{\\Delta t} = \\frac{f_Y(t)}{S_Y(t)}.\n",
    "$$\n",
    "\n",
    "One can interpret $\\lambda(t)\\Delta t$ as the approximate probability of the event occurring immediately, given that the event has not occurred up until time $t$."
   ]
  },
  {
   "cell_type": "markdown",
   "id": "a5eb60f4",
   "metadata": {
    "slideshow": {
     "slide_type": "slide"
    }
   },
   "source": [
    "## Link Functions in Generalized Linear Models (GLMs)"
   ]
  },
  {
   "cell_type": "markdown",
   "id": "55ea86b3",
   "metadata": {
    "slideshow": {
     "slide_type": "slide"
    }
   },
   "source": [
    "A GLM has the components of the conceptual regression model in a training set of $n$ elements as:\n",
    "\n",
    "- **Random component.** Each *response* $Y_1,\\ldots,Y_n$ is a random variable with its respective mean $\\mu_i$.\n",
    "- **Systematic component.** How the $k$ regressors come into the model denoted as a **linear combination**:\n",
    "\n",
    "$$\n",
    "\\eta_i = \\beta_0 + \\beta_1 X_{i,1} + \\beta_2 X_{i,2} + \\ldots + \\beta_k X_{i,k} \\; \\; \\; \\; \\text{for} \\; i = 1, \\ldots, n.\n",
    "$$\n",
    "\n",
    "- **Link function.** The element that connects the **random component** with the **systematic component** $\\eta_i$. The connection is made through $h(\\mu_i)$:\n",
    "\n",
    "$$\n",
    "h(\\mu_i) = \\eta_i.\n",
    "$$"
   ]
  },
  {
   "cell_type": "markdown",
   "id": "d31136fe",
   "metadata": {},
   "source": [
    "Note the following:\n",
    "\n",
    "- The link function needs to be monotonic so we can allow putting the systematic component $\\eta_i$ in terms of the corresponding mean $\\mu_i$, i.e.:\n",
    "\n",
    "$$\\mu_i = h^{-1}(\\eta_i).$$\n",
    "\n",
    "- Furthermore, it needs to be differentiable **since we rely on maximum likelihood estimation** to obtain $\\hat{\\beta}_0, \\hat{\\beta}_1, \\dots, \\hat{\\beta}_k$."
   ]
  },
  {
   "cell_type": "markdown",
   "id": "2021d6e3",
   "metadata": {},
   "source": [
    "## Multinomial Logistic Regression"
   ]
  },
  {
   "cell_type": "markdown",
   "id": "b16d85e1",
   "metadata": {},
   "source": [
    "###  Data Modelling Framework"
   ]
  },
  {
   "cell_type": "markdown",
   "id": "93792a94",
   "metadata": {},
   "source": [
    "Let us suppose that a given **discrete nominal response $Y_i$ has categories $1, 2, \\dots, m$**. Categories $1, 2, \\dots, m$ **are merely labels here**. Thus, they **do not** implicate an ordinal scale.\n"
   ]
  },
  {
   "cell_type": "markdown",
   "id": "9497a47c",
   "metadata": {},
   "source": [
    "This regression approach assumes a [**Multinomial distribution**](https://www.sciencedirect.com/topics/mathematics/multinomial-distribution) where $p_{i,1}, p_{i,2}, \\dots, p_{i,m}$ are the probabilities that $Y_i$ will belong to categories $1, 2, \\dots, m$ respectively; i.e.,\n",
    "\n",
    "$$\n",
    "P(Y_i = 1) = p_{i,1} \\;\\;\\;\\; P(Y_i = 2) = p_{i,2} \\;\\; \\dots \\;\\; P(Y_i = m) = p_{i,m},\n",
    "$$\n",
    "\n",
    "where\n",
    "\n",
    "$$\n",
    "\\sum_{j = 1}^m p_{i,j} = p_{i,1} + p_{i,2} + \\dots + p_{i,m} = 1.\n",
    "$$"
   ]
  },
  {
   "cell_type": "markdown",
   "id": "2a429079",
   "metadata": {},
   "source": [
    "The Multinomial Logistic regression **also models the logarithm of the odds**. However, only one logarithm of the odds (or **logit**) will not be enough anymore. Recall we can capture the odds between two categories with a single logit function. **What about adding some other ones?**\n",
    "\n",
    "Here is what we can do:\n",
    "\n",
    "1. Pick one of the categories to be the **baseline**. For example, the category \"$1$\".\n",
    "2. For each of the **other** categories, we model the logarithm of the odds to the baseline category."
   ]
  },
  {
   "cell_type": "markdown",
   "id": "3968747d",
   "metadata": {
    "slideshow": {
     "slide_type": "skip"
    }
   },
   "source": [
    "**What is the math for the general case with $m$ response categories and $k$ regressors?** For the $i$th observation, we end up with a system of $m - 1$ link functions in the Multinomial Logistic regression model as follows:\n",
    "\n",
    "```{math}\n",
    ":label: multinomial-model-app\n",
    "\\begin{gather*}\n",
    "\\eta_i^{(2,1)} = \\log\\left[\\frac{P(Y_i = 2\\mid X_{i,1}, \\ldots, X_{i,k})}{P(Y_i = 1 \\mid X_{i,1}, \\ldots, X_{i,k})}\\right] = \\beta_0^{(2,1)} + \\beta_1^{(2,1)} X_{i, 1} + \\beta_2^{(2,1)} X_{i, 2} + \\ldots + \\beta_k^{(2,1)} X_{i, k} \\\\\n",
    "\\eta_i^{(3,1)} = \\log\\left[\\frac{P(Y_i = 3\\mid X_{i,1}, \\ldots, X_{i,k})}{P(Y_i = 1 \\mid X_{i,1}, \\ldots, X_{i,k})}\\right] = \\beta_0^{(3,1)} + \\beta_1^{(3,1)} X_{i, 1} + \\beta_2^{(3,1)} X_{i, 2} + \\ldots + \\beta_k^{(3,1)} X_{i, k} \\\\\n",
    "\\vdots \\\\\n",
    "\\eta_i^{(m,1)} = \\log\\left[\\frac{P(Y_i = m\\mid X_{i,1}, \\ldots, X_{i,k})}{P(Y_i = 1 \\mid X_{i,1}, \\ldots, X_{i,k})}\\right] = \\beta_0^{(m,1)} + \\beta_1^{(m,1)} X_{i, 1} + \\beta_2^{(m,1)} X_{i, 2} + \\ldots + \\beta_k^{(m,1)} X_{i, k}.\n",
    "\\end{gather*}\n",
    "```"
   ]
  },
  {
   "cell_type": "markdown",
   "id": "ddba98d2",
   "metadata": {},
   "source": [
    "Note that the superscript $(j, 1)$ in {eq}`multinomial-model-app` indicates that the equation is on level $j$ (for $j = 2, \\dots, m$) with respect to level $1$. Furthermore, **the regression coefficients are different for each link function**."
   ]
  },
  {
   "cell_type": "markdown",
   "id": "cb21e1e2",
   "metadata": {},
   "source": [
    "With some algebraic manipulation, we can show that the probabilities $p_{i,1}, p_{i,2}, \\dots, p_{i,m}$ of $Y_i$ belonging to categories $1, 2, \\dots, m$ are:\n",
    "\n",
    "```{math}\n",
    ":label: prob-multinomial-app\n",
    "\\begin{gather*}\n",
    "p_{i,1} = P(Y_i = 1 \\mid X_{i,1}, \\ldots, X_{i,k}) = \\frac{1}{1 + \\sum_{j = 2}^m \\exp \\big( \\eta_i^{(j,1)} \\big)} \\\\\n",
    "p_{i,2} = P(Y_i = 2 \\mid X_{i,1}, \\ldots, X_{i,k}) = \\frac{\\exp \\big( \\eta_i^{(2,1)} \\big)}{1 + \\sum_{j = 2}^m \\exp \\big( \\eta_i^{(j,1)} \\big)} \\\\\n",
    "\\vdots \\\\\n",
    "p_{i,m} = P(Y_i = m \\mid X_{i,1}, \\ldots, X_{i,k}) = \\frac{\\exp \\big( \\eta_i^{(m,1)} \\big)}{1 + \\sum_{j = 2}^m \\exp \\big( \\eta_i^{(j,1)} \\big)}.\n",
    "\\end{gather*}\n",
    "```"
   ]
  },
  {
   "cell_type": "markdown",
   "id": "1a4f4c3f",
   "metadata": {},
   "source": [
    "If we sum all $m$ probabilities in {eq}`prob-multinomial-app`, the sum will be equal to $1$ for the $i$th observation. **This is particularly important when we want to use this model for making predictions in classification matters**. In a Multinomial Logistic regression model, each link function has its own intercept and regression coefficients."
   ]
  },
  {
   "cell_type": "markdown",
   "id": "db37edf1",
   "metadata": {},
   "source": [
    "### Estimation"
   ]
  },
  {
   "cell_type": "markdown",
   "id": "3f090404",
   "metadata": {},
   "source": [
    "**All parameters** in the Multinomial Logistic regression model are also unknown. To fit the model with the package `nnet`, we use the function `multinom()`, which obtains the corresponding estimates. The estimates are obtained through **maximum likelihood**, where we assume a **Multinomial joint probability mass function** of the $n$ responses $Y_i$. You can find more information on this matter [**here**](https://czep.net/stat/mlelr.pdf)."
   ]
  },
  {
   "cell_type": "markdown",
   "id": "71031e85",
   "metadata": {},
   "source": [
    "### Inference"
   ]
  },
  {
   "cell_type": "markdown",
   "id": "0e0d009b",
   "metadata": {
    "slideshow": {
     "slide_type": "slide"
    }
   },
   "source": [
    "**We can determine whether a regressor is statistically associated with the logarithm of the odds** through hypothesis testing for the parameters $\\beta_j^{(u, v)}$ **by link function**. We also use the **Wald statistic** $z_j^{(u, v)}$:\n",
    "\n",
    "```{math}\n",
    "\\begin{equation*}\n",
    "z_j^{(u, v)} = \\frac{\\hat{\\beta}_j^{(u, v)}}{\\mbox{se}\\left(\\hat{\\beta}_j^{(u, v)}\\right)}\n",
    "\\end{equation*}\n",
    "```\n",
    "\n",
    "to test the hypotheses\n",
    "\n",
    "```{math}\n",
    "\\begin{gather*}\n",
    "H_0: \\beta_j^{(u, v)} = 0\\\\\n",
    "H_a: \\beta_j^{(u, v)} \\neq 0.\n",
    "\\end{gather*}\n",
    "```\n",
    "\n",
    "Provided the sample size $n$ is large enough, $z_j$ has an **approximately Standard Normal distribution** under $H_0$."
   ]
  },
  {
   "cell_type": "markdown",
   "id": "43ea90ca",
   "metadata": {
    "slideshow": {
     "slide_type": "skip"
    }
   },
   "source": [
    "`R` provides the corresponding **$p$-values** for each $\\beta_j^{(u, v)}$. The smaller the $p$-value, the stronger the evidence against the null hypothesis $H_0$. As in the previous regression models, we would set a predetermined significance level $\\alpha$ (usually taken to be 0.05) to infer if the $p$-value is small enough. If the $p$-value is smaller than the predetermined level $\\alpha$, then you could claim that there is evidence to reject the null hypothesis. Hence, $p$-values that are small enough indicate that the data provides evidence in favour of **association** (**or causation in the case of an experimental study!**) between the response variable and the $j$th regressor."
   ]
  },
  {
   "cell_type": "markdown",
   "id": "bdc96540",
   "metadata": {},
   "source": [
    "Furthermore, given a specified level of confidence where $\\alpha$ is the significance level, we can construct approximate $(1 - \\alpha) \\times 100\\%$ **confidence intervals** for the corresponding true value of $\\beta_j^{(u, v)}$:\n",
    "\n",
    "```{math}\n",
    "\\begin{equation*}\n",
    "\\hat{\\beta}_j^{(u, v)} \\pm z_{\\alpha/2}\\mbox{se} \\left( \\hat{\\beta}_j^{(u, v)} \\right),\n",
    "\\end{equation*}\n",
    "```\n",
    "\n",
    "where $z_{\\alpha/2}$ is the upper $\\alpha/2$ quantile of the **Standard Normal distribution**."
   ]
  },
  {
   "cell_type": "markdown",
   "id": "6587ad60",
   "metadata": {},
   "source": [
    "### Model Selection"
   ]
  },
  {
   "cell_type": "markdown",
   "id": "beb4fa22",
   "metadata": {},
   "source": [
    "**To perform model selection**, we can use the same techniques from the Binary Logistic regression model (check {ref}`bin-log-model-selection-app`)."
   ]
  },
  {
   "cell_type": "markdown",
   "id": "df1b8328",
   "metadata": {
    "slideshow": {
     "slide_type": "slide"
    }
   },
   "source": [
    "## Negative Binomial Regression"
   ]
  },
  {
   "cell_type": "markdown",
   "id": "bab55547",
   "metadata": {},
   "source": [
    "Let\n",
    "\n",
    "$$Y_i \\sim \\text{Negative Binomial} (m, p_i) \\quad \\text{for} \\quad i = 1, \\dots, n.$$\n",
    "\n",
    "From **DSCI 551**, recall that a Negative Binomial distribution has the following probability mass function (PMF):\n",
    "\n",
    "```{math}\n",
    ":label: nb-pdf-app\n",
    "\\begin{equation}\n",
    "P(Y_i = y_i \\mid m, p_i) = {m - 1 + y_i \\choose y_i} p_i^{m} (1 - p_i)^{y_i} \\quad \\text{for} \\quad y_i = 0, 1, \\dots\n",
    "\\end{equation}\n",
    "```"
   ]
  },
  {
   "cell_type": "markdown",
   "id": "1c7f4d38",
   "metadata": {},
   "source": [
    "A Negative Binomial random variable depicts **the number of $y_i$ failed independent Bernoulli trials before experiencing $m$ successes** with a probability of success $p_i$.\n",
    "\n",
    "This distribution has the following mean and variance:\n",
    "\n",
    "```{math}\n",
    "\\begin{gather*}\n",
    "\\mathbb{E}(Y_i) = \\frac{m(1 - p_i)}{p_i} \\\\\n",
    "\\text{Var}(Y_i) = \\frac{m(1 - p_i)}{p_i^2}.\n",
    "\\end{gather*}\n",
    "```"
   ]
  },
  {
   "cell_type": "markdown",
   "id": "c3626d71",
   "metadata": {},
   "source": [
    "### Reparametrization "
   ]
  },
  {
   "cell_type": "markdown",
   "id": "141bf26e",
   "metadata": {},
   "source": [
    "Under the following parametrization:\n",
    "\n",
    "```{math}\n",
    ":label: nb-param-app\n",
    "\\begin{equation}\n",
    "\\lambda_i = \\frac{m (1 - p_i)}{p_i} \\qquad \\Rightarrow \\qquad p_i = \\frac{m}{m + \\lambda_i},\n",
    "\\end{equation}\n",
    "```\n",
    "\n",
    "the mean and variance of a Negative Binomial random variable can be reexpressed as\n",
    "\n",
    "```{math}\n",
    ":label: nb-mean-variance-app\n",
    "\\begin{gather}\n",
    "\\mathbb{E}(Y_i) = \\lambda_i \\\\\n",
    "\\text{Var}(Y_i) = \\lambda_i \\left( 1 + \\frac{\\lambda_i}{m} \\right).\n",
    "\\end{gather}\n",
    "```"
   ]
  },
  {
   "cell_type": "markdown",
   "id": "5833e780",
   "metadata": {
    "slideshow": {
     "slide_type": "slide"
    }
   },
   "source": [
    "This reparametrized variance indicates that a Negative Binomial random variable allows for overdispersion through factor $\\left( 1 + \\frac{\\lambda_i}{m} \\right)$.\n",
    "\n",
    "Finally, by applying parametrization {eq}`nb-param-app` in PMF {eq}`nb-pdf-app`, we have the following:\n",
    "\n",
    "```{math}\n",
    ":label: nb-alt-pdf-app\n",
    "\\begin{align}\n",
    "P(Y_i = y_i \\mid m, p_i) &= {m - 1 + y_i \\choose y_i} p_i^{m} (1 - p_i)^{y_i} \\\\\n",
    "&= \\frac{(m + y_i - 1)!}{y_i! (m - 1 )!} \\left( \\frac{m}{m + \\lambda} \\right)^{m} \\left( 1 - \\frac{m}{m + \\lambda} \\right)^{y_i} \\\\\n",
    "&= \\frac{\\Gamma(y_i + m)}{\\Gamma(y_i + 1) \\Gamma(m)} \\left( \\frac{m}{m + \\lambda} \\right)^{m} \\left( 1 - \\frac{m}{m + \\lambda} \\right)^{y_i},\n",
    "\\end{align}\n",
    "```\n",
    "\n",
    "where $\\Gamma(\\cdot)$ is the [**Gamma function**](https://www.statlect.com/mathematical-tools/gamma-function). We actually use the property \n",
    "\n",
    "$$\\Gamma(a) = (a - 1)!,$$ \n",
    "\n",
    "where $a \\geq 1$ is an integer."
   ]
  },
  {
   "cell_type": "markdown",
   "id": "3bb407d1",
   "metadata": {},
   "source": [
    "### Data Modelling Framework"
   ]
  },
  {
   "cell_type": "markdown",
   "id": "949565f5",
   "metadata": {
    "slideshow": {
     "slide_type": "slide"
    }
   },
   "source": [
    "As in the case of Poisson regression with $k$ regressors, the Negative Binomial case is a GLM with the following link function:\n",
    "\n",
    "```{math}\n",
    ":label: nb-model-app\n",
    "\\begin{equation}\n",
    "h(\\lambda_i) = \\log(\\lambda_i) = \\beta_0 + \\beta_1 X_{i,1} + \\dots + \\beta_k X_{i,k}.\n",
    "\\end{equation}\n",
    "```\n",
    "Lastly, note the following: \n",
    "\n",
    "- From {eq}`nb-mean-variance-app`, let $\\theta = \\frac{1}{m}$. Then, Negative Binomial regression will assume the following variance:\n",
    "\n",
    "```{math}\n",
    "\\begin{align*}\n",
    "\\text{Var}(Y_i) &= \\lambda_i \\left( 1 + \\frac{\\lambda_i}{m} \\right) \\\\\n",
    "&= \\lambda_i + \\frac{\\lambda_i^2}{m} \\\\\n",
    "&= \\lambda_i + \\theta \\lambda_i^2.\n",
    "\\end{align*}\n",
    "```"
   ]
  },
  {
   "cell_type": "markdown",
   "id": "d14b7184",
   "metadata": {},
   "source": [
    "Therefore, the model has even more flexibility to deal with overdispersion compared to Poisson regression."
   ]
  },
  {
   "cell_type": "markdown",
   "id": "c4b1d7b5",
   "metadata": {},
   "source": [
    "### Estimation"
   ]
  },
  {
   "cell_type": "markdown",
   "id": "0410e373",
   "metadata": {
    "slideshow": {
     "slide_type": "slide"
    }
   },
   "source": [
    "Via a training set of size $n$ whose responses are **independent counts** $Y_i$ ($i = 1, \\dots, n$), we use the reparametrized PMF {eq}`nb-alt-pdf-app` along with the link function {eq}`nb-model-app` via **maximum likelihood estimation** to obtain $\\hat{\\beta}_0, \\hat{\\beta}_1, \\dots, \\hat{\\beta}_k, \\hat{\\theta}$.\n",
    "  \n",
    "To fit a Negative Binomial regression via `R`, we can use the function `glm.nb()` from package `MASS`."
   ]
  },
  {
   "cell_type": "markdown",
   "id": "371de4e3",
   "metadata": {},
   "source": [
    "### Inference, Coefficient Interpretation, Prediction, Goodness of Fit, and Model Selection"
   ]
  },
  {
   "cell_type": "markdown",
   "id": "5edc7634",
   "metadata": {
    "slideshow": {
     "slide_type": "slide"
    }
   },
   "source": [
    "Since the link function in Negative Binomial regression is the same as in Poisson regression; **inference, coefficient interpretation, and prediction are performed similarly** (even with the same `broom` functions!). Regarding **model selection**, since we use a regular maximum likelihood approach to estimate the regression parameters, we can use analysis of deviance, AIC, and BIC to perform model selection and/or goodness of fit testing."
   ]
  },
  {
   "cell_type": "markdown",
   "id": "ad44ffd9",
   "metadata": {},
   "source": [
    "## Ordinal Logistic Regression"
   ]
  },
  {
   "cell_type": "markdown",
   "id": "745f97f8",
   "metadata": {},
   "source": [
    "### Data Modelling Framework"
   ]
  },
  {
   "cell_type": "markdown",
   "id": "6f149246",
   "metadata": {
    "slideshow": {
     "slide_type": "slide"
    }
   },
   "source": [
    "Let us suppose that a given **discrete ordinal response** $Y_i$ (for $i = 1, \\dots, n$) has categories $1, 2, \\dots, m$ in a training set of size $n$."
   ]
  },
  {
   "cell_type": "markdown",
   "id": "125e19b3",
   "metadata": {},
   "source": [
    "Categories $1, 2, \\dots, m$ **implicate an ordinal scale here**, i.e., $1 < 2 < \\dots < m$.\n",
    "\n",
    "Also, note there is more than one class of Ordinal Logistic regression. We will review the **proportional odds** model (a **cumulative logit model**)."
   ]
  },
  {
   "cell_type": "markdown",
   "id": "250c2e84",
   "metadata": {
    "slideshow": {
     "slide_type": "skip"
    }
   },
   "source": [
    "We have to point out that Ordinal Logistic regression will indicate how each one of the $k$ regressors $X_{i,1}, \\dots, X_{i,k}$ affects the **cumulative logarithm of the odds** in the ordinal response  for the following $m - 1$ situations:\n",
    "\n",
    "```{math}\n",
    "\\begin{gather*}\n",
    "\\text{Level } m - 1 \\text{ or any lesser degree versus level } m\\\\\n",
    "\\text{Level } m - 2 \\text{ or any lesser degree versus level } m - 1 \\text{ or any higher degree}\\\\\n",
    "\\vdots \\\\\n",
    "\\text{Level } 2 \\text{ or any lesser degree versus level } 3 \\text{ or any higher degree}\\\\\n",
    "\\text{Level } 1 \\text{ versus level } 2 \\text{ or any higher degree}\\\\\n",
    "\\end{gather*}\n",
    "```"
   ]
  },
  {
   "cell_type": "markdown",
   "id": "a12d5caa",
   "metadata": {},
   "source": [
    "These $m - 1$ situations are translated into cumulative probabilities using the logarithms of the odds on the left-hand side ($m - 1$ link functions) subject to the linear combination of the $k$ regressors $X_{i,j}$ (for $j = 1, \\dots, k$):\n",
    "\n",
    "```{math}\n",
    "\\begin{gather*}\n",
    "\\eta_i^{(m - 1)} = \\log\\left[\\frac{P(Y_i \\leq m - 1 \\mid X_{i,1}, \\ldots, X_{i,k})}{P(Y_i = m \\mid X_{i,1}, \\ldots, X_{i,k})}\\right] = \\beta_0^{(m - 1)} - \\beta_1 X_{i, 1} - \\beta_2 X_{i, 2} - \\ldots - \\beta_k X_{i, k} \\\\\n",
    "\\eta_i^{(m - 2)} = \\log\\left[\\frac{P(Y_i \\leq m - 2 \\mid X_{i,1}, \\ldots, X_{i,k})}{P(Y_i > m - 2 \\mid X_{i,1}, \\ldots, X_{i,k})}\\right] = \\beta_0^{(m - 2)} - \\beta_1 X_{i, 1} - \\beta_2 X_{i, 2} - \\ldots - \\beta_k X_{i, k} \\\\\n",
    "\\vdots \\\\\n",
    "\\eta_i^{(2)} = \\log\\left[\\frac{P(Y_i \\leq 2 \\mid X_{i,1}, \\ldots, X_{i,k})}{P(Y_i > 2 \\mid X_{i,1}, \\ldots, X_{i,k})}\\right] = \\beta_0^{(2)} - \\beta_1 X_{i, 1} - \\beta_2 X_{i, 2} - \\ldots - \\beta_k X_{i, k} \\\\\n",
    "\\eta_i^{(1)} = \\log\\left[\\frac{P(Y_i = 1 \\mid X_{i,1}, \\ldots, X_{i,k})}{P(Y_i > 1 \\mid X_{i,1}, \\ldots, X_{i,k})}\\right] = \\beta_0^{(1)} - \\beta_1 X_{i, 1} - \\beta_2 X_{i, 2} - \\ldots - \\beta_k X_{i, k}.\n",
    "\\end{gather*}\n",
    "```"
   ]
  },
  {
   "cell_type": "markdown",
   "id": "5a8e3696",
   "metadata": {},
   "source": [
    "Note that the system above has $m - 1$ intercepts but **only $k$ regression coefficients**. In general, the previous $m - 1$ equations can be generalized for levels $j = m - 1, \\dots, 1$ as follows:\n",
    "\n",
    "```{math}\n",
    "\\begin{gather*}\n",
    "\\eta_i^{(j)} = \\log\\left[\\frac{P(Y_i \\leq j \\mid X_{i,1}, \\ldots, X_{i,k})}{P(Y_i > j \\mid X_{i,1}, \\ldots, X_{i,k})}\\right] = \\beta_0^{(j)} - \\beta_1 X_{i, 1} - \\beta_2 X_{i, 2} - \\ldots - \\beta_k X_{i, k} \\\\\n",
    "\\; \\; \\; \\; \\; \\; \\; \\; \\Rightarrow \\; P(Y_i \\leq j \\mid X_{i,1}, \\ldots, X_{i,k}) = \\frac{\\exp\\left(\\beta_0^{(j)} - \\beta_1 X_{i, 1} - \\beta_2 X_{i, 2} - \\ldots - \\beta_k X_{i, k}\\right)}{1 + \\exp\\left(\\beta_0^{(j)} - \\beta_1 X_{i, 1} - \\beta_2 X_{i, 2} - \\ldots - \\beta_k X_{i, k}\\right)}.\n",
    "\\end{gather*}\n",
    "```"
   ]
  },
  {
   "cell_type": "markdown",
   "id": "bf92ba12",
   "metadata": {},
   "source": [
    "The probability that $Y_i$ will fall in the category $j$ can be computed as follows:\n",
    "\n",
    "$$\n",
    "p_{i,j} = P(Y_i = j \\mid X_{i,1}, \\ldots, X_{i,k}) = P(Y_i \\leq j \\mid X_{i,1}, \\ldots, X_{i,k}) - P(Y_i \\leq j - 1 \\mid X_{i,1}, \\ldots, X_{i,k}),\n",
    "$$\n",
    "\n",
    "which leads to\n",
    "\n",
    "$$\n",
    "P(Y_i = 1) = p_{i,1} \\;\\;\\;\\; P(Y_i = 2) = p_{i,2} \\;\\; \\dots \\;\\; P(Y_i = m) = p_{i,m},\n",
    "$$\n",
    "\n",
    "where\n",
    "\n",
    "$$\n",
    "\\sum_{j = 1}^m p_{i,j} = p_{i,1} + p_{i,2} + \\dots + p_{i,m} = 1.\n",
    "$$"
   ]
  },
  {
   "cell_type": "markdown",
   "id": "ba07387d",
   "metadata": {},
   "source": [
    "### Estimation"
   ]
  },
  {
   "cell_type": "markdown",
   "id": "cf935f93",
   "metadata": {
    "slideshow": {
     "slide_type": "slide"
    }
   },
   "source": [
    "**All parameters** in the Ordinal Logistic regression model are also unknown. Therefore, model estimates are obtained through **maximum likelihood**, where we also assume a **Multinomial joint probability mass function** of the $n$ responses $Y_i$.\n",
    "\n",
    "To fit the model with the package `MASS`, we use the function `polr()`, which obtains the corresponding estimates. The argument `Hess = TRUE` is required to compute the [Hessian matrix](https://mathworld.wolfram.com/Hessian.html) of the **log-likelihood function**, which is used to obtain the standard errors of the estimates."
   ]
  },
  {
   "cell_type": "markdown",
   "id": "27dbcb61",
   "metadata": {},
   "source": [
    "### Inference"
   ]
  },
  {
   "cell_type": "markdown",
   "id": "0b831012",
   "metadata": {},
   "source": [
    "**We can determine whether a regressor is statistically associated with the logarithm of the cumulative odds** through hypothesis testing for the parameters $\\beta_j$. We also use the **Wald statistic** $z_j:$\n",
    "\n",
    "$$\n",
    "z_j = \\frac{\\hat{\\beta}_j}{\\mbox{se}(\\hat{\\beta}_j)}\n",
    "$$\n",
    "\n",
    "to test the hypotheses\n",
    "\n",
    "```{math}\n",
    "\\begin{gather*}\n",
    "H_0: \\beta_j = 0\\\\\n",
    "H_a: \\beta_j \\neq 0.\n",
    "\\end{gather*}\n",
    "```\n",
    "\n",
    "The **null hypothesis** $H_0$ indicates that the $j$th regressor associated to $\\beta_j$ does not affect the response variable in the model, and the **alternative hypothesis** $H_a$ otherwise. Moreover, provided the sample size $n$ is large enough, $z_j$ has an **approximately Standard Normal distribution** under $H_0$."
   ]
  },
  {
   "cell_type": "markdown",
   "id": "cf505228",
   "metadata": {},
   "source": [
    "`R` provides the corresponding **$p$-values** for each $\\beta_j$. The smaller the $p$-value, the stronger the evidence against the null hypothesis $H_0$. As in the previous regression models, we would set a predetermined significance level $\\alpha$ (usually taken to be 0.05) to infer if the $p$-value is small enough. If the $p$-value is smaller than the predetermined level $\\alpha$, then you could claim that there is evidence to reject the null hypothesis. Hence, $p$-values that are small enough indicate that the data provides evidence in favour of **association** (**or causation in the case of an experimental study!**) between the response variable and the $j$th regressor."
   ]
  },
  {
   "cell_type": "markdown",
   "id": "5eade054",
   "metadata": {},
   "source": [
    "Furthermore, given a specified level of confidence where $\\alpha$ is the significance level, we can construct approximate $(1 - \\alpha) \\times 100\\%$ **confidence intervals** for the corresponding true value of $\\beta_j$:\n",
    "\n",
    "$$\n",
    "\\hat{\\beta}_j \\pm z_{\\alpha/2}\\mbox{se}(\\hat{\\beta}_j),\n",
    "$$\n",
    "\n",
    "where $z_{\\alpha/2}$ is the upper $\\alpha/2$ quantile of the **Standard Normal distribution**."
   ]
  },
  {
   "cell_type": "markdown",
   "id": "84ac522d",
   "metadata": {},
   "source": [
    "### Model Selection"
   ]
  },
  {
   "cell_type": "markdown",
   "id": "9ffed5a9",
   "metadata": {},
   "source": [
    "**To perform model selection**, we can use the same techniques from the Binary Logistic regression model (check {ref}`bin-log-model-selection-app`)."
   ]
  },
  {
   "cell_type": "markdown",
   "id": "64566288",
   "metadata": {},
   "source": [
    "## Ordinary Least-squares Regression"
   ]
  },
  {
   "cell_type": "markdown",
   "id": "88006a31",
   "metadata": {},
   "source": [
    "###  Data Modelling Framework"
   ]
  },
  {
   "cell_type": "markdown",
   "id": "384dc3dd",
   "metadata": {},
   "source": [
    "Conceptually, the OLS regression model can be expressed as:\n",
    "\n",
    "$$\n",
    "\\mbox{Response} = \\mbox{Systematic Component} + \\mbox{Random Component}.\n",
    "$$ (eq-conceptual_model-app)\n",
    "\n",
    "For the $i$th observation in our **random sample** or **training data** ($i = 1, \\dots, n$), the conceptual model {eq}`eq-conceptual_model-app` is mathematically represented as:\n",
    "\n",
    "$$\n",
    "\\underbrace{Y_i}_\\text{Response}  = \\underbrace{\\beta_0 + \\beta_1 g_1(X_{i, 1}) + \\ldots + \\beta_k g_k(X_{i,k})}_\\text{Systematic Component} + \\underbrace{\\varepsilon_i.}_\\text{Random Component}\n",
    "$$ (eq-OLS_model-app)"
   ]
  },
  {
   "cell_type": "markdown",
   "id": "56a173d7",
   "metadata": {},
   "source": [
    "Note the following:\n",
    "\n",
    "- The response $Y_i$ is equal to the sum of $k + 2$ terms.\n",
    "- The systematic component is the sum of:\n",
    "    - An **unknown intercept** $\\beta_0$ and\n",
    "    - $k$ **regressor functions** $g_j(X_{i,j})$ multiplied by their respective **unknown regression coefficient** $\\beta_j$ ($j = 1, \\dots, k$).\n",
    "- $\\varepsilon_i$ is the **random noise** with the following assumptions:"
   ]
  },
  {
   "cell_type": "markdown",
   "id": "1cbaf187",
   "metadata": {},
   "source": [
    "###  Modelling Assumptions"
   ]
  },
  {
   "cell_type": "markdown",
   "id": "ed9357ea",
   "metadata": {},
   "source": [
    "For the **random component** in {eq}`eq-OLS_model-app`, we assume the following:\n",
    "\n",
    "```{math}\n",
    "\\begin{gather*}\n",
    "\\mathbb{E}(\\varepsilon_i) = 0 \\\\\n",
    "\\text{Var}(\\varepsilon_i) = \\sigma^2 \\\\\n",
    "\\varepsilon_i \\sim \\mathcal{N}(0, \\sigma^2) \\\\\n",
    "\\varepsilon_i \\perp \\!\\!\\! \\perp \\varepsilon_k \\; \\; \\; \\; \\text{for} \\; i \\neq k  \\; \\; \\; \\; \\text{(independence)}.\n",
    "\\end{gather*}\n",
    "```"
   ]
  },
  {
   "cell_type": "markdown",
   "id": "9e5ae585",
   "metadata": {},
   "source": [
    "Hence, **each $Y_i$ is also assumed to be independent and normally distributed**:\n",
    "\n",
    "$$\n",
    "Y_i \\mid X_{i, j} \\sim \\mathcal{N} \\big( \\beta_0 + \\beta_1 g_1(X_{i, 1}) + \\ldots + \\beta_k g_k(X_{i,k}), \\sigma^2 \\big).\n",
    "$$"
   ]
  },
  {
   "cell_type": "markdown",
   "id": "193eb95f",
   "metadata": {},
   "source": [
    "###  Definition of Linearity"
   ]
  },
  {
   "cell_type": "markdown",
   "id": "4b06b1b8",
   "metadata": {},
   "source": [
    "The classical OLS model, from **DSCI 561**, implicates the identity function $g_j(X_{i, j}) = X_{i, j}$ in equation \n",
    "{eq}`eq-OLS_model-app`. This leads to:\n",
    "\n",
    "```{math}\n",
    "\\begin{align*}\n",
    "Y_i &= \\beta_0 + \\beta_1 g_1(X_{i, 1}) + \\ldots + \\beta_k g_k(X_{i,k}) + \\varepsilon_i \\\\\n",
    "&= \\beta_0 + \\beta_1 X_{i,1} + \\ldots + \\beta_k X_{i,k} + \\varepsilon_i.\n",
    "\\end{align*}\n",
    "```\n",
    "\n",
    "Note the model is \"linear\" on the parameters (i.e., regression terms), not the regressors."
   ]
  },
  {
   "cell_type": "markdown",
   "id": "a4f4f16f",
   "metadata": {},
   "source": [
    "### Inference"
   ]
  },
  {
   "cell_type": "markdown",
   "id": "d881619a",
   "metadata": {},
   "source": [
    "In terms of inference, we use the fitted model to identify the relationship between the response and regressors. We will need the $j$th estimated regression coefficient $\\hat{\\beta}_j$ and its corresponding variability which is reflected in the **standard error** of the estimate, $\\mbox{se} \\left( \\hat{\\beta}_j \\right)$. To determine the statistical significance of $\\hat{\\beta}_j$, we use the **test statistic**\n",
    "\n",
    "$$t_j = \\frac{\\hat{\\beta}_j}{\\mbox{se} \\left( \\hat{\\beta}_j \\right)}$$\n",
    "\n",
    "\n",
    "to test the hypotheses\n",
    "\n",
    "```{math}\n",
    "\\begin{gather*}\n",
    "H_0: \\beta_j = 0 \\\\\n",
    "H_a: \\beta_j \\neq 0.\n",
    "\\end{gather*}\n",
    "```"
   ]
  },
  {
   "cell_type": "markdown",
   "id": "836c9a1e",
   "metadata": {},
   "source": [
    "A statistic like $t_j$ is referred to as a $t$-value. It has a $t$-distribution **under the null hypothesis** $H_0$ with $n - k - 1$ degrees of freedom.\n",
    "\n",
    "We can obtain the corresponding $p$-values for each $\\beta_j$ associated to the $t$-values under the null hypothesis $H_0$. **The smaller the $p$-value, the stronger the evidence against the null hypothesis $H_0$ in our sample**. Hence, small $p$-values (less than the significance level $\\alpha$) indicate that the data provides evidence in favour of association (or **causation** if that is the case) between the response variable and the $j$th regressor. "
   ]
  },
  {
   "cell_type": "markdown",
   "id": "edd07cd9",
   "metadata": {
    "slideshow": {
     "slide_type": "slide"
    }
   },
   "source": [
    "Similarly, given a specified $(1-\\alpha) \\times 100\\%$ level of confidence, we can construct **confidence intervals** for the corresponding true value of $\\beta_j$:\n",
    "\n",
    "$$\n",
    "\\hat{\\beta}_j \\pm t_{\\alpha/2, n - k - 1}\\mbox{se} \\left( \\hat{\\beta}_j \\right),\n",
    "$$\n",
    "\n",
    "where $t_{\\alpha/2, n - k - 1}$ is the upper $\\alpha/2$ quantile of the $t$-distribution with $n - k - 1$ degrees of freedom."
   ]
  },
  {
   "cell_type": "markdown",
   "id": "bdebd443",
   "metadata": {},
   "source": [
    "## Poisson Regression"
   ]
  },
  {
   "cell_type": "markdown",
   "id": "2a041b9d",
   "metadata": {},
   "source": [
    "### Data Modelling Framework"
   ]
  },
  {
   "cell_type": "markdown",
   "id": "0d1a43c8",
   "metadata": {},
   "source": [
    "Besides OLS and Binary Logistic regressions, another alternative is count data modelling, as in **Poisson regression**. Unlike Binary Logistic regression, **we use counts as a response variable**. Hence, we have to modify the modelling framework to consider this fact. Poisson regression would be the primary resource when it comes to modelling counts. Note this model also fits into the GLM class. "
   ]
  },
  {
   "cell_type": "markdown",
   "id": "53a7e246",
   "metadata": {},
   "source": [
    "> What is the distributional key difference between the Poisson and the OLS regression models in terms of the response? \n",
    "\n",
    "First of all, we have to specify what a Poisson random variable is. Recall **DSCI 551**, a Poisson random variable refers to discrete data with non-negative integer values that count something. **These counts could happen during a given timeframe or even a space such as a geographic unit!** "
   ]
  },
  {
   "cell_type": "markdown",
   "id": "6bee38b6",
   "metadata": {
    "slideshow": {
     "slide_type": "slide"
    }
   },
   "source": [
    "The Poisson regression model assumes a random sample of $n$ count observations $Y_i$s, hence **independent** (**but not identically distributed!**), which have the following distribution:\n",
    "\n",
    "$$Y_i \\sim \\text{Poisson}(\\lambda_i).$$\n",
    "\n",
    "Each $i$th observation has its own $\\mathbb{E}(Y_i) = \\lambda_i > 0$, which also implicates $\\text{Var}(Y_i) = \\lambda_i > 0$."
   ]
  },
  {
   "cell_type": "markdown",
   "id": "9ffb3231",
   "metadata": {},
   "source": [
    "The equality of the expected value and variance in a random variable is called **equidispersion**. Parameter $\\lambda_i$ is the risk of an event occurrence, coming from the definition of the Poisson random variable, **in a given timeframe or even a space**. Furthermore, we have to highlight another particularity in the Poisson distribution: **$\\lambda_i$ is a continuous distributional parameter!**\n"
   ]
  },
  {
   "cell_type": "markdown",
   "id": "de65dc80",
   "metadata": {},
   "source": [
    "Let us generalize the Poisson regression model with $k$ regressors as:\n",
    "\n",
    "```{math}\n",
    ":label: poisson-model-app\n",
    "\\begin{equation*}\n",
    "h(\\lambda_i) = \\log(\\lambda_i) = \\beta_0 + \\beta_1 X_{i,1} + \\dots + \\beta_k X_{i,k}.\n",
    "\\end{equation*}\n",
    "```"
   ]
  },
  {
   "cell_type": "markdown",
   "id": "fc87bbbd",
   "metadata": {
    "slideshow": {
     "slide_type": "slide"
    }
   },
   "source": [
    "In model {eq}`poisson-model-app`, each one of the $k$ regression coefficients $\\beta_{1}, \\dots, \\beta_{k}$ represents **the expected change in the natural logarithm of the mean $\\lambda_i$ per unit change in their respective regressors $X_{i,1}, \\dots, X_{i,k}$**. Nonetheless, we could make more sense in the interpretation by exponentiating {eq}`poisson-model-app`:\n",
    "\n",
    "$$\n",
    "\\lambda_i = \\exp{(\\beta_0 + \\beta_1 X_{i,1} + \\dots + \\beta_k X_{i,k})},\n",
    "$$\n",
    "\n",
    "where an increase in one unit in any of the $k$ regressors (**while keeping the rest of them constant**) **multiplies the mean $\\lambda_i$ by a factor $\\exp{(\\beta_j)}$, for all $j = 1, \\dots, k$**."
   ]
  },
  {
   "cell_type": "markdown",
   "id": "c1b46d64",
   "metadata": {},
   "source": [
    "As a side note, we have to clarify that the **systematic component** in the Poisson regression model is explicitly depicted by the regressors and their coefficients as in multiple linear regression. The **random component** is implicitly contained in each random variable \n",
    "\n",
    "$$Y_i \\sim \\text{Poisson}(\\lambda_i).$$"
   ]
  },
  {
   "cell_type": "markdown",
   "id": "53c20d3f",
   "metadata": {},
   "source": [
    "### Estimation"
   ]
  },
  {
   "cell_type": "markdown",
   "id": "822693db",
   "metadata": {
    "slideshow": {
     "slide_type": "slide"
    }
   },
   "source": [
    "Under a general framework with $k$ regressors, the **regression parameters** $\\beta_0, \\beta_1, \\dots, \\beta_k$ in the model are also unknown. In order to estimate them, we will use function `glm()` and its argument `family = poisson` (required to specify the Poisson nature of the response), which obtains the estimates $\\hat{\\beta}_0, \\hat{\\beta}_1, \\dots \\hat{\\beta}_k$.\n",
    "\n",
    "The estimates are obtained through **maximum likelihood** where we assume a **Poisson joint probability mass function** of the $n$ responses $Y_i$."
   ]
  },
  {
   "cell_type": "markdown",
   "id": "c00b3ab4",
   "metadata": {},
   "source": [
    "For the sake of coding clarity, you could also use `family = poisson(link = \"log\")`. Nevertheless, `link = \"log\"` is a default in `glm()` for Poisson regression. Thus, `family = poisson` suffices when using the logarithmic link function."
   ]
  },
  {
   "cell_type": "markdown",
   "id": "aefd1712",
   "metadata": {},
   "source": [
    "### Inference"
   ]
  },
  {
   "cell_type": "markdown",
   "id": "70c9f7d0",
   "metadata": {},
   "source": [
    "**The fitted regression model will be used to identify the relationship between the logarithm of the response's mean and regressors.** To determine the **statistical significance** of $\\beta_j$ in this model, we also use the **Wald statistic**:\n",
    "\n",
    "$$\n",
    "z_j = \\frac{\\hat{\\beta}_j}{\\mbox{se} \\left( \\hat{\\beta}_j \\right)}\n",
    "$$\n",
    "\n",
    "to test the hypotheses\n",
    "\n",
    "```{math}\n",
    "\\begin{gather*}\n",
    "H_0: \\beta_j = 0 \\\\\n",
    "H_a: \\beta_j \\neq 0;\n",
    "\\end{gather*}\n",
    "```\n",
    "where the **null hypothesis** $H_0$ indicates that the $j$th regressor associated to $\\beta_j$ does not have any association on the response variable in the model, and the **alternative hypothesis** $H_a$ otherwise. Provided the sample size $n$ is large enough, $z_j$ has an **approximately Standard Normal distribution** under $H_0$."
   ]
  },
  {
   "cell_type": "markdown",
   "id": "4b540396",
   "metadata": {},
   "source": [
    "`R` provides the corresponding **$p$-values** for each $\\beta_j$. The smaller the $p$-value, the stronger the evidence against the null hypothesis $H_0$. As in the previous regression models, we would set a predetermined significance level $\\alpha$ to infer if the $p$-value is small enough. If the $p$-value is smaller than the predetermined level $\\alpha$, then we could claim that there is evidence to reject the null hypothesis. Hence, $p$-values that are small enough indicate that the data provides evidence in favour of **association** (**or causation in the case of an experimental study!**) between the response variable and the $j$th regressor."
   ]
  },
  {
   "cell_type": "markdown",
   "id": "2b6b7d51",
   "metadata": {},
   "source": [
    "Furthermore, given a specified level of confidence where $\\alpha$ is the significance level, we can construct approximate $(1 - \\alpha) \\times 100\\%$ **confidence intervals** for the corresponding true value of $\\beta_j$:\n",
    "\n",
    "$$\n",
    "\\hat{\\beta}_j \\pm z_{\\alpha/2}\\mbox{se} \\left( \\hat{\\beta}_j \\right),\n",
    "$$\n",
    "\n",
    "where $z_{\\alpha/2}$ is the upper $\\alpha/2$ quantile of the **Standard Normal distribution**."
   ]
  },
  {
   "cell_type": "markdown",
   "id": "94754327",
   "metadata": {},
   "source": [
    "###  Model Selection"
   ]
  },
  {
   "cell_type": "markdown",
   "id": "f541cce4",
   "metadata": {},
   "source": [
    "#### Goodness of Fit Test"
   ]
  },
  {
   "cell_type": "markdown",
   "id": "0b6f6266",
   "metadata": {
    "slideshow": {
     "slide_type": "slide"
    }
   },
   "source": [
    "The **deviance** ($D_k$) criterion can be used to compare a given model with $k$ regressors with that of a **baseline model**. The usual baseline model is the **saturated** or **full model**, which perfectly fits the data because it allows a distinct Poisson mean $\\lambda_i$ for the $i$th observation in the training dataset ($i = 1, \\dots, n$), **unrelated to the $k$ regressors**.\n"
   ]
  },
  {
   "cell_type": "markdown",
   "id": "8579cc74",
   "metadata": {
    "slideshow": {
     "slide_type": "fragment"
    }
   },
   "source": [
    "The **maximized likelihood** of this full model is denoted as $\\hat{\\mathscr{l}}_f$. Now, let $\\hat{\\mathscr{l}}_k$ be the value of the maximized likelihood computed from our dataset of $n$ observation with $k$ regressors.\n",
    "\n",
    "We can compare the fits provided by these two models by the deviance $D_k$ given by\n",
    "\n",
    "```{math}\n",
    ":label: deviance-general-app-2\n",
    "D_k = -2 \\log \\left( \\frac{\\hat{\\mathscr{l}}_k}{\\hat{\\mathscr{l}}_f} \\right) =  -2 \\left[ \\log \\left( \\hat{\\mathscr{l}}_k \\right) - \\log \\left( \\hat{\\mathscr{l}}_f \\right) \\right].\n",
    "```"
   ]
  },
  {
   "cell_type": "markdown",
   "id": "883bbb72",
   "metadata": {
    "slideshow": {
     "slide_type": "slide"
    }
   },
   "source": [
    "Note that $D_k$ expresses **how much our given model deviates from the full model on log-likelihood scale**. This metric is interpreted as follows:\n",
    "\n",
    "- **Large values** of $D_k$ arise when $\\hat{\\mathscr{l}}_k$ is small relative to $\\hat{\\mathscr{l}}_f$, indicating that **our given model fits the data poorly compared to the baseline model**.\n",
    "- **Small values** of $D_k$ arise when $\\hat{\\mathscr{l}}_k$ is similar to $\\hat{\\mathscr{l}}_f$, indicating that **our given model provides a good fit to the data compared to the baseline model**."
   ]
  },
  {
   "cell_type": "markdown",
   "id": "0abedec6",
   "metadata": {},
   "source": [
    "**Specifically for Poisson regression with $k$ regressors**, it can be shown that $D_k$ {eq}`deviance-general-app-2` is defined as follows:\n",
    "\n",
    "```{math}\n",
    ":label: deviance-poisson-app\n",
    "\\begin{gather}\n",
    "\\hat{\\lambda}_i = \\exp{\\left( \\hat{\\beta_0} + \\hat{\\beta}_1 x_{i,1} + \\dots + \\hat{\\beta}_k x_{i,k} \\right)} \\\\\n",
    "D_k = 2 \\sum_{i = 1}^n \\left[ y_i \\log \\left( \\frac{y_i}{\\hat{\\lambda}_i} \\right) - \\left( y_i - \\hat{\\lambda}_i \\right) \\right]\n",
    "\\end{gather}\n",
    "```\n",
    "\n",
    "where $y_i$ is the $i$th observed response in the training set of size $n$. Note that when $y_i = 0$ counts, then $\\log \\left( \\frac{y_i}{\\hat{\\lambda}_i} \\right)$ is assumed as $0$."
   ]
  },
  {
   "cell_type": "markdown",
   "id": "e2e42f38",
   "metadata": {},
   "source": [
    "Equation {eq}`deviance-poisson-app` depicts the agreement of our model with $k$ regressors to the observed data. Hence, we can use {eq}`deviance-poisson-app` to test the goodness of fit; i.e., **whether our fitted model fits the data better than the saturated model, which makes it correctly specified (with a level of significance $\\alpha$!)**.\n",
    "\n",
    "The hypothesis are the following:\n",
    "\n",
    "```{math}\n",
    "\\begin{gather*}\n",
    "H_0: \\text{Our}\\textbf{ Model with $k$ regressors} \\text{ fits the data better than the } \\textbf{Saturated Model} \\\\\n",
    "H_a: \\text{otherwise.}\n",
    "\\end{gather*}\n",
    "```"
   ]
  },
  {
   "cell_type": "markdown",
   "id": "a509d20c",
   "metadata": {
    "slideshow": {
     "slide_type": "slide"
    }
   },
   "source": [
    "We use the **residual deviance** $\\Delta_k$ as a **test statistic**. **Asymptotically**, we have the following **null distribution**:\n",
    "\n",
    "$$\n",
    "\\Delta_k \\sim \\chi^2_{n - (k + 1)}.\n",
    "$$"
   ]
  },
  {
   "cell_type": "markdown",
   "id": "181880e3",
   "metadata": {},
   "source": [
    "#### Analysis of Deviance for Nested Models"
   ]
  },
  {
   "cell_type": "markdown",
   "id": "faad68a9",
   "metadata": {
    "slideshow": {
     "slide_type": "fragment"
    }
   },
   "source": [
    "Suppose **Model 1** is nested in **Model 2**. Hence, this specific model selection will involve a hypothesis testing. The hypotheses are:\n",
    "\n",
    "```{math}\n",
    "\\begin{gather*}\n",
    "H_0: \\textbf{Model 1} \\text{ fits the data better than } \\textbf{Model 2} \\\\\n",
    "H_a: \\textbf{Model 2} \\text{ fits the data better than } \\textbf{Model 1}.\n",
    "\\end{gather*}\n",
    "```"
   ]
  },
  {
   "cell_type": "markdown",
   "id": "39302c43",
   "metadata": {
    "slideshow": {
     "slide_type": "slide"
    }
   },
   "source": [
    "Let $D_2$ be the deviance for **Model 2** and $D_1$ the deviance for **Model 1**. The test statistic $\\Delta_D$ for the analysis of deviance is given by:\n",
    "\n",
    "$$\n",
    "\\Delta_D = D_1 - D_2 \\sim \\chi^2_{d},\n",
    "$$\n",
    "\n",
    "which **assymptotically** (i.e., $n \\rightarrow \\infty$) is [**Chi-squared distributed**](https://www.math.wm.edu/~leemis/chart/UDR/PDFs/Chisquare.pdf) with $d$ degrees of freedom under $H_0$. The $d$ degrees of freedom are the **regression parameters of difference between both models**."
   ]
  },
  {
   "cell_type": "markdown",
   "id": "943e43b7",
   "metadata": {},
   "source": [
    "Formally, this nested hypothesis testing is called the **likelihood-ratio test**."
   ]
  },
  {
   "cell_type": "markdown",
   "id": "44743ce3",
   "metadata": {},
   "source": [
    "#### Akaike Information Criterion"
   ]
  },
  {
   "cell_type": "markdown",
   "id": "5e90eb20",
   "metadata": {
    "slideshow": {
     "slide_type": "slide"
    }
   },
   "source": [
    "**One of the drawbacks of the analysis of deviance** is that it only allows to test **nested** regression models when we have sparse data (i.e., each response is associated with a different set of values in the regressors).\n",
    "\n",
    "Fortunately, we have alternatives for model selection. **The Akaike Information Criterion (AIC) makes possible to compare models that are either nested or not.** For a model with $k$ model terms and a deviance $D_k$ is defined as:\n",
    "\n",
    "```{math}\n",
    "\\begin{equation}\n",
    "\\mbox{AIC}_k = D_k + 2k.\n",
    "\\end{equation}\n",
    "```\n",
    "\n",
    "Models with **smaller** values of $\\mbox{AIC}_k$ are preferred. That said, $\\mbox{AIC}_k$ favours models with small values of $D_k$."
   ]
  },
  {
   "cell_type": "markdown",
   "id": "22bc51ae",
   "metadata": {
    "slideshow": {
     "slide_type": "fragment"
    }
   },
   "source": [
    "However, $\\mbox{AIC}_k$ penalizes for including more regressors in the model. Hence, it discourages overfitting, which is key in model selection. This is why we select that model with the smallest $\\mbox{AIC}_k$."
   ]
  },
  {
   "cell_type": "markdown",
   "id": "305162eb",
   "metadata": {},
   "source": [
    "#### Bayesian Information Criterion"
   ]
  },
  {
   "cell_type": "markdown",
   "id": "3f45a9ce",
   "metadata": {
    "slideshow": {
     "slide_type": "slide"
    }
   },
   "source": [
    "An alternative to AIC is the Bayesian Information Criterion (BIC). **The BIC also makes possible to compare models that are either nested or not.** For a model with $k$ regressors, $n$ observations used for training, and a deviance $D_k$; it is defined as:\n",
    "\n",
    "```{math}\n",
    "\\mbox{BIC}_k = D_k + k \\log (n).\n",
    "```\n",
    "\n",
    "Models with **smaller** values of $\\mbox{BIC}_k$ are preferred. That said, $\\mbox{BIC}_k$ also favours models with small values of $D_k$."
   ]
  },
  {
   "cell_type": "markdown",
   "id": "92988f5a",
   "metadata": {
    "slideshow": {
     "slide_type": "slide"
    }
   },
   "source": [
    "The differences between AIC and BIC will be more pronounced in datasets with large sample sizes $n$. As the BIC penalty of $k \\log (n)$ will always be larger than the AIC penalty of $2k$ when $n > 7$, **BIC tends to select models with fewer regressors than AIC**."
   ]
  },
  {
   "cell_type": "markdown",
   "id": "f3d5c057",
   "metadata": {},
   "source": [
    "## Survival Function"
   ]
  },
  {
   "cell_type": "markdown",
   "id": "7dd62401",
   "metadata": {},
   "source": [
    "For this function, let us consider a **continuous** random variable \n",
    "\n",
    "$$Y = \\text{Time until an event occurs.}$$\n",
    "\n",
    "We know that the cumulative distribution function (CDF) of $Y$ tells us the probability that the event of interest occurs **before a certain point in time $t$**:\n",
    "\n",
    "$$\n",
    "F_Y(t) = P(Y \\leq t).\n",
    "$$\n",
    "\n",
    "However, as the name suggests, in Survival Analysis, we are more interested in the probability that the event **WILL NOT** occur before a certain point in time $t$ (i.e., **the subject survives at least at point $t$**):\n",
    "\n",
    "$$\n",
    "S_Y(t) = P(Y > t) = 1 - F_Y(t).\n",
    "$$\n",
    "\n",
    "$S_Y(t)$ is called the **survival function**."
   ]
  }
 ],
 "metadata": {
  "celltoolbar": "Tags",
  "kernelspec": {
   "display_name": "R",
   "language": "R",
   "name": "ir"
  },
  "language_info": {
   "codemirror_mode": "r",
   "file_extension": ".r",
   "mimetype": "text/x-r-source",
   "name": "R",
   "pygments_lexer": "r",
   "version": "4.4.0"
  }
 },
 "nbformat": 4,
 "nbformat_minor": 5
}

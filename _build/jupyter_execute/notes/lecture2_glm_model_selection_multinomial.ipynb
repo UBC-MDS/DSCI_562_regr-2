{
 "cells": [
  {
   "cell_type": "markdown",
   "metadata": {
    "editable": true,
    "slideshow": {
     "slide_type": "slide"
    },
    "tags": []
   },
   "source": [
    "# Lecture 2 - Generalized Linear Models: Model Selection and Multinomial Logistic Regression"
   ]
  },
  {
   "cell_type": "markdown",
   "metadata": {},
   "source": [
    "## Today's Learning Goals"
   ]
  },
  {
   "cell_type": "markdown",
   "metadata": {
    "slideshow": {
     "slide_type": "slide"
    }
   },
   "source": [
    "By the end of this lecture, you should be able to:\n",
    "\n",
    "- Perform likelihood-based model selection through analysis of deviance, Akaike Information Criterion, and Bayesian Information Criterion.\n",
    "- Extend the link function concept of the generalized linear models (GLMs) to other discrete categorical responses.\n",
    "- Outline the modelling framework of the Multinomial Logistic regression.\n",
    "- Fit and interpret the Multinomial Logistic regression.\n",
    "- Use the Multinomial Logistic regression for prediction."
   ]
  },
  {
   "cell_type": "markdown",
   "metadata": {},
   "source": [
    "## Loading Libraries"
   ]
  },
  {
   "cell_type": "code",
   "execution_count": 1,
   "metadata": {
    "editable": true,
    "slideshow": {
     "slide_type": "fragment"
    },
    "tags": [
     "remove-output"
    ]
   },
   "outputs": [
    {
     "name": "stderr",
     "output_type": "stream",
     "text": [
      "── \u001b[1mAttaching core tidyverse packages\u001b[22m ──────────────────────────────────────────────────────────────────────────────────────────────────────────────── tidyverse 2.0.0 ──\n",
      "\u001b[32m✔\u001b[39m \u001b[34mdplyr    \u001b[39m 1.1.4     \u001b[32m✔\u001b[39m \u001b[34mreadr    \u001b[39m 2.1.5\n",
      "\u001b[32m✔\u001b[39m \u001b[34mforcats  \u001b[39m 1.0.0     \u001b[32m✔\u001b[39m \u001b[34mstringr  \u001b[39m 1.5.1\n",
      "\u001b[32m✔\u001b[39m \u001b[34mggplot2  \u001b[39m 3.5.1     \u001b[32m✔\u001b[39m \u001b[34mtibble   \u001b[39m 3.2.1\n",
      "\u001b[32m✔\u001b[39m \u001b[34mlubridate\u001b[39m 1.9.3     \u001b[32m✔\u001b[39m \u001b[34mtidyr    \u001b[39m 1.3.1\n",
      "\u001b[32m✔\u001b[39m \u001b[34mpurrr    \u001b[39m 1.0.2     \n"
     ]
    },
    {
     "name": "stderr",
     "output_type": "stream",
     "text": [
      "── \u001b[1mConflicts\u001b[22m ────────────────────────────────────────────────────────────────────────────────────────────────────────────────────────────────── tidyverse_conflicts() ──\n",
      "\u001b[31m✖\u001b[39m \u001b[34mdplyr\u001b[39m::\u001b[32mfilter()\u001b[39m masks \u001b[34mstats\u001b[39m::filter()\n",
      "\u001b[31m✖\u001b[39m \u001b[34mdplyr\u001b[39m::\u001b[32mlag()\u001b[39m    masks \u001b[34mstats\u001b[39m::lag()\n",
      "\u001b[36mℹ\u001b[39m Use the conflicted package (\u001b[3m\u001b[34m<http://conflicted.r-lib.org/>\u001b[39m\u001b[23m) to force all conflicts to become errors\n"
     ]
    },
    {
     "name": "stderr",
     "output_type": "stream",
     "text": [
      "Loading required package: car\n",
      "\n"
     ]
    },
    {
     "name": "stderr",
     "output_type": "stream",
     "text": [
      "Loading required package: carData\n",
      "\n"
     ]
    },
    {
     "name": "stderr",
     "output_type": "stream",
     "text": [
      "\n",
      "Attaching package: ‘car’\n",
      "\n",
      "\n"
     ]
    },
    {
     "name": "stderr",
     "output_type": "stream",
     "text": [
      "The following object is masked from ‘package:dplyr’:\n",
      "\n",
      "    recode\n",
      "\n",
      "\n"
     ]
    },
    {
     "name": "stderr",
     "output_type": "stream",
     "text": [
      "The following object is masked from ‘package:purrr’:\n",
      "\n",
      "    some\n",
      "\n",
      "\n"
     ]
    },
    {
     "name": "stderr",
     "output_type": "stream",
     "text": [
      "Loading required package: lmtest\n",
      "\n"
     ]
    },
    {
     "name": "stderr",
     "output_type": "stream",
     "text": [
      "Loading required package: zoo\n",
      "\n"
     ]
    },
    {
     "name": "stderr",
     "output_type": "stream",
     "text": [
      "\n",
      "Attaching package: ‘zoo’\n",
      "\n",
      "\n"
     ]
    },
    {
     "name": "stderr",
     "output_type": "stream",
     "text": [
      "The following objects are masked from ‘package:base’:\n",
      "\n",
      "    as.Date, as.Date.numeric\n",
      "\n",
      "\n"
     ]
    },
    {
     "name": "stderr",
     "output_type": "stream",
     "text": [
      "Loading required package: sandwich\n",
      "\n"
     ]
    },
    {
     "name": "stderr",
     "output_type": "stream",
     "text": [
      "Loading required package: survival\n",
      "\n"
     ]
    },
    {
     "name": "stderr",
     "output_type": "stream",
     "text": [
      "\n",
      "Attaching package: ‘cowplot’\n",
      "\n",
      "\n"
     ]
    },
    {
     "name": "stderr",
     "output_type": "stream",
     "text": [
      "The following object is masked from ‘package:lubridate’:\n",
      "\n",
      "    stamp\n",
      "\n",
      "\n"
     ]
    },
    {
     "name": "stderr",
     "output_type": "stream",
     "text": [
      "\n",
      "Attaching package: ‘janitor’\n",
      "\n",
      "\n"
     ]
    },
    {
     "name": "stderr",
     "output_type": "stream",
     "text": [
      "The following objects are masked from ‘package:stats’:\n",
      "\n",
      "    chisq.test, fisher.test\n",
      "\n",
      "\n"
     ]
    }
   ],
   "source": [
    "options(repr.matrix.max.rows = 7)\n",
    "library(tidyverse)\n",
    "library(broom)\n",
    "library(glmbb)\n",
    "library(AER)\n",
    "library(bayesrules)\n",
    "library(cowplot)\n",
    "library(janitor)\n",
    "library(nnet)"
   ]
  },
  {
   "cell_type": "markdown",
   "metadata": {
    "editable": true,
    "slideshow": {
     "slide_type": ""
    },
    "tags": []
   },
   "source": [
    "## 1. Likelihood-based Model Selection"
   ]
  },
  {
   "cell_type": "markdown",
   "metadata": {
    "editable": true,
    "slideshow": {
     "slide_type": "slide"
    },
    "tags": []
   },
   "source": [
    "In **DSCI 561**, you learned about **model selection** in Ordinary Least-squares (OLS) via specific metrics such as the Mallow’s $C_p$, Akaike information criterion (AIC), and Bayesian information criterion (BIC). These metrics are also helpful tools to perform **model selection** in GLMs. Additionally, it is essential to highlight that **many** GLMs are estimated via maximum likelihood.\n",
    "\n",
    "Having said all this, you will learn today that metrics such as AIC and BIC are likelihood-based. Hence, the concept of maximum likelihood estimation (MLE) will come into play again for model selection **in many GLMs**. Firstly, let us explore model selection for Poisson regression via the dataset from {doc}`lecture1-glm-link-functions-and-count-regression`."
   ]
  },
  {
   "cell_type": "markdown",
   "metadata": {
    "editable": true,
    "slideshow": {
     "slide_type": ""
    },
    "tags": []
   },
   "source": [
    "### 1.1. The Crabs Dataset"
   ]
  },
  {
   "cell_type": "markdown",
   "metadata": {
    "editable": true,
    "slideshow": {
     "slide_type": ""
    },
    "tags": []
   },
   "source": [
    "``` {figure} ../img/crab.png\n",
    ":height: 350px\n",
    "Hello! I'm the Crab, again!\n",
    "```"
   ]
  },
  {
   "cell_type": "markdown",
   "metadata": {
    "editable": true,
    "slideshow": {
     "slide_type": "slide"
    },
    "tags": []
   },
   "source": [
    "The data frame `crabs` ([Brockmann, 1996](https://ubc.summon.serialssolutions.com/2.0.0/link/0/eLvHCXMwrV3JasMwEBUlpZBLl7Sl6YY_oE4sy5sgFEpICKU9NadcjFYSmtghCyRf0t-tJC_EPhRaepMHS8jSSPM0M3oGALkdx67tCYRyKV0GacCp9CBX60RCySMcYiigy2qpOq_F1ZiMLqL0v-mFYrZvvd4JXXcPEnOUZbU1z6W-fxdoh6eO-XQUvDyGCnXrbK_hxCkDDCHKgs9KH20FelDOR_pzWxXbdYhljTEanoF10e8iC6V2SbDK9Pg_H3gOTnPsar1kynYBjkTSAs1yC923wMkkNaVL8NVbkNXn8wcxjJ8b0euaZysTvyuzVJUYH9i6Kpsl1ijVOSbTtPZ2f6V6nYuectnbbLGdb2tNLNP5fjkVi1J-BcbDwbg_svOfQNhMIRdsu4KHEnIsIiQYJoGQvsKQmAuOsE8lojRnrPEIlZQHHIUEEs8PBVHQjaJr0EjSRNwAS8ebmMNk4DHkRYgQSt2ARoxRnzuhJG2AitmNlxnVR3x4REI41sMf6-GP8-GPd20QmVn7RZV4MB7p0u3fq96BZpY-rn1B96CxWW3FgyGOeDR6_g1rIQSN)) is a dataset detailing the **counts of satellite male crabs** residing around a female crab nest. The code below renames the original response's name, `satell`, to `n_males`."
   ]
  },
  {
   "cell_type": "code",
   "execution_count": 2,
   "metadata": {
    "editable": true,
    "slideshow": {
     "slide_type": "fragment"
    },
    "tags": []
   },
   "outputs": [
    {
     "data": {
      "text/html": [
       "<table class=\"dataframe\">\n",
       "<caption>A data.frame: 173 × 5</caption>\n",
       "<thead>\n",
       "\t<tr><th scope=col>color</th><th scope=col>spine</th><th scope=col>width</th><th scope=col>n_males</th><th scope=col>weight</th></tr>\n",
       "\t<tr><th scope=col>&lt;fct&gt;</th><th scope=col>&lt;fct&gt;</th><th scope=col>&lt;dbl&gt;</th><th scope=col>&lt;int&gt;</th><th scope=col>&lt;int&gt;</th></tr>\n",
       "</thead>\n",
       "<tbody>\n",
       "\t<tr><td>medium</td><td>bad </td><td>28.3</td><td>8</td><td>3050</td></tr>\n",
       "\t<tr><td>dark  </td><td>bad </td><td>22.5</td><td>0</td><td>1550</td></tr>\n",
       "\t<tr><td>light </td><td>good</td><td>26.0</td><td>9</td><td>2300</td></tr>\n",
       "\t<tr><td>dark  </td><td>bad </td><td>24.8</td><td>0</td><td>2100</td></tr>\n",
       "\t<tr><td>⋮</td><td>⋮</td><td>⋮</td><td>⋮</td><td>⋮</td></tr>\n",
       "\t<tr><td>light </td><td>good  </td><td>28.0</td><td>0</td><td>2625</td></tr>\n",
       "\t<tr><td>darker</td><td>bad   </td><td>27.0</td><td>0</td><td>2625</td></tr>\n",
       "\t<tr><td>medium</td><td>middle</td><td>24.5</td><td>0</td><td>2000</td></tr>\n",
       "</tbody>\n",
       "</table>\n"
      ],
      "text/latex": [
       "A data.frame: 173 × 5\n",
       "\\begin{tabular}{lllll}\n",
       " color & spine & width & n\\_males & weight\\\\\n",
       " <fct> & <fct> & <dbl> & <int> & <int>\\\\\n",
       "\\hline\n",
       "\t medium & bad  & 28.3 & 8 & 3050\\\\\n",
       "\t dark   & bad  & 22.5 & 0 & 1550\\\\\n",
       "\t light  & good & 26.0 & 9 & 2300\\\\\n",
       "\t dark   & bad  & 24.8 & 0 & 2100\\\\\n",
       "\t ⋮ & ⋮ & ⋮ & ⋮ & ⋮\\\\\n",
       "\t light  & good   & 28.0 & 0 & 2625\\\\\n",
       "\t darker & bad    & 27.0 & 0 & 2625\\\\\n",
       "\t medium & middle & 24.5 & 0 & 2000\\\\\n",
       "\\end{tabular}\n"
      ],
      "text/markdown": [
       "\n",
       "A data.frame: 173 × 5\n",
       "\n",
       "| color &lt;fct&gt; | spine &lt;fct&gt; | width &lt;dbl&gt; | n_males &lt;int&gt; | weight &lt;int&gt; |\n",
       "|---|---|---|---|---|\n",
       "| medium | bad  | 28.3 | 8 | 3050 |\n",
       "| dark   | bad  | 22.5 | 0 | 1550 |\n",
       "| light  | good | 26.0 | 9 | 2300 |\n",
       "| dark   | bad  | 24.8 | 0 | 2100 |\n",
       "| ⋮ | ⋮ | ⋮ | ⋮ | ⋮ |\n",
       "| light  | good   | 28.0 | 0 | 2625 |\n",
       "| darker | bad    | 27.0 | 0 | 2625 |\n",
       "| medium | middle | 24.5 | 0 | 2000 |\n",
       "\n"
      ],
      "text/plain": [
       "    color  spine  width n_males weight\n",
       "1   medium bad    28.3  8       3050  \n",
       "2   dark   bad    22.5  0       1550  \n",
       "3   light  good   26.0  9       2300  \n",
       "4   dark   bad    24.8  0       2100  \n",
       "⋮   ⋮      ⋮      ⋮     ⋮       ⋮     \n",
       "171 light  good   28.0  0       2625  \n",
       "172 darker bad    27.0  0       2625  \n",
       "173 medium middle 24.5  0       2000  "
      ]
     },
     "metadata": {},
     "output_type": "display_data"
    }
   ],
   "source": [
    "data(crabs)\n",
    "crabs <- crabs |>\n",
    "  rename(n_males = satell) |>\n",
    "  dplyr::select(-y)\n",
    "crabs"
   ]
  },
  {
   "cell_type": "markdown",
   "metadata": {
    "editable": true,
    "slideshow": {
     "slide_type": "slide"
    },
    "tags": []
   },
   "source": [
    "```{admonition} The Crabs Dataset\n",
    "The data frame `crabs` contains 173 observations on horseshoe crabs (Limulus polyphemus). The response is **the count of male crabs** (`n_males`) around a female breeding nest. It is subject to four explanatory variables **related to the female crab**: `color` of the prosoma with four levels (categorical factor-type), the condition of the posterior `spine` with three levels (categorical factor-type), the continuous variables carapace `width` (cm), and `weight` (g).\n",
    "```"
   ]
  },
  {
   "cell_type": "markdown",
   "metadata": {
    "editable": true,
    "slideshow": {
     "slide_type": ""
    },
    "tags": []
   },
   "source": [
    "### 1.2. Estimation"
   ]
  },
  {
   "cell_type": "markdown",
   "metadata": {
    "editable": true,
    "slideshow": {
     "slide_type": "slide"
    },
    "tags": []
   },
   "source": [
    "**To perform model selection**, let us estimate two Poisson regression models with `n_males` as a response. **Model 1** will only have the continuous carapace `width` ($X_{\\texttt{width}_i}$) as a regressor, whereas **Model 2** will have carapace `width` ($X_{\\texttt{width}_i}$) and `color` of the prosoma (with dummy variables $X_{\\texttt{color_darker}_i}$, $X_{\\texttt{color_light}_i}$, and $X_{\\texttt{color_medium}_i}$).\n",
    "\n",
    "```{math}\n",
    "\\begin{align*}\n",
    "\\textbf{Model 1:} & \\\\ \n",
    "& h(\\lambda_i) = \\log(\\lambda_i) = \\beta_0 + \\beta_1 X_{\\texttt{width}_i}. \\\\\n",
    "\\textbf{Model 2:} & \\\\ \n",
    "& h(\\lambda_i) = \\log (\\lambda_i) = \\beta_0 + \\beta_1 X_{\\texttt{width}_i} + \\beta_2 X_{\\texttt{color_darker}_i} + \\beta_3 X_{\\texttt{color_light}_i} + \\beta_4 X_{\\texttt{color_medium}_i}.\n",
    "\\end{align*}\n",
    "```"
   ]
  },
  {
   "cell_type": "markdown",
   "metadata": {
    "editable": true,
    "slideshow": {
     "slide_type": "slide"
    },
    "tags": []
   },
   "source": [
    "Then, via `glm()` and `crabs`, we obtain our regression estimates."
   ]
  },
  {
   "cell_type": "code",
   "execution_count": 3,
   "metadata": {
    "editable": true,
    "slideshow": {
     "slide_type": "fragment"
    },
    "tags": []
   },
   "outputs": [],
   "source": [
    "poisson_model <- glm(n_males ~ width, family = poisson, data = crabs)\n",
    "poisson_model_2 <- glm(n_males ~ width + color, family = poisson, data = crabs)"
   ]
  },
  {
   "cell_type": "markdown",
   "metadata": {
    "editable": true,
    "slideshow": {
     "slide_type": "slide"
    },
    "tags": []
   },
   "source": [
    "Since we are digging into model selection, let us keep in mind the below **main statistical inquiry**."
   ]
  },
  {
   "cell_type": "markdown",
   "metadata": {
    "editable": true,
    "slideshow": {
     "slide_type": ""
    },
    "tags": []
   },
   "source": [
    "```{admonition} Main statistical inquiry\n",
    "We want to determine which Poisson regression model fits the data better: **Model 1** or **Model 2**.\n",
    "```"
   ]
  },
  {
   "cell_type": "markdown",
   "metadata": {
    "editable": true,
    "slideshow": {
     "slide_type": ""
    },
    "tags": []
   },
   "source": [
    "### 1.3.  Goodness of Fit Test"
   ]
  },
  {
   "cell_type": "markdown",
   "metadata": {
    "editable": true,
    "slideshow": {
     "slide_type": "slide"
    },
    "tags": []
   },
   "source": [
    "The **deviance** ($D_k$) criterion can be used to compare a given model with $k$ regressors with that of a **baseline model**."
   ]
  },
  {
   "cell_type": "markdown",
   "metadata": {
    "editable": true,
    "slideshow": {
     "slide_type": ""
    },
    "tags": []
   },
   "source": [
    "```{admonition} Definition of a Saturated or Full Model in Poisson Regression\n",
    ":class: tip\n",
    "The usual **baseline model** is the **saturated** or **full model**, which perfectly fits the data because it allows a distinct Poisson mean $\\lambda_i$ for the $i$th observation in the training dataset ($i = 1, \\dots, n$), **unrelated to the $k$ regressors**.\n",
    "```"
   ]
  },
  {
   "cell_type": "markdown",
   "metadata": {
    "editable": true,
    "slideshow": {
     "slide_type": "fragment"
    },
    "tags": []
   },
   "source": [
    "The **maximized likelihood** of this full model is denoted as $\\hat{\\mathscr{l}}_f$. Now, let $\\hat{\\mathscr{l}}_k$ be the value of the maximized likelihood computed from our dataset of $n$ observations with $k$ regressors.\n",
    "\n",
    "We can compare the fits provided by these two models by the deviance $D_k$ given by\n",
    "\n",
    "```{math}\n",
    ":label: deviance-general\n",
    "D_k = -2 \\log \\left( \\frac{\\hat{\\mathscr{l}}_k}{\\hat{\\mathscr{l}}_f} \\right) =  -2 \\left[ \\log \\left( \\hat{\\mathscr{l}}_k \\right) - \\log \\left( \\hat{\\mathscr{l}}_f \\right) \\right].\n",
    "```"
   ]
  },
  {
   "cell_type": "markdown",
   "metadata": {
    "editable": true,
    "slideshow": {
     "slide_type": "slide"
    },
    "tags": []
   },
   "source": [
    "Note that $D_k$ expresses **how much our given model deviates from the full model on log-likelihood scale**. This metric is interpreted as follows:\n",
    "\n",
    "- **Large values** of $D_k$ arise when $\\hat{\\mathscr{l}}_k$ is small relative to $\\hat{\\mathscr{l}}_f$, indicating that **our given model fits the data poorly compared to the baseline model**.\n",
    "- **Small values** of $D_k$ arise when $\\hat{\\mathscr{l}}_k$ is similar to $\\hat{\\mathscr{l}}_f$, indicating that **our given model provides a good fit to the data compared to the baseline model**."
   ]
  },
  {
   "cell_type": "markdown",
   "metadata": {
    "editable": true,
    "slideshow": {
     "slide_type": ""
    },
    "tags": []
   },
   "source": [
    "**Specifically for Poisson regression with $k$ regressors**, it can be shown that $D_k$ {eq}`deviance-general` is defined as follows:\n",
    "\n",
    "```{math}\n",
    ":label: deviance-poisson\n",
    "\\begin{gather}\n",
    "\\hat{\\lambda}_i = \\exp{\\left( \\hat{\\beta_0} + \\hat{\\beta}_1 x_{i,1} + \\dots + \\hat{\\beta}_k x_{i,k} \\right)} \\\\\n",
    "D_k = 2 \\sum_{i = 1}^n \\left[ y_i \\log \\left( \\frac{y_i}{\\hat{\\lambda}_i} \\right) - \\left( y_i - \\hat{\\lambda}_i \\right) \\right]\n",
    "\\end{gather}\n",
    "```\n",
    "\n",
    "where $y_i$ is the $i$th observed response in the training set of size $n$. Note that when $y_i = 0$ counts, then $\\log \\left( \\frac{y_i}{\\hat{\\lambda}_i} \\right)$ is assumed as $0$."
   ]
  },
  {
   "cell_type": "markdown",
   "metadata": {
    "editable": true,
    "slideshow": {
     "slide_type": ""
    },
    "tags": []
   },
   "source": [
    "````{admonition} Definition of Goodness of Fit\n",
    ":class: tip\n",
    "Equation {eq}`deviance-poisson` depicts the agreement of our model with $k$ regressors to the observed data. Hence, we can use {eq}`deviance-poisson` to test the goodness of fit; i.e., **whether our fitted model fits the data better than the saturated model, which makes it correctly specified (with a level of significance $\\alpha$!)**.\n",
    "\n",
    "The hypothesis are the following:\n",
    "\n",
    "```{math}\n",
    "\\begin{gather*}\n",
    "H_0: \\text{Our}\\textbf{ Model with $k$ regressors} \\text{ fits the data better than the } \\textbf{Saturated Model} \\\\\n",
    "H_a: \\text{otherwise.}\n",
    "\\end{gather*}\n",
    "```\n",
    "````"
   ]
  },
  {
   "cell_type": "markdown",
   "metadata": {
    "editable": true,
    "slideshow": {
     "slide_type": ""
    },
    "tags": []
   },
   "source": [
    "Let us test our `poisson_model_2`:\n",
    "\n",
    "$$h(\\lambda_i) = \\log (\\lambda_i) = \\beta_0 + \\beta_1 X_{\\texttt{width}_i} + \\beta_2 X_{\\texttt{color_darker}_i} + \\beta_3 X_{\\texttt{color_light}_i} + \\beta_4 X_{\\texttt{color_medium}_i}.$$\n",
    "\n",
    "We cannot use `anova()` to perform this hypothesis testing. We will have to do it manually via `glance()`,"
   ]
  },
  {
   "cell_type": "code",
   "execution_count": 4,
   "metadata": {
    "editable": true,
    "slideshow": {
     "slide_type": "fragment"
    },
    "tags": []
   },
   "outputs": [
    {
     "data": {
      "text/html": [
       "<table class=\"dataframe\">\n",
       "<caption>A tibble: 1 × 8</caption>\n",
       "<thead>\n",
       "\t<tr><th scope=col>null.deviance</th><th scope=col>df.null</th><th scope=col>logLik</th><th scope=col>AIC</th><th scope=col>BIC</th><th scope=col>deviance</th><th scope=col>df.residual</th><th scope=col>nobs</th></tr>\n",
       "\t<tr><th scope=col>&lt;dbl&gt;</th><th scope=col>&lt;int&gt;</th><th scope=col>&lt;dbl&gt;</th><th scope=col>&lt;dbl&gt;</th><th scope=col>&lt;dbl&gt;</th><th scope=col>&lt;dbl&gt;</th><th scope=col>&lt;int&gt;</th><th scope=col>&lt;int&gt;</th></tr>\n",
       "</thead>\n",
       "<tbody>\n",
       "\t<tr><td>632.7917</td><td>172</td><td>-457.3212</td><td>924.6425</td><td>940.4089</td><td>559.3448</td><td>168</td><td>173</td></tr>\n",
       "</tbody>\n",
       "</table>\n"
      ],
      "text/latex": [
       "A tibble: 1 × 8\n",
       "\\begin{tabular}{llllllll}\n",
       " null.deviance & df.null & logLik & AIC & BIC & deviance & df.residual & nobs\\\\\n",
       " <dbl> & <int> & <dbl> & <dbl> & <dbl> & <dbl> & <int> & <int>\\\\\n",
       "\\hline\n",
       "\t 632.7917 & 172 & -457.3212 & 924.6425 & 940.4089 & 559.3448 & 168 & 173\\\\\n",
       "\\end{tabular}\n"
      ],
      "text/markdown": [
       "\n",
       "A tibble: 1 × 8\n",
       "\n",
       "| null.deviance &lt;dbl&gt; | df.null &lt;int&gt; | logLik &lt;dbl&gt; | AIC &lt;dbl&gt; | BIC &lt;dbl&gt; | deviance &lt;dbl&gt; | df.residual &lt;int&gt; | nobs &lt;int&gt; |\n",
       "|---|---|---|---|---|---|---|---|\n",
       "| 632.7917 | 172 | -457.3212 | 924.6425 | 940.4089 | 559.3448 | 168 | 173 |\n",
       "\n"
      ],
      "text/plain": [
       "  null.deviance df.null logLik    AIC      BIC      deviance df.residual nobs\n",
       "1 632.7917      172     -457.3212 924.6425 940.4089 559.3448 168         173 "
      ]
     },
     "metadata": {},
     "output_type": "display_data"
    }
   ],
   "source": [
    "summary_poisson_model_2 <- glance(poisson_model_2)\n",
    "summary_poisson_model_2"
   ]
  },
  {
   "cell_type": "markdown",
   "metadata": {
    "editable": true,
    "slideshow": {
     "slide_type": "slide"
    },
    "tags": []
   },
   "source": [
    "Column `deviance` provides $D_k$ and is formally called **residual deviance**, which is the **test statistic**. **Asymptotically**, we have the following **null distribution**:\n",
    "\n",
    "$$\n",
    "D_k \\sim \\chi^2_{n - (k + 1)}.\n",
    "$$\n",
    "\n",
    "The degrees of freedom (column `df.residual` in our `glance()` output) are the **difference between the training set size $n$ and the number of regression parameters in our model (including the intercept $\\beta_0$).**"
   ]
  },
  {
   "cell_type": "markdown",
   "metadata": {
    "editable": true,
    "slideshow": {
     "slide_type": ""
    },
    "tags": []
   },
   "source": [
    "Let us obtain the corresponding $p\\text{-value}$ for this test. We can do it using `pchisq()`:"
   ]
  },
  {
   "cell_type": "code",
   "execution_count": 5,
   "metadata": {
    "editable": true,
    "slideshow": {
     "slide_type": "fragment"
    },
    "tags": []
   },
   "outputs": [
    {
     "data": {
      "text/html": [
       "1.47103669470051e-43"
      ],
      "text/latex": [
       "1.47103669470051e-43"
      ],
      "text/markdown": [
       "1.47103669470051e-43"
      ],
      "text/plain": [
       "[1] 1.471037e-43"
      ]
     },
     "metadata": {},
     "output_type": "display_data"
    }
   ],
   "source": [
    "pchisq(summary_poisson_model_2$deviance,\n",
    "  df = summary_poisson_model_2$df.residual,\n",
    "  lower.tail = FALSE\n",
    ")"
   ]
  },
  {
   "cell_type": "markdown",
   "metadata": {
    "editable": true,
    "slideshow": {
     "slide_type": "fragment"
    },
    "tags": []
   },
   "source": [
    "We obtain a $p\\text{-value} < .001$, which gives statistical evidence to state that our `poisson_model_2` is **not** correctly specified when compared to the saturated model."
   ]
  },
  {
   "cell_type": "markdown",
   "metadata": {
    "editable": true,
    "slideshow": {
     "slide_type": ""
    },
    "tags": []
   },
   "source": [
    "#### A Note on the Null Deviance"
   ]
  },
  {
   "cell_type": "markdown",
   "metadata": {
    "editable": true,
    "slideshow": {
     "slide_type": ""
    },
    "tags": []
   },
   "source": [
    "The above `glance()` output contains a metric call `null.deviance`. This metric comes from a Poisson regression model which is only estimated with an intercept, i.e., $\\hat{\\beta}_{0}$; let us call it $D_0$:\n",
    "\n",
    "```{math}\n",
    "\\begin{gather}\n",
    "\\hat{\\lambda}_i = \\exp{\\left( \\hat{\\beta_0} \\right)} \\\\\n",
    "D_0 = 2 \\sum_{i = 1}^n \\left[ y_i \\log \\left( \\frac{y_i}{\\hat{\\lambda}_i} \\right) - \\left( y_i - \\hat{\\lambda}_i \\right) \\right]\n",
    "\\end{gather}\n",
    "```\n",
    "\n",
    "where $y_i$ is the $i$th observed response in the training set of size $n$. Note that when $y_i = 0$ counts, then $\\log \\left( \\frac{y_i}{\\hat{\\lambda}_i} \\right)$ is assumed as $0$."
   ]
  },
  {
   "cell_type": "markdown",
   "metadata": {
    "editable": true,
    "slideshow": {
     "slide_type": ""
    },
    "tags": []
   },
   "source": [
    "Moreover, `df.null` indicates the degrees of freedom of this model, which are $n - 1 = 173 - 1 = 172$ (**the difference between the training set size $n$ and the number of regression parameters in the null model**; which is $1$ in this case, i.e., $\\beta_0$)."
   ]
  },
  {
   "cell_type": "markdown",
   "metadata": {
    "editable": true,
    "slideshow": {
     "slide_type": ""
    },
    "tags": []
   },
   "source": [
    "```{important} \n",
    "A null model is different from a **saturated/baseline/full model**. It is importat to recall that the **saturated/baseline/full model** is a model that perfectly fits the training data, which could be viewed as basically interpolating all the training data points **without caring about any regressor at all**. Mathematically, the saturated model implicates having an exact prediction $\\hat{\\lambda}_i$ for each $y_i$:\n",
    "\n",
    "$$\n",
    "\\hat{\\lambda}_i = y_i \\quad \\quad \\text{for } i = 1, \\dots, n.\n",
    "$$\n",
    "```"
   ]
  },
  {
   "cell_type": "markdown",
   "metadata": {
    "editable": true,
    "slideshow": {
     "slide_type": ""
    },
    "tags": []
   },
   "source": [
    "### 1.4. Analysis of Deviance for Nested Models"
   ]
  },
  {
   "cell_type": "markdown",
   "metadata": {
    "editable": true,
    "slideshow": {
     "slide_type": ""
    },
    "tags": []
   },
   "source": [
    "We can use analysis of deviance for model selection when two models are nested. Hence, we will test our two Poisson models:\n",
    "\n",
    "```{math}\n",
    "\\begin{align*}\n",
    "\\textbf{Model 1:} & \\\\ \n",
    "& h(\\lambda_i) = \\log(\\lambda_i) = \\beta_0 + \\beta_1 X_{\\texttt{width}_i}. \\\\\n",
    "\\textbf{Model 2:} & \\\\ \n",
    "& h(\\lambda_i) = \\log (\\lambda_i) = \\beta_0 + \\beta_1 X_{\\texttt{width}_i} + \\beta_2 X_{\\texttt{color_darker}_i} + \\beta_3 X_{\\texttt{color_light}_i} + \\beta_4 X_{\\texttt{color_medium}_i}.\n",
    "\\end{align*}\n",
    "```"
   ]
  },
  {
   "cell_type": "markdown",
   "metadata": {
    "editable": true,
    "slideshow": {
     "slide_type": "fragment"
    },
    "tags": []
   },
   "source": [
    "This specific model selection will involve a hypothesis testing. The hypotheses are:\n",
    "\n",
    "```{math}\n",
    "\\begin{gather*}\n",
    "H_0: \\textbf{Model 1} \\text{ fits the data better than } \\textbf{Model 2} \\\\\n",
    "H_a: \\textbf{Model 2} \\text{ fits the data better than } \\textbf{Model 1}.\n",
    "\\end{gather*}\n",
    "```"
   ]
  },
  {
   "cell_type": "markdown",
   "metadata": {
    "editable": true,
    "slideshow": {
     "slide_type": "slide"
    },
    "tags": []
   },
   "source": [
    "We have to use the multipurpose function `anova()` in the following way:"
   ]
  },
  {
   "cell_type": "code",
   "execution_count": 6,
   "metadata": {
    "editable": true,
    "slideshow": {
     "slide_type": "fragment"
    },
    "tags": []
   },
   "outputs": [
    {
     "data": {
      "text/html": [
       "<table class=\"dataframe\">\n",
       "<caption>A anova: 2 × 5</caption>\n",
       "<thead>\n",
       "\t<tr><th></th><th scope=col>Resid. Df</th><th scope=col>Resid. Dev</th><th scope=col>Df</th><th scope=col>Deviance</th><th scope=col>Pr(&gt;Chi)</th></tr>\n",
       "\t<tr><th></th><th scope=col>&lt;dbl&gt;</th><th scope=col>&lt;dbl&gt;</th><th scope=col>&lt;dbl&gt;</th><th scope=col>&lt;dbl&gt;</th><th scope=col>&lt;dbl&gt;</th></tr>\n",
       "</thead>\n",
       "<tbody>\n",
       "\t<tr><th scope=row>1</th><td>171</td><td>567.8786</td><td>NA</td><td>    NA</td><td>    NA</td></tr>\n",
       "\t<tr><th scope=row>2</th><td>168</td><td>559.3448</td><td> 3</td><td>8.5338</td><td>0.0362</td></tr>\n",
       "</tbody>\n",
       "</table>\n"
      ],
      "text/latex": [
       "A anova: 2 × 5\n",
       "\\begin{tabular}{r|lllll}\n",
       "  & Resid. Df & Resid. Dev & Df & Deviance & Pr(>Chi)\\\\\n",
       "  & <dbl> & <dbl> & <dbl> & <dbl> & <dbl>\\\\\n",
       "\\hline\n",
       "\t1 & 171 & 567.8786 & NA &     NA &     NA\\\\\n",
       "\t2 & 168 & 559.3448 &  3 & 8.5338 & 0.0362\\\\\n",
       "\\end{tabular}\n"
      ],
      "text/markdown": [
       "\n",
       "A anova: 2 × 5\n",
       "\n",
       "| <!--/--> | Resid. Df &lt;dbl&gt; | Resid. Dev &lt;dbl&gt; | Df &lt;dbl&gt; | Deviance &lt;dbl&gt; | Pr(&gt;Chi) &lt;dbl&gt; |\n",
       "|---|---|---|---|---|---|\n",
       "| 1 | 171 | 567.8786 | NA |     NA |     NA |\n",
       "| 2 | 168 | 559.3448 |  3 | 8.5338 | 0.0362 |\n",
       "\n"
      ],
      "text/plain": [
       "  Resid. Df Resid. Dev Df Deviance Pr(>Chi)\n",
       "1 171       567.8786   NA     NA       NA  \n",
       "2 168       559.3448    3 8.5338   0.0362  "
      ]
     },
     "metadata": {},
     "output_type": "display_data"
    }
   ],
   "source": [
    "round(anova(poisson_model,\n",
    "  poisson_model_2,\n",
    "  test = \"Chi\"\n",
    "), 4)"
   ]
  },
  {
   "cell_type": "markdown",
   "metadata": {
    "editable": true,
    "slideshow": {
     "slide_type": "slide"
    },
    "tags": []
   },
   "source": [
    "Let $D_2$ be the deviance (column `Resid. Dev`) for **Model 2** (`poisson_model_2`) in row 2 and $D_1$ (column `Resid. Dev`) the deviance for **Model 1** (`poisson_model`) in row 1. The **test statistic** $\\Delta_D$ (column `Deviance`) for the analysis of deviance is given by:\n",
    "\n",
    "$$\n",
    "\\Delta_D = D_1 - D_2 \\sim \\chi^2_{3},\n",
    "$$\n",
    "\n",
    "which **asymptotically** (i.e., $n \\rightarrow \\infty$) is [**Chi-squared distributed**](https://www.math.wm.edu/~leemis/chart/UDR/PDFs/Chisquare.pdf) with $3$ degrees of freedom (column `Df`) under $H_0$ **for this specific case**."
   ]
  },
  {
   "cell_type": "markdown",
   "metadata": {
    "editable": true,
    "slideshow": {
     "slide_type": "fragment"
    },
    "tags": []
   },
   "source": [
    "We obtain a $p\\text{-value} < .05$, column `Pr(>Chi)`, which gives us evidence to reject $H_0$ with $\\alpha = 0.05$. Hence, we do have evidence to conclude that `poisson_model_2` fits the data better than `poisson_model`. Therefore, **in the context of model selection**, we would choose `poisson_model_2`, that also includes the `color` of the prosoma."
   ]
  },
  {
   "cell_type": "markdown",
   "metadata": {
    "editable": true,
    "slideshow": {
     "slide_type": ""
    },
    "tags": []
   },
   "source": [
    "```{important} \n",
    "In general, the degrees of freedom are the **regression parameters of difference between both models** (this has an impact on the factor-type explanatory variables with more than one dummy variable). In this example, **Model 2** has three additional parameters: $\\beta_2$, $\\beta_3$, and $\\beta_4$.\n",
    "\n",
    "Formally, this nested hypothesis testing is called the **likelihood-ratio test**.\n",
    "```"
   ]
  },
  {
   "cell_type": "markdown",
   "metadata": {
    "editable": true,
    "slideshow": {
     "slide_type": ""
    },
    "tags": []
   },
   "source": [
    "### 1.5. Akaike Information Criterion"
   ]
  },
  {
   "cell_type": "markdown",
   "metadata": {
    "editable": true,
    "slideshow": {
     "slide_type": "slide"
    },
    "tags": []
   },
   "source": [
    "**One of the drawbacks of the analysis of deviance** is that it only allows to test **nested** regression models. Fortunately, we have alternatives for model selection. **The AIC makes possible to compare models that are either nested or not.** For a model with $k$ model terms and a deviance $D_k$ is defined as:\n",
    "\n",
    "```{math}\n",
    "\\begin{equation}\n",
    "\\mbox{AIC}_k = D_k + 2k.\n",
    "\\end{equation}\n",
    "```\n",
    "\n",
    "Models with **smaller** values of $\\mbox{AIC}_k$ are preferred. That said, $\\mbox{AIC}_k$ favours models with small values of $D_k$."
   ]
  },
  {
   "cell_type": "markdown",
   "metadata": {
    "editable": true,
    "slideshow": {
     "slide_type": "fragment"
    },
    "tags": []
   },
   "source": [
    "```{important}\n",
    "However, $\\mbox{AIC}_k$ penalizes for including more regressors in the model. Hence, it discourages overfitting, which is key in model selection. \n",
    "\n",
    "This is why we select that model with the smallest $\\mbox{AIC}_k$.\n",
    "```"
   ]
  },
  {
   "cell_type": "markdown",
   "metadata": {
    "editable": true,
    "slideshow": {
     "slide_type": "slide"
    },
    "tags": []
   },
   "source": [
    "The function `glance()` shows us the $\\mbox{AIC}_k$ by model."
   ]
  },
  {
   "cell_type": "code",
   "execution_count": 7,
   "metadata": {
    "editable": true,
    "slideshow": {
     "slide_type": "fragment"
    },
    "tags": []
   },
   "outputs": [
    {
     "data": {
      "text/html": [
       "<table class=\"dataframe\">\n",
       "<caption>A tibble: 1 × 8</caption>\n",
       "<thead>\n",
       "\t<tr><th scope=col>null.deviance</th><th scope=col>df.null</th><th scope=col>logLik</th><th scope=col>AIC</th><th scope=col>BIC</th><th scope=col>deviance</th><th scope=col>df.residual</th><th scope=col>nobs</th></tr>\n",
       "\t<tr><th scope=col>&lt;dbl&gt;</th><th scope=col>&lt;dbl&gt;</th><th scope=col>&lt;dbl&gt;</th><th scope=col>&lt;dbl&gt;</th><th scope=col>&lt;dbl&gt;</th><th scope=col>&lt;dbl&gt;</th><th scope=col>&lt;dbl&gt;</th><th scope=col>&lt;dbl&gt;</th></tr>\n",
       "</thead>\n",
       "<tbody>\n",
       "\t<tr><td>632.792</td><td>172</td><td>-461.588</td><td>927.176</td><td>933.483</td><td>567.879</td><td>171</td><td>173</td></tr>\n",
       "</tbody>\n",
       "</table>\n"
      ],
      "text/latex": [
       "A tibble: 1 × 8\n",
       "\\begin{tabular}{llllllll}\n",
       " null.deviance & df.null & logLik & AIC & BIC & deviance & df.residual & nobs\\\\\n",
       " <dbl> & <dbl> & <dbl> & <dbl> & <dbl> & <dbl> & <dbl> & <dbl>\\\\\n",
       "\\hline\n",
       "\t 632.792 & 172 & -461.588 & 927.176 & 933.483 & 567.879 & 171 & 173\\\\\n",
       "\\end{tabular}\n"
      ],
      "text/markdown": [
       "\n",
       "A tibble: 1 × 8\n",
       "\n",
       "| null.deviance &lt;dbl&gt; | df.null &lt;dbl&gt; | logLik &lt;dbl&gt; | AIC &lt;dbl&gt; | BIC &lt;dbl&gt; | deviance &lt;dbl&gt; | df.residual &lt;dbl&gt; | nobs &lt;dbl&gt; |\n",
       "|---|---|---|---|---|---|---|---|\n",
       "| 632.792 | 172 | -461.588 | 927.176 | 933.483 | 567.879 | 171 | 173 |\n",
       "\n"
      ],
      "text/plain": [
       "  null.deviance df.null logLik   AIC     BIC     deviance df.residual nobs\n",
       "1 632.792       172     -461.588 927.176 933.483 567.879  171         173 "
      ]
     },
     "metadata": {},
     "output_type": "display_data"
    }
   ],
   "source": [
    "glance(poisson_model) |>\n",
    "  mutate_if(is.numeric, round, 3)"
   ]
  },
  {
   "cell_type": "code",
   "execution_count": 8,
   "metadata": {
    "editable": true,
    "slideshow": {
     "slide_type": "fragment"
    },
    "tags": []
   },
   "outputs": [
    {
     "data": {
      "text/html": [
       "<table class=\"dataframe\">\n",
       "<caption>A tibble: 1 × 8</caption>\n",
       "<thead>\n",
       "\t<tr><th scope=col>null.deviance</th><th scope=col>df.null</th><th scope=col>logLik</th><th scope=col>AIC</th><th scope=col>BIC</th><th scope=col>deviance</th><th scope=col>df.residual</th><th scope=col>nobs</th></tr>\n",
       "\t<tr><th scope=col>&lt;dbl&gt;</th><th scope=col>&lt;dbl&gt;</th><th scope=col>&lt;dbl&gt;</th><th scope=col>&lt;dbl&gt;</th><th scope=col>&lt;dbl&gt;</th><th scope=col>&lt;dbl&gt;</th><th scope=col>&lt;dbl&gt;</th><th scope=col>&lt;dbl&gt;</th></tr>\n",
       "</thead>\n",
       "<tbody>\n",
       "\t<tr><td>632.792</td><td>172</td><td>-457.321</td><td>924.642</td><td>940.409</td><td>559.345</td><td>168</td><td>173</td></tr>\n",
       "</tbody>\n",
       "</table>\n"
      ],
      "text/latex": [
       "A tibble: 1 × 8\n",
       "\\begin{tabular}{llllllll}\n",
       " null.deviance & df.null & logLik & AIC & BIC & deviance & df.residual & nobs\\\\\n",
       " <dbl> & <dbl> & <dbl> & <dbl> & <dbl> & <dbl> & <dbl> & <dbl>\\\\\n",
       "\\hline\n",
       "\t 632.792 & 172 & -457.321 & 924.642 & 940.409 & 559.345 & 168 & 173\\\\\n",
       "\\end{tabular}\n"
      ],
      "text/markdown": [
       "\n",
       "A tibble: 1 × 8\n",
       "\n",
       "| null.deviance &lt;dbl&gt; | df.null &lt;dbl&gt; | logLik &lt;dbl&gt; | AIC &lt;dbl&gt; | BIC &lt;dbl&gt; | deviance &lt;dbl&gt; | df.residual &lt;dbl&gt; | nobs &lt;dbl&gt; |\n",
       "|---|---|---|---|---|---|---|---|\n",
       "| 632.792 | 172 | -457.321 | 924.642 | 940.409 | 559.345 | 168 | 173 |\n",
       "\n"
      ],
      "text/plain": [
       "  null.deviance df.null logLik   AIC     BIC     deviance df.residual nobs\n",
       "1 632.792       172     -457.321 924.642 940.409 559.345  168         173 "
      ]
     },
     "metadata": {},
     "output_type": "display_data"
    }
   ],
   "source": [
    "glance(poisson_model_2) |> \n",
    "  mutate_if(is.numeric, round, 3)"
   ]
  },
  {
   "cell_type": "markdown",
   "metadata": {
    "editable": true,
    "slideshow": {
     "slide_type": "fragment"
    },
    "tags": []
   },
   "source": [
    "> Following the results of the `AIC` column, we choose `poisson_model_2` over `poisson_model`."
   ]
  },
  {
   "cell_type": "markdown",
   "metadata": {
    "editable": true,
    "slideshow": {
     "slide_type": ""
    },
    "tags": []
   },
   "source": [
    "### 1.6. Bayesian Information Criterion"
   ]
  },
  {
   "cell_type": "markdown",
   "metadata": {
    "editable": true,
    "slideshow": {
     "slide_type": "slide"
    },
    "tags": []
   },
   "source": [
    "An alternative to AIC is the Bayesian Information Criterion (BIC). **The BIC also makes possible to compare models that are either nested or not.** For a model with $k$ regressors, $n$ observations used for training, and a deviance $D_k$; it is defined as:\n",
    "\n",
    "```{math}\n",
    "\\mbox{BIC}_k = D_k + k \\log (n).\n",
    "```\n",
    "\n",
    "Models with **smaller** values of $\\mbox{BIC}_k$ are preferred. That said, $\\mbox{BIC}_k$ also favours models with small values of $D_k$."
   ]
  },
  {
   "cell_type": "markdown",
   "metadata": {
    "editable": true,
    "slideshow": {
     "slide_type": "fragment"
    },
    "tags": []
   },
   "source": [
    "> Following the results of the `AIC` column, we already chose `poisson_model_2` over `poisson_model`. Nonetheless, the `BIC` is penalizing the `poisson_model_2` for having more model parameters, so `poisson_model` would be chosen under this criterion."
   ]
  },
  {
   "cell_type": "markdown",
   "metadata": {
    "editable": true,
    "slideshow": {
     "slide_type": "slide"
    },
    "tags": []
   },
   "source": [
    "```{important}\n",
    "The differences between AIC and BIC will be more pronounced in datasets with large sample sizes $n$. As the BIC penalty of $k \\log (n)$ will always be larger than the AIC penalty of $2k$ when $n > 7$, **BIC tends to select models with fewer regressors than AIC**.\n",
    "\n",
    "Having said all this, in general, each metric's purpose can be summarized as follows:\n",
    "\n",
    "- **AIC:** From a given set of models (either nested or non-nested) fitted via a common training dataset, this metric aims to select the model with the best predictive performance even though this model chosen might not be the true one that generates the training data. In essence, this metric is frequentist.\n",
    "- **BIC:** From a given set of models (either nested or non-nested) fitted via a common training dataset, this metric will tend to select the true model that is generating the training data as the sample size $n$ approaches infinity and **as long as the true model is within this given set of models**. This metric is Bayesian, in essence, since it relies on a prior true model probability distribution in conjunction with our observed evidence (i.e., the likelihoods yielded by each model of this set), which results in a posterior true model probability distribution indicating that true model (i.e., the one with the highest posterior probability).\n",
    "```"
   ]
  },
  {
   "cell_type": "markdown",
   "metadata": {
    "editable": true,
    "slideshow": {
     "slide_type": ""
    },
    "tags": []
   },
   "source": [
    "```{admonition} Note\n",
    ":class: note\n",
    "The math behind the rationale of these two metrics is out of the scope of this course. That said, if you would like to get further insights, you can check *Chapter 7 (Model Assessment and Selection)* in [**The Elements of Statistical Learning: Data Mining, Inference, and Prediction**](https://gw2jh3xr2c.search.serialssolutions.com/?sid=sersol&SS_jc=TC0000145389&title=The%20Elements%20of%20Statistical%20Learning%3A%20Data%20Mining%2C%20Inference%2C%20and%20Prediction%2C%20Second%20Edition).\n",
    "```"
   ]
  },
  {
   "cell_type": "markdown",
   "metadata": {
    "editable": true,
    "slideshow": {
     "slide_type": "slide"
    },
    "tags": []
   },
   "source": [
    "## 2. Categorical Type Responses"
   ]
  },
  {
   "cell_type": "markdown",
   "metadata": {
    "editable": true,
    "slideshow": {
     "slide_type": ""
    },
    "tags": []
   },
   "source": [
    "So far, we have dealt with continuous, binary, and count responses using OLS, Binary Logistic, Poisson (or Negative Binomial) regressions, respectively."
   ]
  },
  {
   "cell_type": "markdown",
   "metadata": {
    "editable": true,
    "slideshow": {
     "slide_type": "fragment"
    },
    "tags": []
   },
   "source": [
    "Nonetheless, we have not covered those **discrete responses with more than two categories**. Recall that the nature of these responses could be:\n",
    "\n",
    "- **Nominal.** We have categories that do not follow any specific order—for example, the type of dwelling according to the Canadian census: *single-detached house*, *semi-detached house*, *row house*, *apartment*, and *mobile home*.\n",
    "- **Ordinal.** The categories, in this case, follow a specific order—for example, a Likert scale of survey items: *strongly disagree*, *disagree*, *neutral*, *agree*, and *strongly agree*."
   ]
  },
  {
   "cell_type": "markdown",
   "metadata": {
    "editable": true,
    "slideshow": {
     "slide_type": "slide"
    },
    "tags": []
   },
   "source": [
    "Moreover, you have seen that **using OLS to fit a model with a binary response variable has important problems**. Frequently, the restricted range is not respected in terms of the fitted values from our training set or if we use the fitted model to make predictions on a different testing set. So then, we use Binary Logistic regression."
   ]
  },
  {
   "cell_type": "markdown",
   "metadata": {
    "editable": true,
    "slideshow": {
     "slide_type": ""
    },
    "tags": []
   },
   "source": [
    "```{important}\n",
    "Recall that Binary Logistic regression's link function (the **logarithm of the odds** or **logit function**) restricts the corresponding probability of success to a range between $0$ and $1$ while relating it to the systematic component (i.e., the regressors and its corresponding parameters!). \n",
    "\n",
    "Nevertheless, this GLM has an important limitation: it is restricted to a Bernoulli trial with only two classes (**success** or **failure**).\n",
    "```"
   ]
  },
  {
   "cell_type": "markdown",
   "metadata": {
    "editable": true,
    "slideshow": {
     "slide_type": "fragment"
    },
    "tags": []
   },
   "source": [
    "Then, we might wonder: **what if we have more than two classes in the categorical response?** \n",
    "\n",
    "Let us pave the way to two new GLMs to address this matter: **Multinomial and Ordinal Logistic regressions**."
   ]
  },
  {
   "cell_type": "markdown",
   "metadata": {
    "editable": true,
    "slideshow": {
     "slide_type": ""
    },
    "tags": []
   },
   "source": [
    "## 3. Multinomial Logistic Regression"
   ]
  },
  {
   "cell_type": "markdown",
   "metadata": {
    "editable": true,
    "slideshow": {
     "slide_type": ""
    },
    "tags": []
   },
   "source": [
    "Moving along with GLMs, let us expand the regression mind map as in {numref}`reg-mindmap-3` to include a new model: **Multinomial Logistic regression**."
   ]
  },
  {
   "cell_type": "markdown",
   "metadata": {
    "editable": true,
    "slideshow": {
     "slide_type": ""
    },
    "tags": []
   },
   "source": [
    "````{div} full-width\n",
    "```{figure} ../img/reg-mindmap-3.png\n",
    ":height: 900px\n",
    ":name: reg-mindmap-3\n",
    "Expanded regression modelling mind map.\n",
    "```\n",
    "````"
   ]
  },
  {
   "cell_type": "markdown",
   "metadata": {
    "editable": true,
    "slideshow": {
     "slide_type": "slide"
    },
    "tags": []
   },
   "source": [
    "**Multinomial Logistic regression** is a maximum likelihood-based GLM that addresses inferential (and predictive!) inquiries where the response is **categorical** and **nominal**. To illustrate the use of this GLM, let us introduce an adequate dataset."
   ]
  },
  {
   "cell_type": "markdown",
   "metadata": {
    "editable": true,
    "slideshow": {
     "slide_type": ""
    },
    "tags": []
   },
   "source": [
    "### 3.1. The Spotify Dataset"
   ]
  },
  {
   "cell_type": "markdown",
   "metadata": {
    "editable": true,
    "slideshow": {
     "slide_type": "slide"
    },
    "tags": []
   },
   "source": [
    "> Copyright © 2025 Spotify AB.\n",
    ">\n",
    "> Spotify is a registered trademark of the Spotify Group.\n",
    "\n",
    "\n",
    "The `spotify` dataset is a sample of $n = 350$ songs with different variables by column. "
   ]
  },
  {
   "cell_type": "markdown",
   "metadata": {
    "editable": true,
    "slideshow": {
     "slide_type": ""
    },
    "tags": []
   },
   "source": [
    "```{admonition} The Spotify Dataset\n",
    "This data comes in the `bayesrules` package. Its description is the following:\n",
    "\n",
    "> *A sub-sample of the Spotify song data originally collected by Kaylin Pavlik (kaylinquest) and distributed through the `R` for Data Science TidyTuesday project.*\n",
    "```"
   ]
  },
  {
   "cell_type": "markdown",
   "metadata": {
    "editable": true,
    "slideshow": {
     "slide_type": ""
    },
    "tags": []
   },
   "source": [
    "This dataset has 23 variables in total. The $n = 350$ songs belong to 44 different artists."
   ]
  },
  {
   "cell_type": "code",
   "execution_count": 9,
   "metadata": {
    "editable": true,
    "slideshow": {
     "slide_type": ""
    },
    "tags": []
   },
   "outputs": [
    {
     "data": {
      "text/html": [
       "<table class=\"dataframe\">\n",
       "<caption>A spec_tbl_df: 350 × 23</caption>\n",
       "<thead>\n",
       "\t<tr><th scope=col>track_id</th><th scope=col>title</th><th scope=col>artist</th><th scope=col>popularity</th><th scope=col>album_id</th><th scope=col>album_name</th><th scope=col>album_release_date</th><th scope=col>playlist_name</th><th scope=col>playlist_id</th><th scope=col>genre</th><th scope=col>⋯</th><th scope=col>key</th><th scope=col>loudness</th><th scope=col>mode</th><th scope=col>speechiness</th><th scope=col>acousticness</th><th scope=col>instrumentalness</th><th scope=col>liveness</th><th scope=col>valence</th><th scope=col>tempo</th><th scope=col>duration_ms</th></tr>\n",
       "\t<tr><th scope=col>&lt;chr&gt;</th><th scope=col>&lt;chr&gt;</th><th scope=col>&lt;fct&gt;</th><th scope=col>&lt;dbl&gt;</th><th scope=col>&lt;chr&gt;</th><th scope=col>&lt;chr&gt;</th><th scope=col>&lt;chr&gt;</th><th scope=col>&lt;chr&gt;</th><th scope=col>&lt;chr&gt;</th><th scope=col>&lt;chr&gt;</th><th scope=col>⋯</th><th scope=col>&lt;dbl&gt;</th><th scope=col>&lt;dbl&gt;</th><th scope=col>&lt;dbl&gt;</th><th scope=col>&lt;dbl&gt;</th><th scope=col>&lt;dbl&gt;</th><th scope=col>&lt;dbl&gt;</th><th scope=col>&lt;dbl&gt;</th><th scope=col>&lt;dbl&gt;</th><th scope=col>&lt;dbl&gt;</th><th scope=col>&lt;dbl&gt;</th></tr>\n",
       "</thead>\n",
       "<tbody>\n",
       "\t<tr><td>7sYAS4CpbV90oSemgaEQat</td><td><span style=white-space:pre-wrap>On &amp; On     </span></td><td>Alok</td><td>79</td><td>2a9AGivapFES2j2ElI3odn</td><td><span style=white-space:pre-wrap>On &amp; On               </span></td><td>2019-11-22</td><td><span style=white-space:pre-wrap>Dance Room     </span></td><td>37i9dQZF1DX2ENAPP1Tyed</td><td>pop</td><td>⋯</td><td>10</td><td>-5.898</td><td>0</td><td> 7.22</td><td> 2.330</td><td>0.00138</td><td>76.10</td><td>67.0</td><td>125.070</td><td>147027</td></tr>\n",
       "\t<tr><td>1YSwQvw1NrEPfA0j1iY8eV</td><td>All The Lies</td><td>Alok</td><td>56</td><td>2FdyKqNeEX2H7gUhtlmJDC</td><td>All The Lies (Remixes)</td><td>2019-07-19</td><td>Cardio         </td><td>37i9dQZF1DWSJHnPb1f0X3</td><td>pop</td><td>⋯</td><td> 6</td><td>-4.777</td><td>1</td><td>17.50</td><td> 0.908</td><td>0.00000</td><td>36.60</td><td>63.4</td><td>119.972</td><td>163000</td></tr>\n",
       "\t<tr><td>39cmB3ZoTOLwOTq7tMNqKa</td><td>Hear Me Now </td><td>Alok</td><td>75</td><td>6fpsA5aYbVNLe6y3P49o2o</td><td>Hear Me Now           </td><td>2016      </td><td>ElectroPop 2020</td><td>4frhr6RQM2fMOm2mpvOVo6</td><td>pop</td><td>⋯</td><td>11</td><td>-7.603</td><td>1</td><td> 3.89</td><td>54.600</td><td>0.28900</td><td> 7.31</td><td>49.6</td><td>121.999</td><td>194840</td></tr>\n",
       "\t<tr><td>2Dnb6yPGUq0vmGtxzm3bwi</td><td>The Wall    </td><td>Alok</td><td>65</td><td>0hH9tb1b4Z87g7SHmnriKa</td><td>The Wall              </td><td>2019-06-28</td><td>Electropop     </td><td>2Z5cPJ6Z4EVZAfF08amjvL</td><td>pop</td><td>⋯</td><td>11</td><td>-2.314</td><td>1</td><td> 4.31</td><td> 0.953</td><td>6.73000</td><td> 7.32</td><td>53.6</td><td>122.943</td><td>159500</td></tr>\n",
       "\t<tr><td>⋮</td><td>⋮</td><td>⋮</td><td>⋮</td><td>⋮</td><td>⋮</td><td>⋮</td><td>⋮</td><td>⋮</td><td>⋮</td><td>⋱</td><td>⋮</td><td>⋮</td><td>⋮</td><td>⋮</td><td>⋮</td><td>⋮</td><td>⋮</td><td>⋮</td><td>⋮</td><td>⋮</td></tr>\n",
       "\t<tr><td>3SmytDq4CeZ3nKE9777qEx</td><td>Save My Grave           </td><td>Zeds Dead</td><td>54</td><td>0M5oUKrfgJtfZUKdFsC4VZ</td><td>We Are Deadbeats (Vol. 4)</td><td>2020-01-14</td><td>Trap Nation       </td><td>0NCspsyf0OS4BsPgGhkQXM</td><td>rap</td><td>⋯</td><td>8</td><td>-8.101</td><td>0</td><td> 3.15</td><td>1.47000</td><td> 0.0733</td><td>15.8</td><td>12.3</td><td>108.021</td><td>222387</td></tr>\n",
       "\t<tr><td>606LnHssjBNoQIrxa9KTYK</td><td>Shake                   </td><td>Zeds Dead</td><td>49</td><td>2S3ydN35socDKdH6ROBhfN</td><td>Shake                    </td><td>2019-09-10</td><td>Nasty Bits        </td><td>37i9dQZF1DX2VvACCrgjrt</td><td>edm</td><td>⋯</td><td>8</td><td>-3.680</td><td>1</td><td> 6.57</td><td>0.00178</td><td>32.4000</td><td>18.0</td><td>36.6</td><td> 75.026</td><td>278400</td></tr>\n",
       "\t<tr><td>4kbaxfwAF2FaquuDiWSkDT</td><td>Sound Of The Underground</td><td>Zeds Dead</td><td>48</td><td>4xjytv2hkFsqSz2z8y6efp</td><td>Sound Of The Underground </td><td>2019-12-04</td><td>ELECTRO HOUSE 2020</td><td>1N5dPU0Ca9N9AwBbUeyzX5</td><td>edm</td><td>⋯</td><td>1</td><td>-0.247</td><td>1</td><td>10.40</td><td>0.32300</td><td>75.8000</td><td>11.2</td><td>19.2</td><td>170.084</td><td>248480</td></tr>\n",
       "</tbody>\n",
       "</table>\n"
      ],
      "text/latex": [
       "A spec\\_tbl\\_df: 350 × 23\n",
       "\\begin{tabular}{lllllllllllllllllllll}\n",
       " track\\_id & title & artist & popularity & album\\_id & album\\_name & album\\_release\\_date & playlist\\_name & playlist\\_id & genre & ⋯ & key & loudness & mode & speechiness & acousticness & instrumentalness & liveness & valence & tempo & duration\\_ms\\\\\n",
       " <chr> & <chr> & <fct> & <dbl> & <chr> & <chr> & <chr> & <chr> & <chr> & <chr> & ⋯ & <dbl> & <dbl> & <dbl> & <dbl> & <dbl> & <dbl> & <dbl> & <dbl> & <dbl> & <dbl>\\\\\n",
       "\\hline\n",
       "\t 7sYAS4CpbV90oSemgaEQat & On \\& On      & Alok & 79 & 2a9AGivapFES2j2ElI3odn & On \\& On                & 2019-11-22 & Dance Room      & 37i9dQZF1DX2ENAPP1Tyed & pop & ⋯ & 10 & -5.898 & 0 &  7.22 &  2.330 & 0.00138 & 76.10 & 67.0 & 125.070 & 147027\\\\\n",
       "\t 1YSwQvw1NrEPfA0j1iY8eV & All The Lies & Alok & 56 & 2FdyKqNeEX2H7gUhtlmJDC & All The Lies (Remixes) & 2019-07-19 & Cardio          & 37i9dQZF1DWSJHnPb1f0X3 & pop & ⋯ &  6 & -4.777 & 1 & 17.50 &  0.908 & 0.00000 & 36.60 & 63.4 & 119.972 & 163000\\\\\n",
       "\t 39cmB3ZoTOLwOTq7tMNqKa & Hear Me Now  & Alok & 75 & 6fpsA5aYbVNLe6y3P49o2o & Hear Me Now            & 2016       & ElectroPop 2020 & 4frhr6RQM2fMOm2mpvOVo6 & pop & ⋯ & 11 & -7.603 & 1 &  3.89 & 54.600 & 0.28900 &  7.31 & 49.6 & 121.999 & 194840\\\\\n",
       "\t 2Dnb6yPGUq0vmGtxzm3bwi & The Wall     & Alok & 65 & 0hH9tb1b4Z87g7SHmnriKa & The Wall               & 2019-06-28 & Electropop      & 2Z5cPJ6Z4EVZAfF08amjvL & pop & ⋯ & 11 & -2.314 & 1 &  4.31 &  0.953 & 6.73000 &  7.32 & 53.6 & 122.943 & 159500\\\\\n",
       "\t ⋮ & ⋮ & ⋮ & ⋮ & ⋮ & ⋮ & ⋮ & ⋮ & ⋮ & ⋮ & ⋱ & ⋮ & ⋮ & ⋮ & ⋮ & ⋮ & ⋮ & ⋮ & ⋮ & ⋮ & ⋮\\\\\n",
       "\t 3SmytDq4CeZ3nKE9777qEx & Save My Grave            & Zeds Dead & 54 & 0M5oUKrfgJtfZUKdFsC4VZ & We Are Deadbeats (Vol. 4) & 2020-01-14 & Trap Nation        & 0NCspsyf0OS4BsPgGhkQXM & rap & ⋯ & 8 & -8.101 & 0 &  3.15 & 1.47000 &  0.0733 & 15.8 & 12.3 & 108.021 & 222387\\\\\n",
       "\t 606LnHssjBNoQIrxa9KTYK & Shake                    & Zeds Dead & 49 & 2S3ydN35socDKdH6ROBhfN & Shake                     & 2019-09-10 & Nasty Bits         & 37i9dQZF1DX2VvACCrgjrt & edm & ⋯ & 8 & -3.680 & 1 &  6.57 & 0.00178 & 32.4000 & 18.0 & 36.6 &  75.026 & 278400\\\\\n",
       "\t 4kbaxfwAF2FaquuDiWSkDT & Sound Of The Underground & Zeds Dead & 48 & 4xjytv2hkFsqSz2z8y6efp & Sound Of The Underground  & 2019-12-04 & ELECTRO HOUSE 2020 & 1N5dPU0Ca9N9AwBbUeyzX5 & edm & ⋯ & 1 & -0.247 & 1 & 10.40 & 0.32300 & 75.8000 & 11.2 & 19.2 & 170.084 & 248480\\\\\n",
       "\\end{tabular}\n"
      ],
      "text/markdown": [
       "\n",
       "A spec_tbl_df: 350 × 23\n",
       "\n",
       "| track_id &lt;chr&gt; | title &lt;chr&gt; | artist &lt;fct&gt; | popularity &lt;dbl&gt; | album_id &lt;chr&gt; | album_name &lt;chr&gt; | album_release_date &lt;chr&gt; | playlist_name &lt;chr&gt; | playlist_id &lt;chr&gt; | genre &lt;chr&gt; | ⋯ ⋯ | key &lt;dbl&gt; | loudness &lt;dbl&gt; | mode &lt;dbl&gt; | speechiness &lt;dbl&gt; | acousticness &lt;dbl&gt; | instrumentalness &lt;dbl&gt; | liveness &lt;dbl&gt; | valence &lt;dbl&gt; | tempo &lt;dbl&gt; | duration_ms &lt;dbl&gt; |\n",
       "|---|---|---|---|---|---|---|---|---|---|---|---|---|---|---|---|---|---|---|---|---|\n",
       "| 7sYAS4CpbV90oSemgaEQat | On &amp; On      | Alok | 79 | 2a9AGivapFES2j2ElI3odn | On &amp; On                | 2019-11-22 | Dance Room      | 37i9dQZF1DX2ENAPP1Tyed | pop | ⋯ | 10 | -5.898 | 0 |  7.22 |  2.330 | 0.00138 | 76.10 | 67.0 | 125.070 | 147027 |\n",
       "| 1YSwQvw1NrEPfA0j1iY8eV | All The Lies | Alok | 56 | 2FdyKqNeEX2H7gUhtlmJDC | All The Lies (Remixes) | 2019-07-19 | Cardio          | 37i9dQZF1DWSJHnPb1f0X3 | pop | ⋯ |  6 | -4.777 | 1 | 17.50 |  0.908 | 0.00000 | 36.60 | 63.4 | 119.972 | 163000 |\n",
       "| 39cmB3ZoTOLwOTq7tMNqKa | Hear Me Now  | Alok | 75 | 6fpsA5aYbVNLe6y3P49o2o | Hear Me Now            | 2016       | ElectroPop 2020 | 4frhr6RQM2fMOm2mpvOVo6 | pop | ⋯ | 11 | -7.603 | 1 |  3.89 | 54.600 | 0.28900 |  7.31 | 49.6 | 121.999 | 194840 |\n",
       "| 2Dnb6yPGUq0vmGtxzm3bwi | The Wall     | Alok | 65 | 0hH9tb1b4Z87g7SHmnriKa | The Wall               | 2019-06-28 | Electropop      | 2Z5cPJ6Z4EVZAfF08amjvL | pop | ⋯ | 11 | -2.314 | 1 |  4.31 |  0.953 | 6.73000 |  7.32 | 53.6 | 122.943 | 159500 |\n",
       "| ⋮ | ⋮ | ⋮ | ⋮ | ⋮ | ⋮ | ⋮ | ⋮ | ⋮ | ⋮ | ⋱ | ⋮ | ⋮ | ⋮ | ⋮ | ⋮ | ⋮ | ⋮ | ⋮ | ⋮ | ⋮ |\n",
       "| 3SmytDq4CeZ3nKE9777qEx | Save My Grave            | Zeds Dead | 54 | 0M5oUKrfgJtfZUKdFsC4VZ | We Are Deadbeats (Vol. 4) | 2020-01-14 | Trap Nation        | 0NCspsyf0OS4BsPgGhkQXM | rap | ⋯ | 8 | -8.101 | 0 |  3.15 | 1.47000 |  0.0733 | 15.8 | 12.3 | 108.021 | 222387 |\n",
       "| 606LnHssjBNoQIrxa9KTYK | Shake                    | Zeds Dead | 49 | 2S3ydN35socDKdH6ROBhfN | Shake                     | 2019-09-10 | Nasty Bits         | 37i9dQZF1DX2VvACCrgjrt | edm | ⋯ | 8 | -3.680 | 1 |  6.57 | 0.00178 | 32.4000 | 18.0 | 36.6 |  75.026 | 278400 |\n",
       "| 4kbaxfwAF2FaquuDiWSkDT | Sound Of The Underground | Zeds Dead | 48 | 4xjytv2hkFsqSz2z8y6efp | Sound Of The Underground  | 2019-12-04 | ELECTRO HOUSE 2020 | 1N5dPU0Ca9N9AwBbUeyzX5 | edm | ⋯ | 1 | -0.247 | 1 | 10.40 | 0.32300 | 75.8000 | 11.2 | 19.2 | 170.084 | 248480 |\n",
       "\n"
      ],
      "text/plain": [
       "    track_id               title                    artist    popularity\n",
       "1   7sYAS4CpbV90oSemgaEQat On & On                  Alok      79        \n",
       "2   1YSwQvw1NrEPfA0j1iY8eV All The Lies             Alok      56        \n",
       "3   39cmB3ZoTOLwOTq7tMNqKa Hear Me Now              Alok      75        \n",
       "4   2Dnb6yPGUq0vmGtxzm3bwi The Wall                 Alok      65        \n",
       "⋮   ⋮                      ⋮                        ⋮         ⋮         \n",
       "348 3SmytDq4CeZ3nKE9777qEx Save My Grave            Zeds Dead 54        \n",
       "349 606LnHssjBNoQIrxa9KTYK Shake                    Zeds Dead 49        \n",
       "350 4kbaxfwAF2FaquuDiWSkDT Sound Of The Underground Zeds Dead 48        \n",
       "    album_id               album_name                album_release_date\n",
       "1   2a9AGivapFES2j2ElI3odn On & On                   2019-11-22        \n",
       "2   2FdyKqNeEX2H7gUhtlmJDC All The Lies (Remixes)    2019-07-19        \n",
       "3   6fpsA5aYbVNLe6y3P49o2o Hear Me Now               2016              \n",
       "4   0hH9tb1b4Z87g7SHmnriKa The Wall                  2019-06-28        \n",
       "⋮   ⋮                      ⋮                         ⋮                 \n",
       "348 0M5oUKrfgJtfZUKdFsC4VZ We Are Deadbeats (Vol. 4) 2020-01-14        \n",
       "349 2S3ydN35socDKdH6ROBhfN Shake                     2019-09-10        \n",
       "350 4xjytv2hkFsqSz2z8y6efp Sound Of The Underground  2019-12-04        \n",
       "    playlist_name      playlist_id            genre ⋯ key loudness mode\n",
       "1   Dance Room         37i9dQZF1DX2ENAPP1Tyed pop   ⋯ 10  -5.898   0   \n",
       "2   Cardio             37i9dQZF1DWSJHnPb1f0X3 pop   ⋯  6  -4.777   1   \n",
       "3   ElectroPop 2020    4frhr6RQM2fMOm2mpvOVo6 pop   ⋯ 11  -7.603   1   \n",
       "4   Electropop         2Z5cPJ6Z4EVZAfF08amjvL pop   ⋯ 11  -2.314   1   \n",
       "⋮   ⋮                  ⋮                      ⋮     ⋱ ⋮   ⋮        ⋮   \n",
       "348 Trap Nation        0NCspsyf0OS4BsPgGhkQXM rap   ⋯ 8   -8.101   0   \n",
       "349 Nasty Bits         37i9dQZF1DX2VvACCrgjrt edm   ⋯ 8   -3.680   1   \n",
       "350 ELECTRO HOUSE 2020 1N5dPU0Ca9N9AwBbUeyzX5 edm   ⋯ 1   -0.247   1   \n",
       "    speechiness acousticness instrumentalness liveness valence tempo  \n",
       "1    7.22        2.330       0.00138          76.10    67.0    125.070\n",
       "2   17.50        0.908       0.00000          36.60    63.4    119.972\n",
       "3    3.89       54.600       0.28900           7.31    49.6    121.999\n",
       "4    4.31        0.953       6.73000           7.32    53.6    122.943\n",
       "⋮   ⋮           ⋮            ⋮                ⋮        ⋮       ⋮      \n",
       "348  3.15       1.47000       0.0733          15.8     12.3    108.021\n",
       "349  6.57       0.00178      32.4000          18.0     36.6     75.026\n",
       "350 10.40       0.32300      75.8000          11.2     19.2    170.084\n",
       "    duration_ms\n",
       "1   147027     \n",
       "2   163000     \n",
       "3   194840     \n",
       "4   159500     \n",
       "⋮   ⋮          \n",
       "348 222387     \n",
       "349 278400     \n",
       "350 248480     "
      ]
     },
     "metadata": {},
     "output_type": "display_data"
    }
   ],
   "source": [
    "spotify"
   ]
  },
  {
   "cell_type": "markdown",
   "metadata": {
    "editable": true,
    "slideshow": {
     "slide_type": ""
    },
    "tags": []
   },
   "source": [
    "We will start with an in-class question via [**iClicker**](https://student.iclicker.com/)."
   ]
  },
  {
   "cell_type": "markdown",
   "metadata": {
    "editable": true,
    "slideshow": {
     "slide_type": ""
    },
    "tags": []
   },
   "source": [
    "```{exercise}\n",
    ":label: lecture2-q1\n",
    "\n",
    "Having checked the description of the `spotify` dataset, suppose we want to conduct an inferential study. What would be the primary nature of our conclusions?\n",
    "\n",
    "**A.** We could draw causation conclusions across all music platforms.\n",
    "\n",
    "**B.** We could draw association conclusions on the Spotify platform.\n",
    "\n",
    "**C.** We could draw association conclusions across all music platforms.\n",
    "\n",
    "**D.** We could draw causation conclusions on the Spotify platform.\n",
    "```"
   ]
  },
  {
   "cell_type": "markdown",
   "metadata": {
    "editable": true,
    "slideshow": {
     "slide_type": ""
    },
    "tags": []
   },
   "source": [
    "```{admonition} Main Statistical Inquiries\n",
    "I am **big fan** of the electronic dance music (`edm`) catalogue on Spotify. Nevertheless, I do not have access to their whole song database. Still, I want to do the following:\n",
    "\n",
    "- To statistically measure how danceable this genre is, compared to other genres on the platform, and by how much.\n",
    "- To statistically measure how euphoric this genre is, compared to other genres on the platform, and by how much.\n",
    "```"
   ]
  },
  {
   "cell_type": "markdown",
   "metadata": {
    "editable": true,
    "slideshow": {
     "slide_type": ""
    },
    "tags": []
   },
   "source": [
    "### 3.2. Data Wrangling and Summary"
   ]
  },
  {
   "cell_type": "markdown",
   "metadata": {
    "editable": true,
    "slideshow": {
     "slide_type": ""
    },
    "tags": []
   },
   "source": [
    "In terms of our main statistical inquiries, we will extract these **key variables by song** from the `spotify` dataset:\n",
    "\n",
    "- `genre`: genre of the playlist where the song belongs (a **categorical** and **nominal** variable).\n",
    "- `danceability`:  a **numerical** score from 0 (not danceable) to 100 (danceable) based on features such as tempo, rhythm, etc.\n",
    "- `valence`: a **numerical** score from 0 (the song is more negative, sad, angry) to 100 (the song is more positive, happy, **euphoric**)."
   ]
  },
  {
   "cell_type": "markdown",
   "metadata": {
    "editable": true,
    "slideshow": {
     "slide_type": ""
    },
    "tags": []
   },
   "source": [
    "We will also extract these secondary variables (**not to be used in our analysis**, just for having a more informative training data):\n",
    "\n",
    "- `title`: song name.\n",
    "- `artist`: song artist.\n",
    "- `album_name`: name of the album on which the song appears."
   ]
  },
  {
   "cell_type": "code",
   "execution_count": 10,
   "metadata": {
    "editable": true,
    "slideshow": {
     "slide_type": ""
    },
    "tags": []
   },
   "outputs": [
    {
     "data": {
      "text/html": [
       "<table class=\"dataframe\">\n",
       "<caption>A tibble: 350 × 6</caption>\n",
       "<thead>\n",
       "\t<tr><th scope=col>title</th><th scope=col>artist</th><th scope=col>album_name</th><th scope=col>genre</th><th scope=col>danceability</th><th scope=col>valence</th></tr>\n",
       "\t<tr><th scope=col>&lt;chr&gt;</th><th scope=col>&lt;fct&gt;</th><th scope=col>&lt;chr&gt;</th><th scope=col>&lt;fct&gt;</th><th scope=col>&lt;dbl&gt;</th><th scope=col>&lt;dbl&gt;</th></tr>\n",
       "</thead>\n",
       "<tbody>\n",
       "\t<tr><td><span style=white-space:pre-wrap>On &amp; On     </span></td><td>Alok</td><td><span style=white-space:pre-wrap>On &amp; On               </span></td><td>pop</td><td>74.7</td><td>67.0</td></tr>\n",
       "\t<tr><td>All The Lies</td><td>Alok</td><td>All The Lies (Remixes)</td><td>pop</td><td>70.7</td><td>63.4</td></tr>\n",
       "\t<tr><td>Hear Me Now </td><td>Alok</td><td>Hear Me Now           </td><td>pop</td><td>77.8</td><td>49.6</td></tr>\n",
       "\t<tr><td>The Wall    </td><td>Alok</td><td>The Wall              </td><td>pop</td><td>68.2</td><td>53.6</td></tr>\n",
       "\t<tr><td>⋮</td><td>⋮</td><td>⋮</td><td>⋮</td><td>⋮</td><td>⋮</td></tr>\n",
       "\t<tr><td>Save My Grave           </td><td>Zeds Dead</td><td>We Are Deadbeats (Vol. 4)</td><td>rap</td><td>60.4</td><td>12.3</td></tr>\n",
       "\t<tr><td>Shake                   </td><td>Zeds Dead</td><td>Shake                    </td><td>edm</td><td>50.1</td><td>36.6</td></tr>\n",
       "\t<tr><td>Sound Of The Underground</td><td>Zeds Dead</td><td>Sound Of The Underground </td><td>edm</td><td>67.5</td><td>19.2</td></tr>\n",
       "</tbody>\n",
       "</table>\n"
      ],
      "text/latex": [
       "A tibble: 350 × 6\n",
       "\\begin{tabular}{llllll}\n",
       " title & artist & album\\_name & genre & danceability & valence\\\\\n",
       " <chr> & <fct> & <chr> & <fct> & <dbl> & <dbl>\\\\\n",
       "\\hline\n",
       "\t On \\& On      & Alok & On \\& On                & pop & 74.7 & 67.0\\\\\n",
       "\t All The Lies & Alok & All The Lies (Remixes) & pop & 70.7 & 63.4\\\\\n",
       "\t Hear Me Now  & Alok & Hear Me Now            & pop & 77.8 & 49.6\\\\\n",
       "\t The Wall     & Alok & The Wall               & pop & 68.2 & 53.6\\\\\n",
       "\t ⋮ & ⋮ & ⋮ & ⋮ & ⋮ & ⋮\\\\\n",
       "\t Save My Grave            & Zeds Dead & We Are Deadbeats (Vol. 4) & rap & 60.4 & 12.3\\\\\n",
       "\t Shake                    & Zeds Dead & Shake                     & edm & 50.1 & 36.6\\\\\n",
       "\t Sound Of The Underground & Zeds Dead & Sound Of The Underground  & edm & 67.5 & 19.2\\\\\n",
       "\\end{tabular}\n"
      ],
      "text/markdown": [
       "\n",
       "A tibble: 350 × 6\n",
       "\n",
       "| title &lt;chr&gt; | artist &lt;fct&gt; | album_name &lt;chr&gt; | genre &lt;fct&gt; | danceability &lt;dbl&gt; | valence &lt;dbl&gt; |\n",
       "|---|---|---|---|---|---|\n",
       "| On &amp; On      | Alok | On &amp; On                | pop | 74.7 | 67.0 |\n",
       "| All The Lies | Alok | All The Lies (Remixes) | pop | 70.7 | 63.4 |\n",
       "| Hear Me Now  | Alok | Hear Me Now            | pop | 77.8 | 49.6 |\n",
       "| The Wall     | Alok | The Wall               | pop | 68.2 | 53.6 |\n",
       "| ⋮ | ⋮ | ⋮ | ⋮ | ⋮ | ⋮ |\n",
       "| Save My Grave            | Zeds Dead | We Are Deadbeats (Vol. 4) | rap | 60.4 | 12.3 |\n",
       "| Shake                    | Zeds Dead | Shake                     | edm | 50.1 | 36.6 |\n",
       "| Sound Of The Underground | Zeds Dead | Sound Of The Underground  | edm | 67.5 | 19.2 |\n",
       "\n"
      ],
      "text/plain": [
       "    title                    artist    album_name                genre\n",
       "1   On & On                  Alok      On & On                   pop  \n",
       "2   All The Lies             Alok      All The Lies (Remixes)    pop  \n",
       "3   Hear Me Now              Alok      Hear Me Now               pop  \n",
       "4   The Wall                 Alok      The Wall                  pop  \n",
       "⋮   ⋮                        ⋮         ⋮                         ⋮    \n",
       "348 Save My Grave            Zeds Dead We Are Deadbeats (Vol. 4) rap  \n",
       "349 Shake                    Zeds Dead Shake                     edm  \n",
       "350 Sound Of The Underground Zeds Dead Sound Of The Underground  edm  \n",
       "    danceability valence\n",
       "1   74.7         67.0   \n",
       "2   70.7         63.4   \n",
       "3   77.8         49.6   \n",
       "4   68.2         53.6   \n",
       "⋮   ⋮            ⋮      \n",
       "348 60.4         12.3   \n",
       "349 50.1         36.6   \n",
       "350 67.5         19.2   "
      ]
     },
     "metadata": {},
     "output_type": "display_data"
    }
   ],
   "source": [
    "spotify_training <- spotify |>\n",
    "  select(title, artist, album_name, genre, danceability, valence) |>\n",
    "  mutate(genre = as.factor(genre))\n",
    "spotify_training"
   ]
  },
  {
   "cell_type": "markdown",
   "metadata": {
    "editable": true,
    "slideshow": {
     "slide_type": ""
    },
    "tags": []
   },
   "source": [
    "```{important}\n",
    "Note that factor-type `genre` has six levels (`edm` refers to **electronic dance music** and `r&b` to **rhythm and blues**). Moreover, **from a coding perspective**, `edm` is the **baseline** level (it is located on the **left-hand side** in the `levels()` output).\n",
    "```"
   ]
  },
  {
   "cell_type": "code",
   "execution_count": 11,
   "metadata": {
    "editable": true,
    "slideshow": {
     "slide_type": ""
    },
    "tags": []
   },
   "outputs": [
    {
     "data": {
      "text/html": [
       "<style>\n",
       ".list-inline {list-style: none; margin:0; padding: 0}\n",
       ".list-inline>li {display: inline-block}\n",
       ".list-inline>li:not(:last-child)::after {content: \"\\00b7\"; padding: 0 .5ex}\n",
       "</style>\n",
       "<ol class=list-inline><li>'edm'</li><li>'latin'</li><li>'pop'</li><li>'r&amp;b'</li><li>'rap'</li><li>'rock'</li></ol>\n"
      ],
      "text/latex": [
       "\\begin{enumerate*}\n",
       "\\item 'edm'\n",
       "\\item 'latin'\n",
       "\\item 'pop'\n",
       "\\item 'r\\&b'\n",
       "\\item 'rap'\n",
       "\\item 'rock'\n",
       "\\end{enumerate*}\n"
      ],
      "text/markdown": [
       "1. 'edm'\n",
       "2. 'latin'\n",
       "3. 'pop'\n",
       "4. 'r&amp;b'\n",
       "5. 'rap'\n",
       "6. 'rock'\n",
       "\n",
       "\n"
      ],
      "text/plain": [
       "[1] \"edm\"   \"latin\" \"pop\"   \"r&b\"   \"rap\"   \"rock\" "
      ]
     },
     "metadata": {},
     "output_type": "display_data"
    }
   ],
   "source": [
    "levels(spotify_training$genre)"
   ]
  },
  {
   "cell_type": "markdown",
   "metadata": {},
   "source": [
    "Finally, let us summarize the data by `genre`."
   ]
  },
  {
   "cell_type": "code",
   "execution_count": 12,
   "metadata": {
    "editable": true,
    "slideshow": {
     "slide_type": ""
    },
    "tags": []
   },
   "outputs": [
    {
     "data": {
      "text/html": [
       "<table class=\"dataframe\">\n",
       "<caption>A tabyl: 7 × 3</caption>\n",
       "<thead>\n",
       "\t<tr><th></th><th scope=col>genre</th><th scope=col>n</th><th scope=col>percent</th></tr>\n",
       "\t<tr><th></th><th scope=col>&lt;fct&gt;</th><th scope=col>&lt;dbl&gt;</th><th scope=col>&lt;chr&gt;</th></tr>\n",
       "</thead>\n",
       "<tbody>\n",
       "\t<tr><th scope=row>1</th><td>edm  </td><td> 60</td><td>17.1% </td></tr>\n",
       "\t<tr><th scope=row>2</th><td>latin</td><td> 27</td><td>7.7%  </td></tr>\n",
       "\t<tr><th scope=row>3</th><td>pop  </td><td> 71</td><td>20.3% </td></tr>\n",
       "\t<tr><th scope=row>4</th><td><span style=white-space:pre-wrap>r&amp;b  </span></td><td>104</td><td>29.7% </td></tr>\n",
       "\t<tr><th scope=row>5</th><td>rap  </td><td> 62</td><td>17.7% </td></tr>\n",
       "\t<tr><th scope=row>6</th><td>rock </td><td> 26</td><td>7.4%  </td></tr>\n",
       "\t<tr><th scope=row>7</th><td>Total</td><td>350</td><td>100.0%</td></tr>\n",
       "</tbody>\n",
       "</table>\n"
      ],
      "text/latex": [
       "A tabyl: 7 × 3\n",
       "\\begin{tabular}{r|lll}\n",
       "  & genre & n & percent\\\\\n",
       "  & <fct> & <dbl> & <chr>\\\\\n",
       "\\hline\n",
       "\t1 & edm   &  60 & 17.1\\% \\\\\n",
       "\t2 & latin &  27 & 7.7\\%  \\\\\n",
       "\t3 & pop   &  71 & 20.3\\% \\\\\n",
       "\t4 & r\\&b   & 104 & 29.7\\% \\\\\n",
       "\t5 & rap   &  62 & 17.7\\% \\\\\n",
       "\t6 & rock  &  26 & 7.4\\%  \\\\\n",
       "\t7 & Total & 350 & 100.0\\%\\\\\n",
       "\\end{tabular}\n"
      ],
      "text/markdown": [
       "\n",
       "A tabyl: 7 × 3\n",
       "\n",
       "| <!--/--> | genre &lt;fct&gt; | n &lt;dbl&gt; | percent &lt;chr&gt; |\n",
       "|---|---|---|---|\n",
       "| 1 | edm   |  60 | 17.1%  |\n",
       "| 2 | latin |  27 | 7.7%   |\n",
       "| 3 | pop   |  71 | 20.3%  |\n",
       "| 4 | r&amp;b   | 104 | 29.7%  |\n",
       "| 5 | rap   |  62 | 17.7%  |\n",
       "| 6 | rock  |  26 | 7.4%   |\n",
       "| 7 | Total | 350 | 100.0% |\n",
       "\n"
      ],
      "text/plain": [
       "  genre n   percent\n",
       "1 edm    60 17.1%  \n",
       "2 latin  27 7.7%   \n",
       "3 pop    71 20.3%  \n",
       "4 r&b   104 29.7%  \n",
       "5 rap    62 17.7%  \n",
       "6 rock   26 7.4%   \n",
       "7 Total 350 100.0% "
      ]
     },
     "metadata": {},
     "output_type": "display_data"
    }
   ],
   "source": [
    "spotify_training |> \n",
    "  tabyl(genre) |>\n",
    "  adorn_totals(\"row\") |>\n",
    "  adorn_pct_formatting()"
   ]
  },
  {
   "cell_type": "markdown",
   "metadata": {
    "editable": true,
    "slideshow": {
     "slide_type": ""
    },
    "tags": []
   },
   "source": [
    "```{important}\n",
    "Note that `edm` accounts for 17.1% of the whole training data. On the other hand, `latin` and `rock` account for less than 10% each. Finally, `r&b` has the largest share with 29.7%. \n",
    "\n",
    "Still, having checked this `genre` composition, we have an acceptable number of songs to draw inference from. Moreover, an imbalanced classification will be dealt with the distributional assumption of the Multinomial Logistic regression.\n",
    "```"
   ]
  },
  {
   "cell_type": "markdown",
   "metadata": {},
   "source": [
    "### 3.3. Exploratory Data Analysis"
   ]
  },
  {
   "cell_type": "markdown",
   "metadata": {
    "slideshow": {
     "slide_type": "slide"
    }
   },
   "source": [
    "As done in our previous lecture, let us take a look at the data first. Note that `genre` is a **discrete nominal response**, so we must be careful about the class of plots we use for exploratory data analysis (EDA). Hence, we could use the following side-by-side plots for both `danceability` and `valence`:\n",
    "\n",
    "- **Boxplots.**\n",
    "- **Violin plots.**\n",
    "\n",
    "The code below creates side-by-side boxplots and violin plots, where `danceability` or `valence` are on the $y$-axis, and all categories of `genre` are on the $x$-axis. Moreover, the side-by-side violin plots show the mean of `danceability` or `valence` by `genre` as orange points."
   ]
  },
  {
   "cell_type": "code",
   "execution_count": 13,
   "metadata": {
    "editable": true,
    "slideshow": {
     "slide_type": "slide"
    },
    "tags": []
   },
   "outputs": [],
   "source": [
    "options(repr.plot.height = 14, repr.plot.width = 12)\n",
    "\n",
    "genre_danceability_side_boxplots <- spotify_training |>\n",
    "  ggplot(aes(genre, danceability)) +\n",
    "  geom_boxplot(aes(fill = genre)) +\n",
    "  labs(y = \"Danceability (0-100)\", x = \"Genre\") +\n",
    "  ggtitle(\"Side-by-Side Boxplots for Danceability\") +\n",
    "  theme(\n",
    "    plot.title = element_text(size = 19, face = \"bold\"),\n",
    "    axis.text = element_text(size = 17, angle = 10),\n",
    "    axis.title = element_text(size = 18),\n",
    "    legend.position = \"none\"\n",
    "  ) +\n",
    "  scale_fill_brewer(palette = \"BuPu\")\n",
    "\n",
    "genre_danceability_side_violin <- spotify_training |>\n",
    "  ggplot(aes(genre, danceability)) +\n",
    "  geom_violin(aes(fill = genre)) +\n",
    "  labs(y = \"Danceability (0-100)\", x = \"Genre\") +\n",
    "  ggtitle(\"Side-by-Side Violin Plots for Danceability\") +\n",
    "  stat_summary(\n",
    "    fun = mean, colour = \"orange\", geom = \"point\",\n",
    "    shape = 18, size = 5\n",
    "  ) +\n",
    "  theme(\n",
    "    plot.title = element_text(size = 19, face = \"bold\"),\n",
    "    axis.text = element_text(size = 17, angle = 10),\n",
    "    axis.title = element_text(size = 18),\n",
    "    legend.position = \"none\"\n",
    "  ) +\n",
    "  scale_fill_brewer(palette = \"BuPu\")\n",
    "\n",
    "genre_valence_side_boxplots <- spotify_training |>\n",
    "  ggplot(aes(genre, valence)) +\n",
    "  geom_boxplot(aes(fill = genre)) +\n",
    "  labs(y = \"Valence (0-100)\", x = \"Genre\") +\n",
    "  ggtitle(\"Side-by-Side Boxplots for Valence\") +\n",
    "  theme(\n",
    "    plot.title = element_text(size = 19, face = \"bold\"),\n",
    "    axis.text = element_text(size = 17, angle = 10),\n",
    "    axis.title = element_text(size = 18),\n",
    "    legend.position = \"none\"\n",
    "  ) +\n",
    "  scale_fill_brewer(palette = \"BuPu\")\n",
    "\n",
    "genre_valence_side_violin <- spotify_training |>\n",
    "  ggplot(aes(genre, valence)) +\n",
    "  geom_violin(aes(fill = genre)) +\n",
    "  labs(y = \"Valence (0-100)\", x = \"Genre\") +\n",
    "  ggtitle(\"Side-by-Side Violin Plots for Valence\") +\n",
    "  stat_summary(\n",
    "    fun = mean, colour = \"orange\", geom = \"point\",\n",
    "    shape = 18, size = 5\n",
    "  ) +\n",
    "  theme(\n",
    "    plot.title = element_text(size = 19, face = \"bold\"),\n",
    "    axis.text = element_text(size = 17, angle = 10),\n",
    "    axis.title = element_text(size = 18),\n",
    "    legend.position = \"none\"\n",
    "  ) +\n",
    "  scale_fill_brewer(palette = \"BuPu\")"
   ]
  },
  {
   "cell_type": "code",
   "execution_count": 14,
   "metadata": {
    "editable": true,
    "slideshow": {
     "slide_type": "slide"
    },
    "tags": []
   },
   "outputs": [
    {
     "data": {
      "image/png": "[encoded data removed]",
      "text/plain": [
       "plot without title"
      ]
     },
     "metadata": {
      "image/png": {
       "height": 840,
       "width": 720
      }
     },
     "output_type": "display_data"
    }
   ],
   "source": [
    "plot_grid(genre_danceability_side_boxplots, genre_danceability_side_violin, \n",
    "          genre_valence_side_boxplots, genre_valence_side_violin,\n",
    "          nrow = 2)"
   ]
  },
  {
   "cell_type": "markdown",
   "metadata": {
    "editable": true,
    "slideshow": {
     "slide_type": "slide"
    },
    "tags": []
   },
   "source": [
    "```{exercise}\n",
    ":label: lecture2-q2\n",
    "\n",
    "What can we see **descriptively** from the above plots?\n",
    "```"
   ]
  },
  {
   "cell_type": "markdown",
   "metadata": {
    "editable": true,
    "slideshow": {
     "slide_type": ""
    },
    "tags": []
   },
   "source": [
    "### 3.4. Data Modelling Framework"
   ]
  },
  {
   "cell_type": "markdown",
   "metadata": {
    "editable": true,
    "slideshow": {
     "slide_type": ""
    },
    "tags": []
   },
   "source": [
    "A **Multinomial Logistic Regression model** is a suitable approach to our statistical inquiries given that `genre` is **categorical** and **nominal** (our response of interest) subject to the **numerical** regressors `danceability` and `valence`. Moreover, its corresponding regression estimates will allow us **to measure variable association**."
   ]
  },
  {
   "cell_type": "markdown",
   "metadata": {
    "editable": true,
    "slideshow": {
     "slide_type": ""
    },
    "tags": []
   },
   "source": [
    "#### 3.4.1. Primary Intuition of the Multinomial Logistic Regression Model"
   ]
  },
  {
   "cell_type": "markdown",
   "metadata": {
    "editable": true,
    "slideshow": {
     "slide_type": ""
    },
    "tags": []
   },
   "source": [
    "Digging into the Multinomial Logistic regression model will require checking **Binary Logistic regression** first. Hence, let us do it quickly. Thus, suppose we are initially interested in two genres: `edm` and `latin`."
   ]
  },
  {
   "cell_type": "code",
   "execution_count": 15,
   "metadata": {
    "editable": true,
    "slideshow": {
     "slide_type": ""
    },
    "tags": []
   },
   "outputs": [
    {
     "data": {
      "text/html": [
       "<table class=\"dataframe\">\n",
       "<caption>A tibble: 87 × 6</caption>\n",
       "<thead>\n",
       "\t<tr><th scope=col>title</th><th scope=col>artist</th><th scope=col>album_name</th><th scope=col>genre</th><th scope=col>danceability</th><th scope=col>valence</th></tr>\n",
       "\t<tr><th scope=col>&lt;chr&gt;</th><th scope=col>&lt;fct&gt;</th><th scope=col>&lt;chr&gt;</th><th scope=col>&lt;fct&gt;</th><th scope=col>&lt;dbl&gt;</th><th scope=col>&lt;dbl&gt;</th></tr>\n",
       "</thead>\n",
       "<tbody>\n",
       "\t<tr><td>Toda La Noche</td><td>Alok</td><td>Toda La Noche</td><td>latin</td><td>73.5</td><td>61.6</td></tr>\n",
       "\t<tr><td><span style=white-space:pre-wrap>On &amp; On      </span></td><td>Alok</td><td><span style=white-space:pre-wrap>On &amp; On      </span></td><td><span style=white-space:pre-wrap>edm  </span></td><td>74.7</td><td>67.0</td></tr>\n",
       "\t<tr><td>The Wall     </td><td>Alok</td><td>The Wall     </td><td>edm  </td><td>68.2</td><td>53.6</td></tr>\n",
       "\t<tr><td>Tell Me Why  </td><td>Alok</td><td>Tell Me Why  </td><td>edm  </td><td>56.1</td><td>19.5</td></tr>\n",
       "\t<tr><td>⋮</td><td>⋮</td><td>⋮</td><td>⋮</td><td>⋮</td><td>⋮</td></tr>\n",
       "\t<tr><td>Renegades - Stash Konig Remix</td><td>X Ambassadors</td><td>Renegades (Stash Konig Remix)</td><td>edm</td><td>66.3</td><td>78.9</td></tr>\n",
       "\t<tr><td>Shake                        </td><td>Zeds Dead    </td><td>Shake                        </td><td>edm</td><td>50.1</td><td>36.6</td></tr>\n",
       "\t<tr><td>Sound Of The Underground     </td><td>Zeds Dead    </td><td>Sound Of The Underground     </td><td>edm</td><td>67.5</td><td>19.2</td></tr>\n",
       "</tbody>\n",
       "</table>\n"
      ],
      "text/latex": [
       "A tibble: 87 × 6\n",
       "\\begin{tabular}{llllll}\n",
       " title & artist & album\\_name & genre & danceability & valence\\\\\n",
       " <chr> & <fct> & <chr> & <fct> & <dbl> & <dbl>\\\\\n",
       "\\hline\n",
       "\t Toda La Noche & Alok & Toda La Noche & latin & 73.5 & 61.6\\\\\n",
       "\t On \\& On       & Alok & On \\& On       & edm   & 74.7 & 67.0\\\\\n",
       "\t The Wall      & Alok & The Wall      & edm   & 68.2 & 53.6\\\\\n",
       "\t Tell Me Why   & Alok & Tell Me Why   & edm   & 56.1 & 19.5\\\\\n",
       "\t ⋮ & ⋮ & ⋮ & ⋮ & ⋮ & ⋮\\\\\n",
       "\t Renegades - Stash Konig Remix & X Ambassadors & Renegades (Stash Konig Remix) & edm & 66.3 & 78.9\\\\\n",
       "\t Shake                         & Zeds Dead     & Shake                         & edm & 50.1 & 36.6\\\\\n",
       "\t Sound Of The Underground      & Zeds Dead     & Sound Of The Underground      & edm & 67.5 & 19.2\\\\\n",
       "\\end{tabular}\n"
      ],
      "text/markdown": [
       "\n",
       "A tibble: 87 × 6\n",
       "\n",
       "| title &lt;chr&gt; | artist &lt;fct&gt; | album_name &lt;chr&gt; | genre &lt;fct&gt; | danceability &lt;dbl&gt; | valence &lt;dbl&gt; |\n",
       "|---|---|---|---|---|---|\n",
       "| Toda La Noche | Alok | Toda La Noche | latin | 73.5 | 61.6 |\n",
       "| On &amp; On       | Alok | On &amp; On       | edm   | 74.7 | 67.0 |\n",
       "| The Wall      | Alok | The Wall      | edm   | 68.2 | 53.6 |\n",
       "| Tell Me Why   | Alok | Tell Me Why   | edm   | 56.1 | 19.5 |\n",
       "| ⋮ | ⋮ | ⋮ | ⋮ | ⋮ | ⋮ |\n",
       "| Renegades - Stash Konig Remix | X Ambassadors | Renegades (Stash Konig Remix) | edm | 66.3 | 78.9 |\n",
       "| Shake                         | Zeds Dead     | Shake                         | edm | 50.1 | 36.6 |\n",
       "| Sound Of The Underground      | Zeds Dead     | Sound Of The Underground      | edm | 67.5 | 19.2 |\n",
       "\n"
      ],
      "text/plain": [
       "   title                         artist        album_name                   \n",
       "1  Toda La Noche                 Alok          Toda La Noche                \n",
       "2  On & On                       Alok          On & On                      \n",
       "3  The Wall                      Alok          The Wall                     \n",
       "4  Tell Me Why                   Alok          Tell Me Why                  \n",
       "⋮  ⋮                             ⋮             ⋮                            \n",
       "85 Renegades - Stash Konig Remix X Ambassadors Renegades (Stash Konig Remix)\n",
       "86 Shake                         Zeds Dead     Shake                        \n",
       "87 Sound Of The Underground      Zeds Dead     Sound Of The Underground     \n",
       "   genre danceability valence\n",
       "1  latin 73.5         61.6   \n",
       "2  edm   74.7         67.0   \n",
       "3  edm   68.2         53.6   \n",
       "4  edm   56.1         19.5   \n",
       "⋮  ⋮     ⋮            ⋮      \n",
       "85 edm   66.3         78.9   \n",
       "86 edm   50.1         36.6   \n",
       "87 edm   67.5         19.2   "
      ]
     },
     "metadata": {},
     "output_type": "display_data"
    }
   ],
   "source": [
    "bin_spotify_training <- spotify_training |> \n",
    "  filter(genre %in% c(\"edm\", \"latin\")) |>\n",
    "  mutate(genre = droplevels(genre))\n",
    "bin_spotify_training"
   ]
  },
  {
   "cell_type": "markdown",
   "metadata": {
    "editable": true,
    "slideshow": {
     "slide_type": ""
    },
    "tags": []
   },
   "source": [
    "Note `edm` is the baseline level (i.e., it appears on the left-hand side in the `levels()` output)."
   ]
  },
  {
   "cell_type": "code",
   "execution_count": 16,
   "metadata": {
    "editable": true,
    "slideshow": {
     "slide_type": ""
    },
    "tags": []
   },
   "outputs": [
    {
     "data": {
      "text/html": [
       "<style>\n",
       ".list-inline {list-style: none; margin:0; padding: 0}\n",
       ".list-inline>li {display: inline-block}\n",
       ".list-inline>li:not(:last-child)::after {content: \"\\00b7\"; padding: 0 .5ex}\n",
       "</style>\n",
       "<ol class=list-inline><li>'edm'</li><li>'latin'</li></ol>\n"
      ],
      "text/latex": [
       "\\begin{enumerate*}\n",
       "\\item 'edm'\n",
       "\\item 'latin'\n",
       "\\end{enumerate*}\n"
      ],
      "text/markdown": [
       "1. 'edm'\n",
       "2. 'latin'\n",
       "\n",
       "\n"
      ],
      "text/plain": [
       "[1] \"edm\"   \"latin\""
      ]
     },
     "metadata": {},
     "output_type": "display_data"
    }
   ],
   "source": [
    "levels(bin_spotify_training$genre)"
   ]
  },
  {
   "cell_type": "markdown",
   "metadata": {
    "editable": true,
    "slideshow": {
     "slide_type": ""
    },
    "tags": []
   },
   "source": [
    "Assuming we have a **training set** of $n$ elements, recall that the $i$th response (for $i = 1, \\dots, n$) in a **Binary Logistic regression** is \n",
    "\n",
    "$$Y_i =\n",
    "\\begin{cases}\n",
    "1 \\; \\; \\; \\; \\mbox{if the genre is } \\texttt{latin},\\\\\n",
    "0 \\; \\; \\; \\; \\mbox{if the baseline genre is } \\texttt{edm}.\n",
    "\\end{cases}\n",
    "$$\n",
    "\n",
    "Therefore\n",
    "\n",
    "$$Y_i \\sim \\text{Bernoulli}(p_i),$$\n",
    "\n",
    "whose probability of success is $p_i$."
   ]
  },
  {
   "cell_type": "markdown",
   "metadata": {
    "editable": true,
    "slideshow": {
     "slide_type": ""
    },
    "tags": []
   },
   "source": [
    "In this model, we will use the following **link function** (where $X_{i,\\texttt{dance}}$ anf $X_{i,\\texttt{val}}$ are the `danceability` and `valence` scores for the $i$th song, respectively):\n",
    "\n",
    "```{math}\n",
    "\\begin{align*}\n",
    "\\mbox{logit}(p_i) &= \\log\\left(\\frac{p_i}{1 - p_i}\\right) \\nonumber \\\\\n",
    "&= \\log \\left[ \\frac{P(Y_i = \\texttt{latin}\\mid X_{i,\\texttt{dance}}, X_{i,\\texttt{val}})}{P(Y_i = \\texttt{edm} \\mid X_{i,\\texttt{dance}}, X_{i,\\texttt{val}})}) \\right] \\nonumber \\\\\n",
    "&= \\beta_0 + \\beta_1 X_{i,\\texttt{dance}} + \\beta_2 X_{i,\\texttt{val}}.\n",
    "\\end{align*}\n",
    "```\n",
    "\n",
    "In plain words, the **natural logarithm** of the **odds** is equal to a **systematic component** containing the regressors $X_{i,\\texttt{dance}}$ and $X_{i,\\texttt{val}}$."
   ]
  },
  {
   "cell_type": "markdown",
   "metadata": {
    "editable": true,
    "slideshow": {
     "slide_type": ""
    },
    "tags": []
   },
   "source": [
    " Recall that this model can be fitted as follows:"
   ]
  },
  {
   "cell_type": "code",
   "execution_count": 17,
   "metadata": {
    "editable": true,
    "slideshow": {
     "slide_type": ""
    },
    "tags": []
   },
   "outputs": [],
   "source": [
    "spotify_bin_log_model <- glm(\n",
    "  formula = genre ~ danceability + valence,\n",
    "  data = bin_spotify_training,\n",
    "  family = binomial\n",
    ")"
   ]
  },
  {
   "cell_type": "markdown",
   "metadata": {
    "editable": true,
    "slideshow": {
     "slide_type": ""
    },
    "tags": []
   },
   "source": [
    "Note that only `valence` is statistically significant for the response `genre` ($p\\text{-value} < .001$)."
   ]
  },
  {
   "cell_type": "code",
   "execution_count": 18,
   "metadata": {
    "editable": true,
    "slideshow": {
     "slide_type": ""
    },
    "tags": []
   },
   "outputs": [
    {
     "data": {
      "text/html": [
       "<table class=\"dataframe\">\n",
       "<caption>A tibble: 3 × 7</caption>\n",
       "<thead>\n",
       "\t<tr><th scope=col>term</th><th scope=col>estimate</th><th scope=col>std.error</th><th scope=col>statistic</th><th scope=col>p.value</th><th scope=col>conf.low</th><th scope=col>conf.high</th></tr>\n",
       "\t<tr><th scope=col>&lt;chr&gt;</th><th scope=col>&lt;dbl&gt;</th><th scope=col>&lt;dbl&gt;</th><th scope=col>&lt;dbl&gt;</th><th scope=col>&lt;dbl&gt;</th><th scope=col>&lt;dbl&gt;</th><th scope=col>&lt;dbl&gt;</th></tr>\n",
       "</thead>\n",
       "<tbody>\n",
       "\t<tr><td>(Intercept) </td><td>0.36</td><td>1.70</td><td>-0.60</td><td>0.55</td><td>0.01</td><td>8.91</td></tr>\n",
       "\t<tr><td>danceability</td><td>0.97</td><td>0.03</td><td>-1.23</td><td>0.22</td><td>0.92</td><td>1.02</td></tr>\n",
       "\t<tr><td>valence     </td><td>1.05</td><td>0.01</td><td> 3.47</td><td>0.00</td><td>1.02</td><td>1.08</td></tr>\n",
       "</tbody>\n",
       "</table>\n"
      ],
      "text/latex": [
       "A tibble: 3 × 7\n",
       "\\begin{tabular}{lllllll}\n",
       " term & estimate & std.error & statistic & p.value & conf.low & conf.high\\\\\n",
       " <chr> & <dbl> & <dbl> & <dbl> & <dbl> & <dbl> & <dbl>\\\\\n",
       "\\hline\n",
       "\t (Intercept)  & 0.36 & 1.70 & -0.60 & 0.55 & 0.01 & 8.91\\\\\n",
       "\t danceability & 0.97 & 0.03 & -1.23 & 0.22 & 0.92 & 1.02\\\\\n",
       "\t valence      & 1.05 & 0.01 &  3.47 & 0.00 & 1.02 & 1.08\\\\\n",
       "\\end{tabular}\n"
      ],
      "text/markdown": [
       "\n",
       "A tibble: 3 × 7\n",
       "\n",
       "| term &lt;chr&gt; | estimate &lt;dbl&gt; | std.error &lt;dbl&gt; | statistic &lt;dbl&gt; | p.value &lt;dbl&gt; | conf.low &lt;dbl&gt; | conf.high &lt;dbl&gt; |\n",
       "|---|---|---|---|---|---|---|\n",
       "| (Intercept)  | 0.36 | 1.70 | -0.60 | 0.55 | 0.01 | 8.91 |\n",
       "| danceability | 0.97 | 0.03 | -1.23 | 0.22 | 0.92 | 1.02 |\n",
       "| valence      | 1.05 | 0.01 |  3.47 | 0.00 | 1.02 | 1.08 |\n",
       "\n"
      ],
      "text/plain": [
       "  term         estimate std.error statistic p.value conf.low conf.high\n",
       "1 (Intercept)  0.36     1.70      -0.60     0.55    0.01     8.91     \n",
       "2 danceability 0.97     0.03      -1.23     0.22    0.92     1.02     \n",
       "3 valence      1.05     0.01       3.47     0.00    1.02     1.08     "
      ]
     },
     "metadata": {},
     "output_type": "display_data"
    }
   ],
   "source": [
    "tidy(spotify_bin_log_model, conf.int = TRUE, exponentiate = TRUE) |> \n",
    "  mutate_if(is.numeric, round, 2)"
   ]
  },
  {
   "cell_type": "markdown",
   "metadata": {
    "editable": true,
    "slideshow": {
     "slide_type": ""
    },
    "tags": []
   },
   "source": [
    "Then, we make the corresponding coefficient interpretations (the previous output already provides the estimate on the odds scale via `exponentiate = TRUE`):\n",
    "\n",
    "> For each unit increase in the `valence` score in the Spotify catalogue, the song is 1.05 times more likely to be `latin` than `edm`."
   ]
  },
  {
   "cell_type": "markdown",
   "metadata": {},
   "source": [
    "#### 3.4.2.  More than One Logit Function"
   ]
  },
  {
   "cell_type": "markdown",
   "metadata": {},
   "source": [
    "**What if our response is nominal and has more than two categories?** In that case, let us suppose that a given **discrete nominal response $Y_i$ has categories $1, 2, \\dots, m$**."
   ]
  },
  {
   "cell_type": "markdown",
   "metadata": {},
   "source": [
    "```{important}\n",
    "Categories $1, 2, \\dots, m$ **are merely labels here**. Thus, they **do not** implicate an ordinal scale.\n",
    "```"
   ]
  },
  {
   "cell_type": "markdown",
   "metadata": {},
   "source": [
    "This regression approach assumes a [**Multinomial distribution**](https://www.sciencedirect.com/topics/mathematics/multinomial-distribution) where $p_{i,1}, p_{i,2}, \\dots, p_{i,m}$ are the probabilities that $Y_i$ will belong to categories $1, 2, \\dots, m$ respectively; i.e.,\n",
    "\n",
    "$$\n",
    "P(Y_i = 1) = p_{i,1} \\;\\;\\;\\; P(Y_i = 2) = p_{i,2} \\;\\; \\dots \\;\\; P(Y_i = m) = p_{i,m},\n",
    "$$\n",
    "\n",
    "where\n",
    "\n",
    "$$\n",
    "\\sum_{j = 1}^m p_{i,j} = p_{i,1} + p_{i,2} + \\dots + p_{i,m} = 1.\n",
    "$$"
   ]
  },
  {
   "cell_type": "markdown",
   "metadata": {
    "slideshow": {
     "slide_type": "fragment"
    }
   },
   "source": [
    "```{important}\n",
    "A particular highlight is that the Binomial distribution is the special Multinomial case when $m = 2$.\n",
    "```"
   ]
  },
  {
   "cell_type": "markdown",
   "metadata": {},
   "source": [
    "The Multinomial Logistic regression **also models the logarithm of the odds**. However, only one logarithm of the odds (or **logit**) will not be enough anymore. Recall we can capture the odds between two categories with a single logit function. **What about adding some other ones?**\n",
    "\n",
    "Here is what we can do:\n",
    "\n",
    "1. Pick one of the categories to be the **baseline**. For example, the category \"$1$\".\n",
    "2. For each of the **other** categories, we model the logarithm of the odds to the baseline category."
   ]
  },
  {
   "cell_type": "markdown",
   "metadata": {
    "slideshow": {
     "slide_type": "skip"
    }
   },
   "source": [
    "Now, **what is the math for the general case with $m$ response categories and $k$ regressors?** For the $i$th observation, we end up with a system of $m - 1$ link functions in the Multinomial Logistic regression model as follows:\n",
    "\n",
    "```{math}\n",
    ":label: multinomial-model\n",
    "\\begin{gather*}\n",
    "\\eta_i^{(2,1)} = \\log\\left[\\frac{P(Y_i = 2\\mid X_{i,1}, \\ldots, X_{i,k})}{P(Y_i = 1 \\mid X_{i,1}, \\ldots, X_{i,k})}\\right] = \\beta_0^{(2,1)} + \\beta_1^{(2,1)} X_{i, 1} + \\beta_2^{(2,1)} X_{i, 2} + \\ldots + \\beta_k^{(2,1)} X_{i, k} \\\\\n",
    "\\eta_i^{(3,1)} = \\log\\left[\\frac{P(Y_i = 3\\mid X_{i,1}, \\ldots, X_{i,k})}{P(Y_i = 1 \\mid X_{i,1}, \\ldots, X_{i,k})}\\right] = \\beta_0^{(3,1)} + \\beta_1^{(3,1)} X_{i, 1} + \\beta_2^{(3,1)} X_{i, 2} + \\ldots + \\beta_k^{(3,1)} X_{i, k} \\\\\n",
    "\\vdots \\\\\n",
    "\\eta_i^{(m,1)} = \\log\\left[\\frac{P(Y_i = m\\mid X_{i,1}, \\ldots, X_{i,k})}{P(Y_i = 1 \\mid X_{i,1}, \\ldots, X_{i,k})}\\right] = \\beta_0^{(m,1)} + \\beta_1^{(m,1)} X_{i, 1} + \\beta_2^{(m,1)} X_{i, 2} + \\ldots + \\beta_k^{(m,1)} X_{i, k}.\n",
    "\\end{gather*}\n",
    "```"
   ]
  },
  {
   "cell_type": "markdown",
   "metadata": {
    "editable": true,
    "slideshow": {
     "slide_type": ""
    },
    "tags": []
   },
   "source": [
    "```{important}\n",
    "Note that the superscript $(j, 1)$ in {eq}`multinomial-model` indicates that the equation is on level $j$ (for $j = 2, \\dots, m$) with respect to level $1$. Furthermore, **the regression intercept and coefficients are different for each link function**.\n",
    "```"
   ]
  },
  {
   "cell_type": "markdown",
   "metadata": {
    "editable": true,
    "slideshow": {
     "slide_type": ""
    },
    "tags": []
   },
   "source": [
    "With some algebraic manipulation, we can show that the probabilities $p_{i,1}, p_{i,2}, \\dots, p_{i,m}$ of $Y_i$ belonging to categories $1, 2, \\dots, m$ are:\n",
    "\n",
    "```{math}\n",
    ":label: prob-multinomial\n",
    "\\begin{gather*}\n",
    "p_{i,1} = P(Y_i = 1 \\mid X_{i,1}, \\ldots, X_{i,k}) = \\frac{1}{1 + \\sum_{j = 2}^m \\exp \\big( \\eta_i^{(j,1)} \\big)} \\\\\n",
    "p_{i,2} = P(Y_i = 2 \\mid X_{i,1}, \\ldots, X_{i,k}) = \\frac{\\exp \\big( \\eta_i^{(2,1)} \\big)}{1 + \\sum_{j = 2}^m \\exp \\big( \\eta_i^{(j,1)} \\big)} \\\\\n",
    "\\vdots \\\\\n",
    "p_{i,m} = P(Y_i = m \\mid X_{i,1}, \\ldots, X_{i,k}) = \\frac{\\exp \\big( \\eta_i^{(m,1)} \\big)}{1 + \\sum_{j = 2}^m \\exp \\big( \\eta_i^{(j,1)} \\big)}.\n",
    "\\end{gather*}\n",
    "```"
   ]
  },
  {
   "cell_type": "markdown",
   "metadata": {
    "editable": true,
    "slideshow": {
     "slide_type": ""
    },
    "tags": []
   },
   "source": [
    "```{important}\n",
    "If we sum all $m$ probabilities in {eq}`prob-multinomial`, the sum will be equal to $1$ for the $i$th observation. **This is particularly important when we want to use this model for making predictions in classification matters**.\n",
    "```"
   ]
  },
  {
   "cell_type": "markdown",
   "metadata": {
    "editable": true,
    "slideshow": {
     "slide_type": "slide"
    },
    "tags": []
   },
   "source": [
    "Going back to our example, let us set the Multinomial Logistic regression model with `genre` as a response subject to `danceability` and `valence` as a continuous regressor. Level `edm` will be the baseline:"
   ]
  },
  {
   "cell_type": "code",
   "execution_count": 19,
   "metadata": {
    "editable": true,
    "slideshow": {
     "slide_type": ""
    },
    "tags": []
   },
   "outputs": [
    {
     "data": {
      "text/html": [
       "<style>\n",
       ".list-inline {list-style: none; margin:0; padding: 0}\n",
       ".list-inline>li {display: inline-block}\n",
       ".list-inline>li:not(:last-child)::after {content: \"\\00b7\"; padding: 0 .5ex}\n",
       "</style>\n",
       "<ol class=list-inline><li>'edm'</li><li>'latin'</li><li>'pop'</li><li>'r&amp;b'</li><li>'rap'</li><li>'rock'</li></ol>\n"
      ],
      "text/latex": [
       "\\begin{enumerate*}\n",
       "\\item 'edm'\n",
       "\\item 'latin'\n",
       "\\item 'pop'\n",
       "\\item 'r\\&b'\n",
       "\\item 'rap'\n",
       "\\item 'rock'\n",
       "\\end{enumerate*}\n"
      ],
      "text/markdown": [
       "1. 'edm'\n",
       "2. 'latin'\n",
       "3. 'pop'\n",
       "4. 'r&amp;b'\n",
       "5. 'rap'\n",
       "6. 'rock'\n",
       "\n",
       "\n"
      ],
      "text/plain": [
       "[1] \"edm\"   \"latin\" \"pop\"   \"r&b\"   \"rap\"   \"rock\" "
      ]
     },
     "metadata": {},
     "output_type": "display_data"
    }
   ],
   "source": [
    "levels(spotify_training$genre)"
   ]
  },
  {
   "cell_type": "markdown",
   "metadata": {
    "editable": true,
    "slideshow": {
     "slide_type": ""
    },
    "tags": []
   },
   "source": [
    "Specifically, this case will implicate a **system of $m - 1 = 6 - 1= 5$ regression equations** (where $X_{i,\\texttt{dance}}$ anf $X_{i,\\texttt{val}}$ are the `danceability` and `valence` scores for the $i$th song, respectively):"
   ]
  },
  {
   "cell_type": "markdown",
   "metadata": {
    "editable": true,
    "slideshow": {
     "slide_type": "fragment"
    },
    "tags": []
   },
   "source": [
    "```{math}\n",
    ":label: multinomial-model-spotify\n",
    "\\begin{align*}\n",
    "\\eta_i^{(\\texttt{latin},\\texttt{edm})} = \\log\\left[\\frac{P(Y_i = \\texttt{latin} \\mid X_{i, \\texttt{dance}}, X_{i, \\texttt{val}})}{P(Y_i = \\texttt{edm} \\mid X_{i, \\texttt{dance}}, X_{i, \\texttt{val}})}\\right] = \\beta_0^{(\\texttt{latin},\\texttt{edm})} + \\beta_1^{(\\texttt{latin},\\texttt{edm})} X_{i, \\texttt{dance}} + \\beta_2^{(\\texttt{latin},\\texttt{edm})} X_{i, \\texttt{val}} \\\\\n",
    "\\eta_i^{(\\texttt{pop},\\texttt{edm})} = \\log\\left[\\frac{P(Y_i = \\texttt{pop} \\mid X_{i, \\texttt{dance}}, X_{i, \\texttt{val}})}{P(Y_i = \\texttt{edm} \\mid X_{i, \\texttt{dance}}, X_{i, \\texttt{val}})}\\right] = \\beta_0^{(\\texttt{pop},\\texttt{edm})} + \\beta_1^{(\\texttt{pop},\\texttt{edm})} X_{i, \\texttt{dance}} + \\beta_2^{(\\texttt{pop},\\texttt{edm})} X_{i, \\texttt{val}} \\\\\n",
    "\\eta_i^{(\\texttt{r&b},\\texttt{edm})} = \\log\\left[\\frac{P(Y_i = \\texttt{r&b} \\mid X_{i, \\texttt{dance}}, X_{i, \\texttt{val}})}{P(Y_i = \\texttt{edm} \\mid X_{i, \\texttt{dance}}, X_{i, \\texttt{val}})}\\right] = \\beta_0^{(\\texttt{r&b},\\texttt{edm})} + \\beta_1^{(\\texttt{r&b},\\texttt{edm})} X_{i, \\texttt{dance}} + \\beta_2^{(\\texttt{r&b},\\texttt{edm})} X_{i, \\texttt{val}} \\\\\n",
    "\\eta_i^{(\\texttt{rap},\\texttt{edm})} = \\log\\left[\\frac{P(Y_i = \\texttt{rap} \\mid X_{i, \\texttt{dance}}, X_{i, \\texttt{val}})}{P(Y_i = \\texttt{edm} \\mid X_{i, \\texttt{dance}}, X_{i, \\texttt{val}})}\\right] = \\beta_0^{(\\texttt{rap},\\texttt{edm})} + \\beta_1^{(\\texttt{rap},\\texttt{edm})} X_{i, \\texttt{dance}} + \\beta_2^{(\\texttt{rap},\\texttt{edm})} X_{i, \\texttt{val}} \\\\\n",
    "\\eta_i^{(\\texttt{rock},\\texttt{edm})} = \\log\\left[\\frac{P(Y_i = \\texttt{rock} \\mid X_{i, \\texttt{dance}}, X_{i, \\texttt{val}})}{P(Y_i = \\texttt{edm} \\mid X_{i, \\texttt{dance}}, X_{i, \\texttt{val}})}\\right] = \\beta_0^{(\\texttt{rock},\\texttt{edm})} + \\beta_1^{(\\texttt{rock},\\texttt{edm})} X_{i, \\texttt{dance}} + \\beta_2^{(\\texttt{rock},\\texttt{edm})} X_{i, \\texttt{val}}.\n",
    "\\end{align*}\n",
    "```"
   ]
  },
  {
   "cell_type": "markdown",
   "metadata": {
    "editable": true,
    "slideshow": {
     "slide_type": ""
    },
    "tags": []
   },
   "source": [
    "```{important} \n",
    "In a Multinomial Logistic regression model, each link function has its own intercept and regression coefficients.\n",
    "```"
   ]
  },
  {
   "cell_type": "markdown",
   "metadata": {
    "editable": true,
    "slideshow": {
     "slide_type": ""
    },
    "tags": []
   },
   "source": [
    "The modelling system of 5 logit functions {eq}`multinomial-model-spotify` can also be mathematically represented as follows (which might be helpful for our subsequent coefficient interpretation:"
   ]
  },
  {
   "cell_type": "markdown",
   "metadata": {
    "editable": true,
    "slideshow": {
     "slide_type": ""
    },
    "tags": []
   },
   "source": [
    "```{math}\n",
    ":label: multinomial-model-spotify-2\n",
    "\\begin{gather*}\n",
    "\\frac{P(Y_i = \\texttt{latin}\\mid X_{i,\\texttt{dance}}, X_{i,\\texttt{val}})}{P(Y_i = \\texttt{edm} \\mid X_{i,\\texttt{dance}}, X_{i,\\texttt{val}})} = \\exp\\left[\\beta_0^{(\\texttt{latin},\\texttt{edm})}\\right] \\exp\\left[\\beta_1^{(\\texttt{latin},\\texttt{edm})} X_{i,\\texttt{dance}}\\right] \\exp\\left[\\beta_2^{(\\texttt{latin},\\texttt{edm})} X_{i,\\texttt{val}}\\right] \\\\\n",
    "\\frac{P(Y_i = \\texttt{pop}\\mid X_{i,\\texttt{dance}}, X_{i,\\texttt{val}})}{P(Y_i = \\texttt{edm} \\mid X_{i,\\texttt{dance}}, X_{i,\\texttt{val}})} = \\exp\\left[\\beta_0^{(\\texttt{pop},\\texttt{edm})}\\right] \\exp\\left[\\beta_1^{(\\texttt{pop},\\texttt{edm})} X_{i,\\texttt{dance}}\\right] \\exp\\left[\\beta_2^{(\\texttt{pop},\\texttt{edm})} X_{i,\\texttt{val}}\\right] \\\\\n",
    "\\frac{P(Y_i = \\texttt{r&b}\\mid X_{i,\\texttt{dance}}, X_{i,\\texttt{val}})}{P(Y_i = \\texttt{edm} \\mid X_{i,\\texttt{dance}}, X_{i,\\texttt{val}})} = \\exp\\left[\\beta_0^{(\\texttt{r&b},\\texttt{edm})}\\right] \\exp\\left[\\beta_1^{(\\texttt{r&b},\\texttt{edm})} X_{i,\\texttt{dance}}\\right] \\exp\\left[\\beta_2^{(\\texttt{r&b},\\texttt{edm})} X_{i,\\texttt{val}}\\right]\\\\\n",
    "\\frac{P(Y_i = \\texttt{rap}\\mid X_{i,\\texttt{dance}}, X_{i,\\texttt{val}})}{P(Y_i = \\texttt{edm} \\mid X_{i,\\texttt{dance}}, X_{i,\\texttt{val}})} = \\exp\\left[\\beta_0^{(\\texttt{rap},\\texttt{edm})}\\right] \\exp\\left[\\beta_1^{(\\texttt{rap},\\texttt{edm})} X_{i,\\texttt{dance}}\\right] \\exp\\left[\\beta_2^{(\\texttt{rap},\\texttt{edm})} X_{i,\\texttt{val}}\\right]\\\\\n",
    "\\frac{P(Y_i = \\texttt{rock}\\mid X_{i,\\texttt{dance}}, X_{i,\\texttt{val}})}{P(Y_i = \\texttt{edm} \\mid X_{i,\\texttt{dance}}, X_{i,\\texttt{val}})} = \\exp\\left[\\beta_0^{(\\texttt{rock},\\texttt{edm})}\\right] \\exp\\left[\\beta_1^{(\\texttt{rock},\\texttt{edm})} X_{i,\\texttt{dance}}\\right]\n",
    "\\exp\\left[\\beta_2^{(\\texttt{rock},\\texttt{edm})} X_{i,\\texttt{val}}\\right].\n",
    "\\end{gather*}\n",
    "```"
   ]
  },
  {
   "cell_type": "markdown",
   "metadata": {
    "editable": true,
    "slideshow": {
     "slide_type": ""
    },
    "tags": []
   },
   "source": [
    "Finally, the probabilities of $Y_i$ belonging to categories `edm`, `latin`, `pop`, `r&b`, `rap`, and `rock` are:"
   ]
  },
  {
   "cell_type": "markdown",
   "metadata": {
    "editable": true,
    "slideshow": {
     "slide_type": ""
    },
    "tags": []
   },
   "source": [
    "```{math}\n",
    "\\begin{gather*}\n",
    "p_{i,\\texttt{edm}} = P(Y_i = \\texttt{edm} \\mid X_{i,\\texttt{dance}}, X_{i,\\texttt{val}}) = \\frac{1}{1 + \\exp\\big(\\eta_i^{(\\texttt{latin},\\texttt{edm})}\\big) + \\exp\\big(\\eta_i^{(\\texttt{pop},\\texttt{edm})}\\big) + \\exp\\big(\\eta_i^{(\\texttt{r&b},\\texttt{edm})}\\big) + \\exp\\big(\\eta_i^{(\\texttt{rap},\\texttt{edm})}\\big) + \\exp\\big(\\eta_i^{(\\texttt{rock},\\texttt{edm})}\\big)} \\\\\n",
    "p_{i,\\texttt{latin}} = P(Y_i = \\texttt{latin} \\mid X_{i,\\texttt{dance}}, X_{i,\\texttt{val}}) = \\frac{\\exp\\big(\\eta_i^{(\\texttt{latin},\\texttt{edm})}\\big)}{1 + \\exp\\big(\\eta_i^{(\\texttt{latin},\\texttt{edm})}\\big) + \\exp\\big(\\eta_i^{(\\texttt{pop},\\texttt{edm})}\\big) + \\exp\\big(\\eta_i^{(\\texttt{r&b},\\texttt{edm})}\\big) + \\exp\\big(\\eta_i^{(\\texttt{rap},\\texttt{edm})}\\big) + \\exp\\big(\\eta_i^{(\\texttt{rock},\\texttt{edm})}\\big)}\\\\\n",
    "p_{i,\\texttt{pop}} = P(Y_i = \\texttt{pop} \\mid X_{i,\\texttt{dance}}, X_{i,\\texttt{val}}) = \\frac{\\exp\\big(\\eta_i^{(\\texttt{pop},\\texttt{edm})}\\big)}{1 + \\exp\\big(\\eta_i^{(\\texttt{latin},\\texttt{edm})}\\big) + \\exp\\big(\\eta_i^{(\\texttt{pop},\\texttt{edm})}\\big) + \\exp\\big(\\eta_i^{(\\texttt{r&b},\\texttt{edm})}\\big) + \\exp\\big(\\eta_i^{(\\texttt{rap},\\texttt{edm})}\\big) + \\exp\\big(\\eta_i^{(\\texttt{rock},\\texttt{edm})}\\big)} \\\\\n",
    "p_{i,\\texttt{r&b}} = P(Y_i = \\texttt{r&b} \\mid X_{i,\\texttt{dance}}, X_{i,\\texttt{val}}) = \\frac{\\exp\\big(\\eta_i^{(\\texttt{r&b},\\texttt{edm})}\\big)}{1 + \\exp\\big(\\eta_i^{(\\texttt{latin},\\texttt{edm})}\\big) + \\exp\\big(\\eta_i^{(\\texttt{pop},\\texttt{edm})}\\big) + \\exp\\big(\\eta_i^{(\\texttt{r&b},\\texttt{edm})}\\big) + \\exp\\big(\\eta_i^{(\\texttt{rap},\\texttt{edm})}\\big) + \\exp\\big(\\eta_i^{(\\texttt{rock},\\texttt{edm})}\\big)} \\\\\n",
    "p_{i,\\texttt{rap}} = P(Y_i = \\texttt{rap} \\mid X_{i,\\texttt{dance}}, X_{i,\\texttt{val}}) = \\frac{\\exp\\big(\\eta_i^{(\\texttt{rap},\\texttt{edm})}\\big)}{1 + \\exp\\big(\\eta_i^{(\\texttt{latin},\\texttt{edm})}\\big) + \\exp\\big(\\eta_i^{(\\texttt{pop},\\texttt{edm})}\\big) + \\exp\\big(\\eta_i^{(\\texttt{r&b},\\texttt{edm})}\\big) + \\exp\\big(\\eta_i^{(\\texttt{rap},\\texttt{edm})}\\big) + \\exp\\big(\\eta_i^{(\\texttt{rock},\\texttt{edm})}\\big)} \\\\\n",
    "p_{i,\\texttt{rock}} = P(Y_i = \\texttt{rock} \\mid X_{i,\\texttt{dance}}, X_{i,\\texttt{val}}) = \\frac{\\exp\\big(\\eta_i^{(\\texttt{rock},\\texttt{edm})}\\big)}{1 + \\exp\\big(\\eta_i^{(\\texttt{latin},\\texttt{edm})}\\big) + \\exp\\big(\\eta_i^{(\\texttt{pop},\\texttt{edm})}\\big) + \\exp\\big(\\eta_i^{(\\texttt{r&b},\\texttt{edm})}\\big) + \\exp\\big(\\eta_i^{(\\texttt{rap},\\texttt{edm})}\\big) + \\exp\\big(\\eta_i^{(\\texttt{rock},\\texttt{edm})}\\big)}.\n",
    "\\end{gather*}\n",
    "```"
   ]
  },
  {
   "cell_type": "markdown",
   "metadata": {
    "editable": true,
    "slideshow": {
     "slide_type": ""
    },
    "tags": []
   },
   "source": [
    "Now, let us discuss some in-class questions:"
   ]
  },
  {
   "cell_type": "markdown",
   "metadata": {
    "editable": true,
    "slideshow": {
     "slide_type": ""
    },
    "tags": []
   },
   "source": [
    "```{exercise}\n",
    ":label: lecture2-q3\n",
    "\n",
    "Answer **TRUE** or **FALSE**:\n",
    "\n",
    "Now that we removed the restriction of only one link function, we also removed the distributional assumption for $Y_i$. Hence, our model has no distributional assumption.\n",
    "\n",
    "**A.** TRUE\n",
    "\n",
    "**B.** FALSE\n",
    "```"
   ]
  },
  {
   "cell_type": "markdown",
   "metadata": {},
   "source": [
    "```{exercise}\n",
    ":label: lecture2-q4\n",
    "\n",
    "Answer **TRUE** or **FALSE**:\n",
    "\n",
    "From the statistical point of view, the model is now non-parametric.\n",
    "\n",
    "**A.** TRUE\n",
    "\n",
    "**B.** FALSE\n",
    "```"
   ]
  },
  {
   "cell_type": "markdown",
   "metadata": {
    "editable": true,
    "slideshow": {
     "slide_type": "slide"
    },
    "tags": []
   },
   "source": [
    "```{exercise}\n",
    ":label: lecture2-q5\n",
    "\n",
    "Suppose that, given our inquiries, a peer suggests we fit two separate OLS with `genre` as a regressor and `danceability` **OR** `valence` as the responses. Can you think of some drawbacks of this suggested approach?\n",
    "```"
   ]
  },
  {
   "cell_type": "markdown",
   "metadata": {
    "editable": true,
    "slideshow": {
     "slide_type": ""
    },
    "tags": []
   },
   "source": [
    "### 3.5. Estimation"
   ]
  },
  {
   "cell_type": "markdown",
   "metadata": {},
   "source": [
    "**All parameters** in the Multinomial Logistic regression model are also unknown. To fit the model with the package `nnet`, we use the function `multinom()`, which obtains the corresponding estimates. The estimates are obtained through **maximum likelihood**, where we assume a **Multinomial joint probability mass function** of the $n$ responses $Y_i$."
   ]
  },
  {
   "cell_type": "markdown",
   "metadata": {
    "editable": true,
    "slideshow": {
     "slide_type": ""
    },
    "tags": []
   },
   "source": [
    "```{admonition} Note\n",
    ":class: note\n",
    "We will not dig into mathematical derivations regarding maximum likelihood estimation (MLE) for this model since it would require digging into matrix notation, which is out of this course's scope. That said, you can find more information on this matter [**here**](https://czep.net/stat/mlelr.pdf).\n",
    "```"
   ]
  },
  {
   "cell_type": "code",
   "execution_count": 20,
   "metadata": {
    "editable": true,
    "slideshow": {
     "slide_type": ""
    },
    "tags": []
   },
   "outputs": [
    {
     "name": "stdout",
     "output_type": "stream",
     "text": [
      "# weights:  24 (15 variable)\n"
     ]
    },
    {
     "name": "stdout",
     "output_type": "stream",
     "text": [
      "initial  value 627.115814 \n",
      "iter  10 value 582.728217\n",
      "iter  20 value 559.441415\n",
      "final  value 559.441352 \n",
      "converged\n"
     ]
    }
   ],
   "source": [
    "spotify_mult_log_model <- multinom(\n",
    "  formula = genre ~ danceability + valence,\n",
    "  data = spotify_training\n",
    ")"
   ]
  },
  {
   "cell_type": "markdown",
   "metadata": {
    "editable": true,
    "slideshow": {
     "slide_type": ""
    },
    "tags": []
   },
   "source": [
    "### 3.6. Inference"
   ]
  },
  {
   "cell_type": "markdown",
   "metadata": {
    "editable": true,
    "slideshow": {
     "slide_type": "slide"
    },
    "tags": []
   },
   "source": [
    "**We can determine whether a regressor is statistically associated with the logarithm of the odds** through hypothesis testing for the parameters $\\beta_j^{(u, v)}$ **by link function**. We also use the **Wald statistic** $z_j^{(u, v)}$:\n",
    "\n",
    "```{math}\n",
    "\\begin{equation*}\n",
    "z_j^{(u, v)} = \\frac{\\hat{\\beta}_j^{(u, v)}}{\\mbox{se}\\left(\\hat{\\beta}_j^{(u, v)}\\right)}\n",
    "\\end{equation*}\n",
    "```\n",
    "\n",
    "to test the hypotheses\n",
    "\n",
    "```{math}\n",
    "\\begin{gather*}\n",
    "H_0: \\beta_j^{(u, v)} = 0\\\\\n",
    "H_a: \\beta_j^{(u, v)} \\neq 0.\n",
    "\\end{gather*}\n",
    "```\n",
    "\n",
    "Provided the sample size $n$ is large enough, $z_j$ has an **approximately Standard Normal distribution** under $H_0$."
   ]
  },
  {
   "cell_type": "markdown",
   "metadata": {
    "editable": true,
    "slideshow": {
     "slide_type": "skip"
    },
    "tags": []
   },
   "source": [
    "`R` provides the corresponding **$p$-values** for each $\\beta_j^{(u, v)}$. The smaller the $p$-value, the stronger the evidence against the null hypothesis $H_0$. As in the previous regression models, we would set a predetermined significance level $\\alpha$ (usually taken to be 0.05) to infer if the $p$-value is small enough. If the $p$-value is smaller than the predetermined level $\\alpha$, then you could claim that there is evidence to reject the null hypothesis. Hence, $p$-values that are small enough indicate that the data provides evidence in favour of **association** (**or causation in the case of an experimental study!**) between the response variable and the $j$th regressor."
   ]
  },
  {
   "cell_type": "markdown",
   "metadata": {
    "editable": true,
    "slideshow": {
     "slide_type": ""
    },
    "tags": []
   },
   "source": [
    "Furthermore, given a specified level of confidence where $\\alpha$ is the significance level, we can construct approximate $(1 - \\alpha) \\times 100\\%$ **confidence intervals** for the corresponding true value of $\\beta_j^{(u, v)}$:\n",
    "\n",
    "```{math}\n",
    "\\begin{equation*}\n",
    "\\hat{\\beta}_j^{(u, v)} \\pm z_{\\alpha/2}\\mbox{se} \\left( \\hat{\\beta}_j^{(u, v)} \\right),\n",
    "\\end{equation*}\n",
    "```\n",
    "\n",
    "where $z_{\\alpha/2}$ is the upper $\\alpha/2$ quantile of the **Standard Normal distribution**."
   ]
  },
  {
   "cell_type": "markdown",
   "metadata": {
    "editable": true,
    "slideshow": {
     "slide_type": ""
    },
    "tags": []
   },
   "source": [
    "We can also use the function `tidy()` from the `broom` package along with argument `conf.int = TRUE` to get the 95% confidence intervals **by default**."
   ]
  },
  {
   "cell_type": "code",
   "execution_count": 21,
   "metadata": {
    "editable": true,
    "slideshow": {
     "slide_type": ""
    },
    "tags": []
   },
   "outputs": [
    {
     "data": {
      "text/html": [
       "<table class=\"dataframe\">\n",
       "<caption>A tibble: 15 × 8</caption>\n",
       "<thead>\n",
       "\t<tr><th scope=col>y.level</th><th scope=col>term</th><th scope=col>estimate</th><th scope=col>std.error</th><th scope=col>statistic</th><th scope=col>p.value</th><th scope=col>conf.low</th><th scope=col>conf.high</th></tr>\n",
       "\t<tr><th scope=col>&lt;chr&gt;</th><th scope=col>&lt;chr&gt;</th><th scope=col>&lt;dbl&gt;</th><th scope=col>&lt;dbl&gt;</th><th scope=col>&lt;dbl&gt;</th><th scope=col>&lt;dbl&gt;</th><th scope=col>&lt;dbl&gt;</th><th scope=col>&lt;dbl&gt;</th></tr>\n",
       "</thead>\n",
       "<tbody>\n",
       "\t<tr><td>latin</td><td>(Intercept) </td><td> 0.101</td><td>1.419</td><td>-1.617</td><td>0.106</td><td>0.006</td><td>  1.628</td></tr>\n",
       "\t<tr><td>latin</td><td>danceability</td><td> 0.981</td><td>0.020</td><td>-0.976</td><td>0.329</td><td>0.943</td><td>  1.020</td></tr>\n",
       "\t<tr><td>latin</td><td>valence     </td><td> 1.052</td><td>0.013</td><td> 4.007</td><td>0.000</td><td>1.026</td><td>  1.079</td></tr>\n",
       "\t<tr><td>pop  </td><td>(Intercept) </td><td> 2.492</td><td>0.893</td><td> 1.023</td><td>0.306</td><td>0.433</td><td> 14.337</td></tr>\n",
       "\t<tr><td>pop  </td><td>danceability</td><td> 0.985</td><td>0.013</td><td>-1.112</td><td>0.266</td><td>0.959</td><td>  1.011</td></tr>\n",
       "\t<tr><td>pop  </td><td>valence     </td><td> 1.006</td><td>0.009</td><td> 0.661</td><td>0.508</td><td>0.988</td><td>  1.024</td></tr>\n",
       "\t<tr><td><span style=white-space:pre-wrap>r&amp;b  </span></td><td>(Intercept) </td><td>14.547</td><td>0.811</td><td> 3.302</td><td>0.001</td><td>2.969</td><td> 71.274</td></tr>\n",
       "\t<tr><td><span style=white-space:pre-wrap>r&amp;b  </span></td><td>danceability</td><td> 0.963</td><td>0.013</td><td>-3.016</td><td>0.003</td><td>0.939</td><td><span style=white-space:pre-wrap>  0.987</span></td></tr>\n",
       "\t<tr><td><span style=white-space:pre-wrap>r&amp;b  </span></td><td><span style=white-space:pre-wrap>valence     </span></td><td> 1.008</td><td>0.008</td><td> 0.973</td><td>0.331</td><td>0.992</td><td><span style=white-space:pre-wrap>  1.025</span></td></tr>\n",
       "\t<tr><td>rap  </td><td>(Intercept) </td><td> 0.388</td><td>0.997</td><td>-0.949</td><td>0.342</td><td>0.055</td><td>  2.740</td></tr>\n",
       "\t<tr><td>rap  </td><td>danceability</td><td> 1.010</td><td>0.014</td><td> 0.704</td><td>0.482</td><td>0.982</td><td>  1.039</td></tr>\n",
       "\t<tr><td>rap  </td><td>valence     </td><td> 1.006</td><td>0.009</td><td> 0.611</td><td>0.541</td><td>0.988</td><td>  1.024</td></tr>\n",
       "\t<tr><td>rock </td><td>(Intercept) </td><td>27.651</td><td>1.037</td><td> 3.202</td><td>0.001</td><td>3.624</td><td>210.986</td></tr>\n",
       "\t<tr><td>rock </td><td>danceability</td><td> 0.918</td><td>0.019</td><td>-4.508</td><td>0.000</td><td>0.885</td><td>  0.953</td></tr>\n",
       "\t<tr><td>rock </td><td>valence     </td><td> 1.024</td><td>0.013</td><td> 1.930</td><td>0.054</td><td>1.000</td><td>  1.050</td></tr>\n",
       "</tbody>\n",
       "</table>\n"
      ],
      "text/latex": [
       "A tibble: 15 × 8\n",
       "\\begin{tabular}{llllllll}\n",
       " y.level & term & estimate & std.error & statistic & p.value & conf.low & conf.high\\\\\n",
       " <chr> & <chr> & <dbl> & <dbl> & <dbl> & <dbl> & <dbl> & <dbl>\\\\\n",
       "\\hline\n",
       "\t latin & (Intercept)  &  0.101 & 1.419 & -1.617 & 0.106 & 0.006 &   1.628\\\\\n",
       "\t latin & danceability &  0.981 & 0.020 & -0.976 & 0.329 & 0.943 &   1.020\\\\\n",
       "\t latin & valence      &  1.052 & 0.013 &  4.007 & 0.000 & 1.026 &   1.079\\\\\n",
       "\t pop   & (Intercept)  &  2.492 & 0.893 &  1.023 & 0.306 & 0.433 &  14.337\\\\\n",
       "\t pop   & danceability &  0.985 & 0.013 & -1.112 & 0.266 & 0.959 &   1.011\\\\\n",
       "\t pop   & valence      &  1.006 & 0.009 &  0.661 & 0.508 & 0.988 &   1.024\\\\\n",
       "\t r\\&b   & (Intercept)  & 14.547 & 0.811 &  3.302 & 0.001 & 2.969 &  71.274\\\\\n",
       "\t r\\&b   & danceability &  0.963 & 0.013 & -3.016 & 0.003 & 0.939 &   0.987\\\\\n",
       "\t r\\&b   & valence      &  1.008 & 0.008 &  0.973 & 0.331 & 0.992 &   1.025\\\\\n",
       "\t rap   & (Intercept)  &  0.388 & 0.997 & -0.949 & 0.342 & 0.055 &   2.740\\\\\n",
       "\t rap   & danceability &  1.010 & 0.014 &  0.704 & 0.482 & 0.982 &   1.039\\\\\n",
       "\t rap   & valence      &  1.006 & 0.009 &  0.611 & 0.541 & 0.988 &   1.024\\\\\n",
       "\t rock  & (Intercept)  & 27.651 & 1.037 &  3.202 & 0.001 & 3.624 & 210.986\\\\\n",
       "\t rock  & danceability &  0.918 & 0.019 & -4.508 & 0.000 & 0.885 &   0.953\\\\\n",
       "\t rock  & valence      &  1.024 & 0.013 &  1.930 & 0.054 & 1.000 &   1.050\\\\\n",
       "\\end{tabular}\n"
      ],
      "text/markdown": [
       "\n",
       "A tibble: 15 × 8\n",
       "\n",
       "| y.level &lt;chr&gt; | term &lt;chr&gt; | estimate &lt;dbl&gt; | std.error &lt;dbl&gt; | statistic &lt;dbl&gt; | p.value &lt;dbl&gt; | conf.low &lt;dbl&gt; | conf.high &lt;dbl&gt; |\n",
       "|---|---|---|---|---|---|---|---|\n",
       "| latin | (Intercept)  |  0.101 | 1.419 | -1.617 | 0.106 | 0.006 |   1.628 |\n",
       "| latin | danceability |  0.981 | 0.020 | -0.976 | 0.329 | 0.943 |   1.020 |\n",
       "| latin | valence      |  1.052 | 0.013 |  4.007 | 0.000 | 1.026 |   1.079 |\n",
       "| pop   | (Intercept)  |  2.492 | 0.893 |  1.023 | 0.306 | 0.433 |  14.337 |\n",
       "| pop   | danceability |  0.985 | 0.013 | -1.112 | 0.266 | 0.959 |   1.011 |\n",
       "| pop   | valence      |  1.006 | 0.009 |  0.661 | 0.508 | 0.988 |   1.024 |\n",
       "| r&amp;b   | (Intercept)  | 14.547 | 0.811 |  3.302 | 0.001 | 2.969 |  71.274 |\n",
       "| r&amp;b   | danceability |  0.963 | 0.013 | -3.016 | 0.003 | 0.939 |   0.987 |\n",
       "| r&amp;b   | valence      |  1.008 | 0.008 |  0.973 | 0.331 | 0.992 |   1.025 |\n",
       "| rap   | (Intercept)  |  0.388 | 0.997 | -0.949 | 0.342 | 0.055 |   2.740 |\n",
       "| rap   | danceability |  1.010 | 0.014 |  0.704 | 0.482 | 0.982 |   1.039 |\n",
       "| rap   | valence      |  1.006 | 0.009 |  0.611 | 0.541 | 0.988 |   1.024 |\n",
       "| rock  | (Intercept)  | 27.651 | 1.037 |  3.202 | 0.001 | 3.624 | 210.986 |\n",
       "| rock  | danceability |  0.918 | 0.019 | -4.508 | 0.000 | 0.885 |   0.953 |\n",
       "| rock  | valence      |  1.024 | 0.013 |  1.930 | 0.054 | 1.000 |   1.050 |\n",
       "\n"
      ],
      "text/plain": [
       "   y.level term         estimate std.error statistic p.value conf.low conf.high\n",
       "1  latin   (Intercept)   0.101   1.419     -1.617    0.106   0.006      1.628  \n",
       "2  latin   danceability  0.981   0.020     -0.976    0.329   0.943      1.020  \n",
       "3  latin   valence       1.052   0.013      4.007    0.000   1.026      1.079  \n",
       "4  pop     (Intercept)   2.492   0.893      1.023    0.306   0.433     14.337  \n",
       "5  pop     danceability  0.985   0.013     -1.112    0.266   0.959      1.011  \n",
       "6  pop     valence       1.006   0.009      0.661    0.508   0.988      1.024  \n",
       "7  r&b     (Intercept)  14.547   0.811      3.302    0.001   2.969     71.274  \n",
       "8  r&b     danceability  0.963   0.013     -3.016    0.003   0.939      0.987  \n",
       "9  r&b     valence       1.008   0.008      0.973    0.331   0.992      1.025  \n",
       "10 rap     (Intercept)   0.388   0.997     -0.949    0.342   0.055      2.740  \n",
       "11 rap     danceability  1.010   0.014      0.704    0.482   0.982      1.039  \n",
       "12 rap     valence       1.006   0.009      0.611    0.541   0.988      1.024  \n",
       "13 rock    (Intercept)  27.651   1.037      3.202    0.001   3.624    210.986  \n",
       "14 rock    danceability  0.918   0.019     -4.508    0.000   0.885      0.953  \n",
       "15 rock    valence       1.024   0.013      1.930    0.054   1.000      1.050  "
      ]
     },
     "metadata": {},
     "output_type": "display_data"
    }
   ],
   "source": [
    "options(repr.matrix.max.rows = 15)\n",
    "\n",
    "mult_output <- tidy(spotify_mult_log_model,\n",
    "  conf.int = TRUE, exponentiate = TRUE\n",
    ") |>\n",
    "  mutate_if(is.numeric, round, 3)\n",
    "mult_output"
   ]
  },
  {
   "cell_type": "markdown",
   "metadata": {
    "editable": true,
    "slideshow": {
     "slide_type": ""
    },
    "tags": []
   },
   "source": [
    "The 15 exponentiated estimated regression parameters (via `exponentiate = TRUE` in `tidy()`) from the right-hand side of {eq}`multinomial-model-spotify-2` appear in the column `estimate`. Note that column `y.level` is related to the **non-baseline** level per function. Finally, to draw our inferential conclusions, let us filter those $p$-values less than $0.05$ from `mult_output`:"
   ]
  },
  {
   "cell_type": "code",
   "execution_count": 22,
   "metadata": {
    "editable": true,
    "slideshow": {
     "slide_type": ""
    },
    "tags": []
   },
   "outputs": [
    {
     "data": {
      "text/html": [
       "<table class=\"dataframe\">\n",
       "<caption>A tibble: 5 × 8</caption>\n",
       "<thead>\n",
       "\t<tr><th scope=col>y.level</th><th scope=col>term</th><th scope=col>estimate</th><th scope=col>std.error</th><th scope=col>statistic</th><th scope=col>p.value</th><th scope=col>conf.low</th><th scope=col>conf.high</th></tr>\n",
       "\t<tr><th scope=col>&lt;chr&gt;</th><th scope=col>&lt;chr&gt;</th><th scope=col>&lt;dbl&gt;</th><th scope=col>&lt;dbl&gt;</th><th scope=col>&lt;dbl&gt;</th><th scope=col>&lt;dbl&gt;</th><th scope=col>&lt;dbl&gt;</th><th scope=col>&lt;dbl&gt;</th></tr>\n",
       "</thead>\n",
       "<tbody>\n",
       "\t<tr><td>latin</td><td>valence     </td><td> 1.052</td><td>0.013</td><td> 4.007</td><td>0.000</td><td>1.026</td><td>  1.079</td></tr>\n",
       "\t<tr><td><span style=white-space:pre-wrap>r&amp;b  </span></td><td>(Intercept) </td><td>14.547</td><td>0.811</td><td> 3.302</td><td>0.001</td><td>2.969</td><td> 71.274</td></tr>\n",
       "\t<tr><td><span style=white-space:pre-wrap>r&amp;b  </span></td><td>danceability</td><td> 0.963</td><td>0.013</td><td>-3.016</td><td>0.003</td><td>0.939</td><td><span style=white-space:pre-wrap>  0.987</span></td></tr>\n",
       "\t<tr><td>rock </td><td>(Intercept) </td><td>27.651</td><td>1.037</td><td> 3.202</td><td>0.001</td><td>3.624</td><td>210.986</td></tr>\n",
       "\t<tr><td>rock </td><td>danceability</td><td> 0.918</td><td>0.019</td><td>-4.508</td><td>0.000</td><td>0.885</td><td>  0.953</td></tr>\n",
       "</tbody>\n",
       "</table>\n"
      ],
      "text/latex": [
       "A tibble: 5 × 8\n",
       "\\begin{tabular}{llllllll}\n",
       " y.level & term & estimate & std.error & statistic & p.value & conf.low & conf.high\\\\\n",
       " <chr> & <chr> & <dbl> & <dbl> & <dbl> & <dbl> & <dbl> & <dbl>\\\\\n",
       "\\hline\n",
       "\t latin & valence      &  1.052 & 0.013 &  4.007 & 0.000 & 1.026 &   1.079\\\\\n",
       "\t r\\&b   & (Intercept)  & 14.547 & 0.811 &  3.302 & 0.001 & 2.969 &  71.274\\\\\n",
       "\t r\\&b   & danceability &  0.963 & 0.013 & -3.016 & 0.003 & 0.939 &   0.987\\\\\n",
       "\t rock  & (Intercept)  & 27.651 & 1.037 &  3.202 & 0.001 & 3.624 & 210.986\\\\\n",
       "\t rock  & danceability &  0.918 & 0.019 & -4.508 & 0.000 & 0.885 &   0.953\\\\\n",
       "\\end{tabular}\n"
      ],
      "text/markdown": [
       "\n",
       "A tibble: 5 × 8\n",
       "\n",
       "| y.level &lt;chr&gt; | term &lt;chr&gt; | estimate &lt;dbl&gt; | std.error &lt;dbl&gt; | statistic &lt;dbl&gt; | p.value &lt;dbl&gt; | conf.low &lt;dbl&gt; | conf.high &lt;dbl&gt; |\n",
       "|---|---|---|---|---|---|---|---|\n",
       "| latin | valence      |  1.052 | 0.013 |  4.007 | 0.000 | 1.026 |   1.079 |\n",
       "| r&amp;b   | (Intercept)  | 14.547 | 0.811 |  3.302 | 0.001 | 2.969 |  71.274 |\n",
       "| r&amp;b   | danceability |  0.963 | 0.013 | -3.016 | 0.003 | 0.939 |   0.987 |\n",
       "| rock  | (Intercept)  | 27.651 | 1.037 |  3.202 | 0.001 | 3.624 | 210.986 |\n",
       "| rock  | danceability |  0.918 | 0.019 | -4.508 | 0.000 | 0.885 |   0.953 |\n",
       "\n"
      ],
      "text/plain": [
       "  y.level term         estimate std.error statistic p.value conf.low conf.high\n",
       "1 latin   valence       1.052   0.013      4.007    0.000   1.026      1.079  \n",
       "2 r&b     (Intercept)  14.547   0.811      3.302    0.001   2.969     71.274  \n",
       "3 r&b     danceability  0.963   0.013     -3.016    0.003   0.939      0.987  \n",
       "4 rock    (Intercept)  27.651   1.037      3.202    0.001   3.624    210.986  \n",
       "5 rock    danceability  0.918   0.019     -4.508    0.000   0.885      0.953  "
      ]
     },
     "metadata": {},
     "output_type": "display_data"
    }
   ],
   "source": [
    "mult_output |>\n",
    "  dplyr::filter(p.value < 0.05)"
   ]
  },
  {
   "cell_type": "markdown",
   "metadata": {
    "editable": true,
    "slideshow": {
     "slide_type": ""
    },
    "tags": []
   },
   "source": [
    "Since our baseline response is `edm`, we can conclude the following with $\\alpha = 0.05$ **on the Spotify platform**:\n",
    "\n",
    "- There is a statistical difference in `danceability` in `edm` versus `r&b` and `rock`.\n",
    "- There is a statistical difference in `valence` in `edm` versus `latin`."
   ]
  },
  {
   "cell_type": "markdown",
   "metadata": {},
   "source": [
    "### 3.7. Coefficient Interpretation"
   ]
  },
  {
   "cell_type": "markdown",
   "metadata": {},
   "source": [
    "Interpretation of the Multinomial Logistic regression coefficients is **quite similar** to the Binary Logistic regression. Let us interpret those significant regression coefficientes from column `estimate`:\n",
    "\n",
    "> $\\beta_2^{(\\texttt{latin},\\texttt{edm})}$: for each unit increase in the `valence` score in the Spotify catalogue, the song is $1.052$ times more likely to be `latin` than `edm`.\n",
    "\n",
    "> $\\beta_1^{(\\texttt{r&b},\\texttt{edm})}$: for each unit increase in the `danceability` score in the Spotify catalogue, the odds for a song for being `r&b` decrease by $(1 - 0.963) \\times 100\\% = 3.7\\%$ compared to `edm`.\n",
    "\n",
    "> $\\beta_1^{(\\texttt{ock},\\texttt{edm})}$: for each unit increase in the `danceability` score in the Spotify catalogue, the odds for a song for being `rock` decrease by $(1 - 0.918) \\times 100\\% = 8.2\\%$ compared to `edm`."
   ]
  },
  {
   "cell_type": "markdown",
   "metadata": {
    "editable": true,
    "slideshow": {
     "slide_type": ""
    },
    "tags": []
   },
   "source": [
    "```{important} \n",
    "If we want to use another `genre` as a baseline under this modelling approach, we would need to relevel our factor-type response and rerun the whole process.\n",
    "\n",
    "Also, this example does not include categorical regressors. Nevertheless, interpreting their corresponding estimated regression coefficients is analogous to **Binary Logistic regression** using the baseline response level.\n",
    "```"
   ]
  },
  {
   "cell_type": "markdown",
   "metadata": {
    "editable": true,
    "slideshow": {
     "slide_type": ""
    },
    "tags": []
   },
   "source": [
    "### 3.8. Predictions"
   ]
  },
  {
   "cell_type": "markdown",
   "metadata": {
    "slideshow": {
     "slide_type": "slide"
    }
   },
   "source": [
    "Suppose we want to predict the genre probabilities for a given song with a `danceability` score of `27.5` and `valence` of `30`. We could use the model `spotify_mult_log_model` for making such prediction as follows:"
   ]
  },
  {
   "cell_type": "code",
   "execution_count": 23,
   "metadata": {
    "editable": true,
    "slideshow": {
     "slide_type": ""
    },
    "tags": []
   },
   "outputs": [
    {
     "data": {
      "text/html": [
       "<style>\n",
       ".dl-inline {width: auto; margin:0; padding: 0}\n",
       ".dl-inline>dt, .dl-inline>dd {float: none; width: auto; display: inline-block}\n",
       ".dl-inline>dt::after {content: \":\\0020\"; padding-right: .5ex}\n",
       ".dl-inline>dt:not(:first-of-type) {padding-left: .5ex}\n",
       "</style><dl class=dl-inline><dt>edm</dt><dd>0.06</dd><dt>latin</dt><dd>0.02</dd><dt>pop</dt><dd>0.12</dd><dt>r&amp;b</dt><dd>0.41</dd><dt>rap</dt><dd>0.04</dd><dt>rock</dt><dd>0.34</dd></dl>\n"
      ],
      "text/latex": [
       "\\begin{description*}\n",
       "\\item[edm] 0.06\n",
       "\\item[latin] 0.02\n",
       "\\item[pop] 0.12\n",
       "\\item[r\\textbackslash{}\\&b] 0.41\n",
       "\\item[rap] 0.04\n",
       "\\item[rock] 0.34\n",
       "\\end{description*}\n"
      ],
      "text/markdown": [
       "edm\n",
       ":   0.06latin\n",
       ":   0.02pop\n",
       ":   0.12r&amp;amp;b\n",
       ":   0.41rap\n",
       ":   0.04rock\n",
       ":   0.34\n",
       "\n"
      ],
      "text/plain": [
       "  edm latin   pop   r&b   rap  rock \n",
       " 0.06  0.02  0.12  0.41  0.04  0.34 "
      ]
     },
     "metadata": {},
     "output_type": "display_data"
    }
   ],
   "source": [
    "pred_probs <- round(predict(spotify_mult_log_model, tibble(danceability = 27.5, valence = 30), \n",
    "  type = \"probs\"), 2)\n",
    "pred_probs"
   ]
  },
  {
   "cell_type": "code",
   "execution_count": 24,
   "metadata": {
    "editable": true,
    "slideshow": {
     "slide_type": ""
    },
    "tags": []
   },
   "outputs": [
    {
     "data": {
      "text/html": [
       "0.99"
      ],
      "text/latex": [
       "0.99"
      ],
      "text/markdown": [
       "0.99"
      ],
      "text/plain": [
       "[1] 0.99"
      ]
     },
     "metadata": {},
     "output_type": "display_data"
    }
   ],
   "source": [
    "sum(pred_probs) # Due to rounding, sum is 0.99 and not 1."
   ]
  },
  {
   "cell_type": "markdown",
   "metadata": {
    "editable": true,
    "slideshow": {
     "slide_type": "fragment"
    },
    "tags": []
   },
   "source": [
    "Note we have to use `type = \"probs\"` in the function `predict()` to obtain these predictions. Therefore, this given song has more chances of being `r&b`."
   ]
  },
  {
   "cell_type": "markdown",
   "metadata": {
    "editable": true,
    "slideshow": {
     "slide_type": ""
    },
    "tags": []
   },
   "source": [
    "### 3.9. Model Selection"
   ]
  },
  {
   "cell_type": "markdown",
   "metadata": {
    "editable": true,
    "slideshow": {
     "slide_type": ""
    },
    "tags": []
   },
   "source": [
    "**To perform model selection**, we can use the same techniques from the Binary Logistic regression model (check {ref}`bin-log-model-selection`). That said, some `R` coding functions might not be entirely available for the `multinom()` models. Still, these statistical techniques and metrics can be manually coded."
   ]
  },
  {
   "cell_type": "markdown",
   "metadata": {
    "editable": true,
    "slideshow": {
     "slide_type": ""
    },
    "tags": []
   },
   "source": [
    "## 4. Wrapping Up on Model Selection and Multinomial Logistic Regression"
   ]
  },
  {
   "cell_type": "markdown",
   "metadata": {
    "editable": true,
    "slideshow": {
     "slide_type": ""
    },
    "tags": []
   },
   "source": [
    "- MLE can be used as a tool in model selection to assess the goodness of fit of our estimated models (via some training data).\n",
    "- Deviance is a suitable model selection method for nested models.\n",
    "- Conversely, AIC and BIC are adequate metrics for model selection when comparing non-nested models.\n",
    "- An important advantage of deviance, AIC, and BIC is that they can be used across different regression models (as long as they are estimated via MLE).\n",
    "- Multinomial Logistic regression is a key approach for categorical and nominal responses when we have more than two categories.\n",
    "- The above regression is an extension of Binary Logistic regression. Hence, we establish a modelling system of logit functions before performing the corresponding parameter estimation. Note that inference and coefficient interpretation are conducted in a similar fashion compared to Binary Logistic regression."
   ]
  }
 ],
 "metadata": {
  "celltoolbar": "Tags",
  "kernelspec": {
   "display_name": "R",
   "language": "R",
   "name": "ir"
  },
  "language_info": {
   "codemirror_mode": "r",
   "file_extension": ".r",
   "mimetype": "text/x-r-source",
   "name": "R",
   "pygments_lexer": "r",
   "version": "4.4.1"
  },
  "latex_envs": {
   "LaTeX_envs_menu_present": true,
   "autoclose": false,
   "autocomplete": true,
   "bibliofile": "biblio.bib",
   "cite_by": "apalike",
   "current_citInitial": 1,
   "eqLabelWithNumbers": true,
   "eqNumInitial": 1,
   "hotkeys": {
    "equation": "Ctrl-E",
    "itemize": "Ctrl-I"
   },
   "labels_anchors": false,
   "latex_user_defs": false,
   "report_style_numbering": false,
   "user_envs_cfg": false
  }
 },
 "nbformat": 4,
 "nbformat_minor": 4
}
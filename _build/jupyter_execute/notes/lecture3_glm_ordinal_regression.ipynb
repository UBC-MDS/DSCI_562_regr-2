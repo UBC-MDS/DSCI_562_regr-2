{
 "cells": [
  {
   "cell_type": "markdown",
   "metadata": {
    "editable": true,
    "slideshow": {
     "slide_type": "slide"
    },
    "tags": []
   },
   "source": [
    "# Lecture 3 - Generalized Linear Models: Ordinal Logistic Regression"
   ]
  },
  {
   "cell_type": "markdown",
   "metadata": {
    "editable": true,
    "slideshow": {
     "slide_type": ""
    },
    "tags": []
   },
   "source": [
    "## Today's Learning Goals"
   ]
  },
  {
   "cell_type": "markdown",
   "metadata": {
    "editable": true,
    "slideshow": {
     "slide_type": "slide"
    },
    "tags": []
   },
   "source": [
    "By the end of this lecture, you should be able to:\n",
    "\n",
    "- Outline the modelling framework of the Ordinal Logistic regression.\n",
    "- Explain the concept of proportional odds.\n",
    "- Fit and interpret Ordinal Logistic regression.\n",
    "- Use the Ordinal Logistic regression for prediction.\n",
    "- Explain the concept of non-proportional odds.\n",
    "- Assess the assumption of proportional odds via the Brant-Wald test.\n",
    "- Contrast the Ordinal Logistic regression models under proportional and non-proportional odds assumptions."
   ]
  },
  {
   "cell_type": "markdown",
   "metadata": {
    "editable": true,
    "slideshow": {
     "slide_type": ""
    },
    "tags": []
   },
   "source": [
    "## Loading Libraries"
   ]
  },
  {
   "cell_type": "code",
   "execution_count": 1,
   "metadata": {
    "editable": true,
    "slideshow": {
     "slide_type": "fragment"
    },
    "tags": [
     "remove-output"
    ]
   },
   "outputs": [
    {
     "name": "stderr",
     "output_type": "stream",
     "text": [
      "Loading required package: stats4\n",
      "\n"
     ]
    },
    {
     "name": "stderr",
     "output_type": "stream",
     "text": [
      "Loading required package: splines\n",
      "\n"
     ]
    },
    {
     "name": "stderr",
     "output_type": "stream",
     "text": [
      "── \u001b[1mAttaching core tidyverse packages\u001b[22m ──────────────────────────────────────────────────────────────────────────────────────────────────────────────── tidyverse 2.0.0 ──\n",
      "\u001b[32m✔\u001b[39m \u001b[34mdplyr    \u001b[39m 1.1.4     \u001b[32m✔\u001b[39m \u001b[34mreadr    \u001b[39m 2.1.5\n",
      "\u001b[32m✔\u001b[39m \u001b[34mforcats  \u001b[39m 1.0.0     \u001b[32m✔\u001b[39m \u001b[34mstringr  \u001b[39m 1.5.1\n",
      "\u001b[32m✔\u001b[39m \u001b[34mggplot2  \u001b[39m 3.5.1     \u001b[32m✔\u001b[39m \u001b[34mtibble   \u001b[39m 3.2.1\n",
      "\u001b[32m✔\u001b[39m \u001b[34mlubridate\u001b[39m 1.9.3     \u001b[32m✔\u001b[39m \u001b[34mtidyr    \u001b[39m 1.3.1\n",
      "\u001b[32m✔\u001b[39m \u001b[34mpurrr    \u001b[39m 1.0.2     \n"
     ]
    },
    {
     "name": "stderr",
     "output_type": "stream",
     "text": [
      "── \u001b[1mConflicts\u001b[22m ────────────────────────────────────────────────────────────────────────────────────────────────────────────────────────────────── tidyverse_conflicts() ──\n",
      "\u001b[31m✖\u001b[39m \u001b[34mdplyr\u001b[39m::\u001b[32mfilter()\u001b[39m    masks \u001b[34mstats\u001b[39m::filter()\n",
      "\u001b[31m✖\u001b[39m \u001b[34mdplyr\u001b[39m::\u001b[32mlag()\u001b[39m       masks \u001b[34mstats\u001b[39m::lag()\n",
      "\u001b[31m✖\u001b[39m \u001b[34mlubridate\u001b[39m::\u001b[32mstamp()\u001b[39m masks \u001b[34mcowplot\u001b[39m::stamp()\n",
      "\u001b[36mℹ\u001b[39m Use the conflicted package (\u001b[3m\u001b[34m<http://conflicted.r-lib.org/>\u001b[39m\u001b[23m) to force all conflicts to become errors\n"
     ]
    },
    {
     "name": "stderr",
     "output_type": "stream",
     "text": [
      "\n",
      "Attaching package: ‘scales’\n",
      "\n",
      "\n"
     ]
    },
    {
     "name": "stderr",
     "output_type": "stream",
     "text": [
      "The following object is masked from ‘package:purrr’:\n",
      "\n",
      "    discard\n",
      "\n",
      "\n"
     ]
    },
    {
     "name": "stderr",
     "output_type": "stream",
     "text": [
      "The following object is masked from ‘package:readr’:\n",
      "\n",
      "    col_factor\n",
      "\n",
      "\n"
     ]
    },
    {
     "name": "stderr",
     "output_type": "stream",
     "text": [
      "\n",
      "Attaching package: ‘MASS’\n",
      "\n",
      "\n"
     ]
    },
    {
     "name": "stderr",
     "output_type": "stream",
     "text": [
      "The following object is masked from ‘package:dplyr’:\n",
      "\n",
      "    select\n",
      "\n",
      "\n"
     ]
    }
   ],
   "source": [
    "options(repr.matrix.max.rows = 6)\n",
    "source(\"../scripts/support_functions.R\")\n",
    "library(VGAM)\n",
    "library(cowplot)\n",
    "library(tidyverse)\n",
    "library(broom)\n",
    "library(scales)\n",
    "library(foreign)\n",
    "library(MASS)\n",
    "library(brant)"
   ]
  },
  {
   "cell_type": "markdown",
   "metadata": {
    "editable": true,
    "slideshow": {
     "slide_type": ""
    },
    "tags": []
   },
   "source": [
    "## 1. The Need for an Ordinal Model"
   ]
  },
  {
   "cell_type": "markdown",
   "metadata": {
    "editable": true,
    "slideshow": {
     "slide_type": "slide"
    },
    "tags": []
   },
   "source": [
    "We will continue with Regression Analysis on **categorical responses**. Recall that a **discrete response** is considered as categorical if it is of factor-type with more than two categories under the following subclassification:\n",
    "\n",
    "- **Nominal.** We have categories that do not follow any specific order—for example, the type of dwelling according to the Canadian census: *single-detached house*, *semi-detached house*, *row house*, *apartment*, and *mobile home*.\n",
    "- **Ordinal.** The categories, in this case, follow a specific order—for example, a Likert scale of survey items: *strongly disagree*, *disagree*, *neutral*, *agree*, and *strongly agree*."
   ]
  },
  {
   "cell_type": "markdown",
   "metadata": {
    "editable": true,
    "slideshow": {
     "slide_type": "slide"
    },
    "tags": []
   },
   "source": [
    "The previous Multinomial Logistic model, from {doc}`lecture2_glm_model_selection_multinomial`, **is unsuitable for ordinal responses**. For example, suppose one does not consider the order in the response levels when necessary. In that case, **we might risk losing valuable information when making inference or predictions**. This valuable information is in the ordinal scale, which could be set up via cumulative probabilities (recall **DSCI 551** concepts)."
   ]
  },
  {
   "cell_type": "markdown",
   "metadata": {
    "editable": true,
    "slideshow": {
     "slide_type": "fragment"
    },
    "tags": []
   },
   "source": [
    "Therefore, the ideal approach is an alternative logistic regression that suits **ordinal** responses. Hence, the existence of the **Ordinal Logistic regression model**. Let us expand the regression mindmap as in {numref}`reg-mindmap-4` to include this new model. Note there is a key characteristic called **proportional odds**, which is reflected in the **data modelling framework** and to be discussed today."
   ]
  },
  {
   "cell_type": "markdown",
   "metadata": {
    "editable": true,
    "slideshow": {
     "slide_type": ""
    },
    "tags": []
   },
   "source": [
    "````{div} full-width\n",
    "```{figure} ../img/reg-mindmap-4.png\n",
    ":height: 900px\n",
    ":name: reg-mindmap-4\n",
    "Expanded regression modelling mind map.\n",
    "```\n",
    "````"
   ]
  },
  {
   "cell_type": "markdown",
   "metadata": {
    "editable": true,
    "slideshow": {
     "slide_type": ""
    },
    "tags": []
   },
   "source": [
    "## 2. College Juniors Dataset"
   ]
  },
  {
   "cell_type": "markdown",
   "metadata": {
    "editable": true,
    "slideshow": {
     "slide_type": "slide"
    },
    "tags": []
   },
   "source": [
    "To illustrate the use of this generalized linear model (GLM), let us introduce an adequate dataset."
   ]
  },
  {
   "cell_type": "markdown",
   "metadata": {
    "editable": true,
    "slideshow": {
     "slide_type": ""
    },
    "tags": []
   },
   "source": [
    "```{admonition} The College Juniors Dataset\n",
    "The data frame `college_data` was obtained from the webpage of the [UCLA Statistical Consulting Group](https://stats.idre.ucla.edu/r/dae/ordinal-logistic-regression/).\n",
    "\n",
    "This dataset contains the results of a survey applied to $n = 400$ college juniors regarding the factors that influence their decision to apply to graduate school.\n",
    " ```"
   ]
  },
  {
   "cell_type": "code",
   "execution_count": 2,
   "metadata": {
    "editable": true,
    "slideshow": {
     "slide_type": "fragment"
    },
    "tags": []
   },
   "outputs": [
    {
     "data": {
      "text/html": [
       "<table class=\"dataframe\">\n",
       "<caption>A spec_tbl_df: 400 × 3</caption>\n",
       "<thead>\n",
       "\t<tr><th scope=col>decision</th><th scope=col>parent_ed</th><th scope=col>GPA</th></tr>\n",
       "\t<tr><th scope=col>&lt;chr&gt;</th><th scope=col>&lt;chr&gt;</th><th scope=col>&lt;dbl&gt;</th></tr>\n",
       "</thead>\n",
       "<tbody>\n",
       "\t<tr><td>very likely    </td><td>No </td><td>3.26</td></tr>\n",
       "\t<tr><td>somewhat likely</td><td>Yes</td><td>3.21</td></tr>\n",
       "\t<tr><td>unlikely       </td><td>Yes</td><td>3.94</td></tr>\n",
       "\t<tr><td>⋮</td><td>⋮</td><td>⋮</td></tr>\n",
       "\t<tr><td>somewhat likely</td><td>No</td><td>2.25</td></tr>\n",
       "\t<tr><td>somewhat likely</td><td>No</td><td>3.26</td></tr>\n",
       "\t<tr><td>very likely    </td><td>No</td><td>3.52</td></tr>\n",
       "</tbody>\n",
       "</table>\n"
      ],
      "text/latex": [
       "A spec\\_tbl\\_df: 400 × 3\n",
       "\\begin{tabular}{lll}\n",
       " decision & parent\\_ed & GPA\\\\\n",
       " <chr> & <chr> & <dbl>\\\\\n",
       "\\hline\n",
       "\t very likely     & No  & 3.26\\\\\n",
       "\t somewhat likely & Yes & 3.21\\\\\n",
       "\t unlikely        & Yes & 3.94\\\\\n",
       "\t ⋮ & ⋮ & ⋮\\\\\n",
       "\t somewhat likely & No & 2.25\\\\\n",
       "\t somewhat likely & No & 3.26\\\\\n",
       "\t very likely     & No & 3.52\\\\\n",
       "\\end{tabular}\n"
      ],
      "text/markdown": [
       "\n",
       "A spec_tbl_df: 400 × 3\n",
       "\n",
       "| decision &lt;chr&gt; | parent_ed &lt;chr&gt; | GPA &lt;dbl&gt; |\n",
       "|---|---|---|\n",
       "| very likely     | No  | 3.26 |\n",
       "| somewhat likely | Yes | 3.21 |\n",
       "| unlikely        | Yes | 3.94 |\n",
       "| ⋮ | ⋮ | ⋮ |\n",
       "| somewhat likely | No | 2.25 |\n",
       "| somewhat likely | No | 3.26 |\n",
       "| very likely     | No | 3.52 |\n",
       "\n"
      ],
      "text/plain": [
       "    decision        parent_ed GPA \n",
       "1   very likely     No        3.26\n",
       "2   somewhat likely Yes       3.21\n",
       "3   unlikely        Yes       3.94\n",
       "⋮   ⋮               ⋮         ⋮   \n",
       "398 somewhat likely No        2.25\n",
       "399 somewhat likely No        3.26\n",
       "400 very likely     No        3.52"
      ]
     },
     "metadata": {},
     "output_type": "display_data"
    }
   ],
   "source": [
    "college_data <- read_csv(\"../datasets/college_data.csv\", show_col_types = FALSE)\n",
    "college_data"
   ]
  },
  {
   "cell_type": "markdown",
   "metadata": {
    "editable": true,
    "slideshow": {
     "slide_type": "slide"
    },
    "tags": []
   },
   "source": [
    "The dataset contains the following variables:\n",
    "\n",
    "- `decision`: how likely the student will apply to graduate school, **a discrete and ordinal response with three increasing categories** (`unlikely`, `somewhat likely`, and `very likely`).\n",
    "- `parent_ed`: whether at least one parent has a graduate degree, **a discrete and binary explanatory variable** (`Yes` and `No`).\n",
    "- `GPA`: the student's current GPA, **a continuous explanatory variable**."
   ]
  },
  {
   "cell_type": "markdown",
   "metadata": {
    "editable": true,
    "slideshow": {
     "slide_type": "slide"
    },
    "tags": []
   },
   "source": [
    "```{important}\n",
    "In this example, variable `decision` will be our response of interest. However, before proceeding with our regression analysis. Let us set it up as an **ordered factor** via function `as.ordered()`.\n",
    "```"
   ]
  },
  {
   "cell_type": "code",
   "execution_count": 3,
   "metadata": {
    "editable": true,
    "slideshow": {
     "slide_type": "fragment"
    },
    "tags": []
   },
   "outputs": [
    {
     "data": {
      "text/html": [
       "<style>\n",
       ".list-inline {list-style: none; margin:0; padding: 0}\n",
       ".list-inline>li {display: inline-block}\n",
       ".list-inline>li:not(:last-child)::after {content: \"\\00b7\"; padding: 0 .5ex}\n",
       "</style>\n",
       "<ol class=list-inline><li>'unlikely'</li><li>'somewhat likely'</li><li>'very likely'</li></ol>\n"
      ],
      "text/latex": [
       "\\begin{enumerate*}\n",
       "\\item 'unlikely'\n",
       "\\item 'somewhat likely'\n",
       "\\item 'very likely'\n",
       "\\end{enumerate*}\n"
      ],
      "text/markdown": [
       "1. 'unlikely'\n",
       "2. 'somewhat likely'\n",
       "3. 'very likely'\n",
       "\n",
       "\n"
      ],
      "text/plain": [
       "[1] \"unlikely\"        \"somewhat likely\" \"very likely\"    "
      ]
     },
     "metadata": {},
     "output_type": "display_data"
    }
   ],
   "source": [
    "college_data$decision <- as.ordered(college_data$decision)\n",
    "college_data$decision <- fct_relevel(\n",
    "  college_data$decision,\n",
    "  c(\"unlikely\", \"somewhat likely\", \"very likely\")\n",
    ")\n",
    "levels(college_data$decision)"
   ]
  },
  {
   "cell_type": "markdown",
   "metadata": {
    "editable": true,
    "slideshow": {
     "slide_type": "slide"
    },
    "tags": []
   },
   "source": [
    "```{admonition} Main Statistical Inquiries\n",
    "Let us suppose we want to assess the following:\n",
    "\n",
    "- Is `decision` statistically related to `parent_ed` and `GPA`?\n",
    "- How can we interpret these statistical relationships (**if there are any!**)?\n",
    "```"
   ]
  },
  {
   "cell_type": "markdown",
   "metadata": {
    "editable": true,
    "slideshow": {
     "slide_type": ""
    },
    "tags": []
   },
   "source": [
    "## 3. Exploratory Data Analysis"
   ]
  },
  {
   "cell_type": "markdown",
   "metadata": {
    "editable": true,
    "slideshow": {
     "slide_type": "slide"
    },
    "tags": []
   },
   "source": [
    "Let us plot the data first. Since `decision` is a **discrete and ordinal response**, we have to be careful about the class of plots we are using regarding exploratory data analysis (EDA).\n",
    "\n",
    "To explore visually the relationship between `decision` and `GPA` , we will use the following side-by-side plots:\n",
    "\n",
    "- **Boxplots.**\n",
    "- **Violin plots.**"
   ]
  },
  {
   "cell_type": "markdown",
   "metadata": {
    "editable": true,
    "slideshow": {
     "slide_type": "slide"
    },
    "tags": []
   },
   "source": [
    "The code below creates side-by-side boxplots and violin plots, where `GPA` is on the $y$-axis, and all categories of `decision` are on the $x$-axis. The side-by-side violin plots show the mean of `GPA` by `decision` category in red points."
   ]
  },
  {
   "cell_type": "code",
   "execution_count": 4,
   "metadata": {
    "editable": true,
    "slideshow": {
     "slide_type": "slide"
    },
    "tags": []
   },
   "outputs": [],
   "source": [
    "college_data_side_boxplots <- college_data |>\n",
    "  ggplot(aes(decision, GPA)) +\n",
    "  geom_boxplot(aes(fill = decision)) +\n",
    "  labs(y = \"GPA\", x = \"Decision to Apply to Graduate School\") +\n",
    "  ggtitle(\"Side-by-Side Boxplots\") +\n",
    "  theme(\n",
    "    plot.title = element_text(size = 19, face = \"bold\"),\n",
    "    axis.text = element_text(size = 17),\n",
    "    axis.title = element_text(size = 18),\n",
    "    legend.position = \"none\"\n",
    "  ) +\n",
    "  scale_fill_brewer(palette=\"BuPu\")\n",
    "\n",
    "college_data_side_violin <- college_data |>\n",
    "  ggplot(aes(decision, GPA)) +\n",
    "  geom_violin(aes(fill = decision)) +\n",
    "  labs(y = \"GPA\", x = \"Decision to Apply to Graduate School\") +\n",
    "  ggtitle(\"Side-by-Side Violin Plots\") +\n",
    "  stat_summary(\n",
    "    fun = mean, colour = \"red\", geom = \"point\",\n",
    "    shape = 18, size = 5\n",
    "  ) +\n",
    "  theme(\n",
    "    plot.title = element_text(size = 19, face = \"bold\"),\n",
    "    axis.text = element_text(size = 17),\n",
    "    axis.title = element_text(size = 18),\n",
    "    legend.position = \"none\"\n",
    "  ) +\n",
    "  scale_fill_brewer(palette=\"BuPu\")\n"
   ]
  },
  {
   "cell_type": "markdown",
   "metadata": {
    "editable": true,
    "slideshow": {
     "slide_type": "slide"
    },
    "tags": []
   },
   "source": [
    "Now, **how can we visually explore the relationship between `decision` and `parent_ed`?**\n",
    "\n",
    "In the case of two categorical explanatory variables, **we can use stacked bar charts.** Each bar will show the percentages (depicted on the $y$-axis) of college students falling on each ordered category of `decision` with the categories found in `parent_ed` on the $x$-axis. This class of bars will allow us to compare both levels of `parent_ed` in terms of the categories of `decision`.\n",
    "\n",
    "First of all, we need to do some data wrangling. The code below obtains the proportions for each level of `decision` conditioned on the categories of `parent_ed`. If we add up all proportions corresponding to `No` or `Yes`, we will obtain 1."
   ]
  },
  {
   "cell_type": "code",
   "execution_count": 5,
   "metadata": {
    "editable": true,
    "slideshow": {
     "slide_type": "slide"
    },
    "tags": []
   },
   "outputs": [
    {
     "data": {
      "text/html": [
       "<table class=\"dataframe\">\n",
       "<caption>A data.frame: 6 × 3</caption>\n",
       "<thead>\n",
       "\t<tr><th scope=col>parent_ed</th><th scope=col>decision</th><th scope=col>prop</th></tr>\n",
       "\t<tr><th scope=col>&lt;fct&gt;</th><th scope=col>&lt;fct&gt;</th><th scope=col>&lt;dbl&gt;</th></tr>\n",
       "</thead>\n",
       "<tbody>\n",
       "\t<tr><td>No </td><td>unlikely       </td><td>0.59347181</td></tr>\n",
       "\t<tr><td>Yes</td><td>unlikely       </td><td>0.31746032</td></tr>\n",
       "\t<tr><td>No </td><td>somewhat likely</td><td>0.32640950</td></tr>\n",
       "\t<tr><td>Yes</td><td>somewhat likely</td><td>0.47619048</td></tr>\n",
       "\t<tr><td>No </td><td>very likely    </td><td>0.08011869</td></tr>\n",
       "\t<tr><td>Yes</td><td>very likely    </td><td>0.20634921</td></tr>\n",
       "</tbody>\n",
       "</table>\n"
      ],
      "text/latex": [
       "A data.frame: 6 × 3\n",
       "\\begin{tabular}{lll}\n",
       " parent\\_ed & decision & prop\\\\\n",
       " <fct> & <fct> & <dbl>\\\\\n",
       "\\hline\n",
       "\t No  & unlikely        & 0.59347181\\\\\n",
       "\t Yes & unlikely        & 0.31746032\\\\\n",
       "\t No  & somewhat likely & 0.32640950\\\\\n",
       "\t Yes & somewhat likely & 0.47619048\\\\\n",
       "\t No  & very likely     & 0.08011869\\\\\n",
       "\t Yes & very likely     & 0.20634921\\\\\n",
       "\\end{tabular}\n"
      ],
      "text/markdown": [
       "\n",
       "A data.frame: 6 × 3\n",
       "\n",
       "| parent_ed &lt;fct&gt; | decision &lt;fct&gt; | prop &lt;dbl&gt; |\n",
       "|---|---|---|\n",
       "| No  | unlikely        | 0.59347181 |\n",
       "| Yes | unlikely        | 0.31746032 |\n",
       "| No  | somewhat likely | 0.32640950 |\n",
       "| Yes | somewhat likely | 0.47619048 |\n",
       "| No  | very likely     | 0.08011869 |\n",
       "| Yes | very likely     | 0.20634921 |\n",
       "\n"
      ],
      "text/plain": [
       "  parent_ed decision        prop      \n",
       "1 No        unlikely        0.59347181\n",
       "2 Yes       unlikely        0.31746032\n",
       "3 No        somewhat likely 0.32640950\n",
       "4 Yes       somewhat likely 0.47619048\n",
       "5 No        very likely     0.08011869\n",
       "6 Yes       very likely     0.20634921"
      ]
     },
     "metadata": {},
     "output_type": "display_data"
    }
   ],
   "source": [
    "college_data_prop_summary <- as.data.frame(xtabs(\n",
    "  ~ parent_ed +\n",
    "    decision,\n",
    "  college_data\n",
    ") / rowSums(xtabs(\n",
    "  ~ parent_ed + decision,\n",
    "  college_data\n",
    ")), responseName = \"prop\")\n",
    "\n",
    "college_data_prop_summary"
   ]
  },
  {
   "cell_type": "markdown",
   "metadata": {
    "editable": true,
    "slideshow": {
     "slide_type": "slide"
    },
    "tags": []
   },
   "source": [
    "Then, we code the corresponding plot:"
   ]
  },
  {
   "cell_type": "code",
   "execution_count": 6,
   "metadata": {
    "editable": true,
    "slideshow": {
     "slide_type": "fragment"
    },
    "tags": []
   },
   "outputs": [],
   "source": [
    "college_data_stacked_bars <- ggplot(college_data_prop_summary, aes(\n",
    "  x = parent_ed,\n",
    "  y = prop, fill = decision\n",
    ")) +\n",
    "  geom_bar(stat = \"identity\", width = 0.7, colour = \"black\") +\n",
    "  geom_text(aes(label = ifelse(prop >= 0.05, paste0(sprintf(\"%.0f\", prop * 100), \"%\"), \"\")),\n",
    "    position = position_stack(vjust = 0.5), colour = \"firebrick3\", fontface = \"bold\", size = 6\n",
    "  ) +\n",
    "  scale_y_continuous(labels = percent_format()) +\n",
    "  labs(y = \"Percent\", x = \"Parent Education Status\", fill = \"\") +\n",
    "  ggtitle(\"Stacked Bar Charts\") +\n",
    "  theme(\n",
    "    plot.title = element_text(size = 19, face = \"bold\"),\n",
    "    axis.text.x = element_text(size = 17, angle = 0),\n",
    "    axis.text.y = element_text(size = 17, angle = 0),\n",
    "    axis.title = element_text(size = 18),\n",
    "    legend.text = element_text(size = 18, margin = margin(r = 1, unit = \"cm\")),\n",
    "    legend.title = element_text(size = 17, face = \"bold\")\n",
    "  ) +\n",
    "  guides(fill = guide_legend(title = \"Decision\")) +\n",
    "  scale_fill_brewer(palette = \"Blues\")"
   ]
  },
  {
   "cell_type": "code",
   "execution_count": 7,
   "metadata": {
    "editable": true,
    "slideshow": {
     "slide_type": "slide"
    },
    "tags": []
   },
   "outputs": [
    {
     "data": {
      "image/png": "[encoded data removed]",
      "text/plain": [
       "plot without title"
      ]
     },
     "metadata": {
      "image/png": {
       "height": 420,
       "width": 720
      }
     },
     "output_type": "display_data"
    },
    {
     "data": {
      "image/png": "[encoded data removed]",
      "text/plain": [
       "plot without title"
      ]
     },
     "metadata": {
      "image/png": {
       "height": 420,
       "width": 720
      }
     },
     "output_type": "display_data"
    }
   ],
   "source": [
    "options(repr.plot.height = 7, repr.plot.width = 12)\n",
    "\n",
    "plot_grid(college_data_side_boxplots, college_data_side_violin, nrow = 1)\n",
    "college_data_stacked_bars"
   ]
  },
  {
   "cell_type": "markdown",
   "metadata": {
    "editable": true,
    "slideshow": {
     "slide_type": "slide"
    },
    "tags": []
   },
   "source": [
    "```{exercise}\n",
    ":label: lecture3-q1\n",
    "\n",
    "What can we see **descriptively** from the above plots?\n",
    "```"
   ]
  },
  {
   "cell_type": "markdown",
   "metadata": {
    "editable": true,
    "slideshow": {
     "slide_type": ""
    },
    "tags": []
   },
   "source": [
    "```{solution} lecture3-q1\n",
    ":label: lecture3-ans1\n",
    "\n",
    "Those students with higher `GPA` tend to be `very likely` to apply to graduate school. Interestingly, those students with at least one parent with a graduate degree tend to be `very likely` to apply to graduate school.\n",
    "```"
   ]
  },
  {
   "cell_type": "markdown",
   "metadata": {
    "editable": true,
    "slideshow": {
     "slide_type": ""
    },
    "tags": []
   },
   "source": [
    "## 4. Data Modelling Framework"
   ]
  },
  {
   "cell_type": "markdown",
   "metadata": {
    "editable": true,
    "slideshow": {
     "slide_type": "slide"
    },
    "tags": []
   },
   "source": [
    "Let us suppose that a given **discrete ordinal response** $Y_i$ (for $i = 1, \\dots, n$) has categories $1, 2, \\dots, m$ in a training set of size $n$."
   ]
  },
  {
   "cell_type": "markdown",
   "metadata": {
    "editable": true,
    "slideshow": {
     "slide_type": ""
    },
    "tags": []
   },
   "source": [
    "```{important}\n",
    "Categories $1, 2, \\dots, m$ **implicate an ordinal scale here**, i.e., $1 < 2 < \\dots < m$.\n",
    "\n",
    "Also, note there is more than one class of Ordinal Logistic regression. We will review the **proportional odds** version, which is also a **cumulative logit model**.\n",
    "```"
   ]
  },
  {
   "cell_type": "markdown",
   "metadata": {
    "editable": true,
    "slideshow": {
     "slide_type": "slide"
    },
    "tags": []
   },
   "source": [
    "We set up the Ordinal Logistical regression model for this specific dataset with $m = 3$. For the $i$th observation with the continuous $X_{i, \\texttt{GPA}}$ and the dummy variable \n",
    "\n",
    "$$\n",
    "X_{i, \\texttt{parent_ed}} =\n",
    "\\begin{cases}\n",
    "1 \\; \\; \\; \\; \\mbox{at least one parent has a graduate degree},\\\\\n",
    "0 \\; \\; \\; \\; \t\\mbox{neither of the parents has a graduate degree;}\n",
    "\\end{cases}\n",
    "$$\n",
    "\n",
    "the model will indicate how each one of the regressors affects the **cumulative logarithm of the odds** in `decision` for the following $2$ situations:"
   ]
  },
  {
   "cell_type": "markdown",
   "metadata": {
    "editable": true,
    "slideshow": {
     "slide_type": "fragment"
    },
    "tags": []
   },
   "source": [
    "```{math}\n",
    "\\begin{gather*}\n",
    "\\text{Level } \\texttt{somewhat likely}  \\text{ or any lesser degree versus level } \\texttt{very likely} \\\\\n",
    "\\text{Level } \\texttt{unlikely} \\text{ versus level } \\texttt{somewhat likely} \\text{ or any higher degree}\n",
    "\\end{gather*}\n",
    "```"
   ]
  },
  {
   "cell_type": "markdown",
   "metadata": {
    "editable": true,
    "slideshow": {
     "slide_type": "slide"
    },
    "tags": []
   },
   "source": [
    "Then, we have the following system of $2$ equations:"
   ]
  },
  {
   "cell_type": "markdown",
   "metadata": {
    "editable": true,
    "slideshow": {
     "slide_type": "fragment"
    },
    "tags": []
   },
   "source": [
    "```{math}\n",
    "\\begin{align*}\n",
    "\\eta_i^{(\\texttt{somewhat likely})} &= \\log\\left[\\frac{P(Y_i \\leq \\texttt{somewhat likely} \\mid X_{i, \\texttt{GPA}},X_{i, \\texttt{parent_ed}})}{P(Y_i = \\texttt{very likely} \\mid X_{i, \\texttt{GPA}}, X_{i, \\texttt{parent_ed}})}\\right] \\\\ &= \\beta_0^{(\\texttt{somewhat likely})} - \\beta_1 X_{i, \\texttt{GPA}} - \\beta_2 X_{i, \\texttt{parent_ed}}\n",
    "\\end{align*}\n",
    "```\n",
    "\n",
    "```{math}\n",
    "\\begin{align*}\n",
    "\\eta_i^{(\\texttt{unlikely})} &= \\log\\left[\\frac{P(Y_i = \\texttt{unlikely} \\mid X_{i, \\texttt{GPA}},X_{i, \\texttt{parent_ed}})}{P(Y_i \\geq \\texttt{somewhat likely} \\mid X_{i, \\texttt{GPA}},X_{i, \\texttt{parent_ed}})}\\right] \\\\ &= \\beta_0^{(\\texttt{unlikely})} - \\beta_1 X_{i, \\texttt{GPA}} - \\beta_2 X_{i, \\texttt{parent_ed}}.\n",
    "\\end{align*}\n",
    "```"
   ]
  },
  {
   "cell_type": "markdown",
   "metadata": {
    "editable": true,
    "slideshow": {
     "slide_type": "slide"
    },
    "tags": []
   },
   "source": [
    "The system has $2$ intercepts but **only $2$ regression coefficients**. Check the signs of the **common** $\\beta_1$ and $\\beta_2$, which are minuses. This is a fundamental parameterization of the **proportional odds** model."
   ]
  },
  {
   "cell_type": "markdown",
   "metadata": {
    "editable": true,
    "slideshow": {
     "slide_type": "fragment"
    },
    "tags": []
   },
   "source": [
    "To make coefficient intepretation easier, we could re-expresss the equations of $\\eta_i^{(\\texttt{somewhat likely})}$  and $\\eta_i^{(\\texttt{unlikely})}$ as follows:"
   ]
  },
  {
   "cell_type": "markdown",
   "metadata": {
    "editable": true,
    "slideshow": {
     "slide_type": "fragment"
    },
    "tags": []
   },
   "source": [
    "```{math}\n",
    "\\begin{equation*}\n",
    "\\frac{P(Y_i = \\texttt{very likely} \\mid X_{i, \\texttt{GPA}},X_{i, \\texttt{parent_ed}})}{P(Y_i \\leq \\texttt{somewhat likely} \\mid X_{i, \\texttt{GPA}},X_{i, \\texttt{parent_ed}})} = \\exp\\big(-\\beta_0^{(\\texttt{somewhat likely})}\\big) \\exp\\big(\\beta_1 X_{i, \\texttt{GPA}}\\big) \\exp\\big(\\beta_2 X_{i, \\texttt{parent_ed}}\\big)\n",
    "\\end{equation*}\n",
    "```\n",
    "\n",
    "```{math}\n",
    "\\begin{equation*}\n",
    "\\frac{P(Y_i \\geq \\texttt{somewhat likely} \\mid X_{i, \\texttt{GPA}},X_{i, \\texttt{parent_ed}})}{P(Y_i = \\texttt{unlikely} \\mid X_{i, \\texttt{GPA}},X_{i, \\texttt{parent_ed}})} = \\exp\\big(-\\beta_0^{(\\texttt{unlikely})}\\big) \\exp\\big(\\beta_1 X_{i, \\texttt{GPA}}\\big) \\exp\\big(\\beta_2 X_{i, \\texttt{parent_ed}}\\big).\n",
    "\\end{equation*}\n",
    "```"
   ]
  },
  {
   "cell_type": "markdown",
   "metadata": {
    "editable": true,
    "slideshow": {
     "slide_type": "fragment"
    },
    "tags": []
   },
   "source": [
    "Both regression coefficients ($\\beta_1$ and $\\beta_2$) have a multiplicative effect on the odds on the left-hand side. Moreover, **given the proportional odds assumptions**, the regressor effects are the same for both cumulative odds."
   ]
  },
  {
   "cell_type": "markdown",
   "metadata": {
    "editable": true,
    "slideshow": {
     "slide_type": "skip"
    },
    "tags": []
   },
   "source": [
    "**What is the math for the general case with $m$ response categories and $k$ regressors?**\n",
    "\n",
    "Before going into the model's mathematical notation, we have to point out that Ordinal Logistic regression will indicate how each one of the $k$ regressors $X_{i,1}, \\dots, X_{i,k}$ affects the **cumulative logarithm of the odds** in the ordinal response  for the following $m - 1$ situations:\n",
    "\n",
    "```{math}\n",
    "\\begin{gather*}\n",
    "\\text{Level } m - 1 \\text{ or any lesser degree versus level } m\\\\\n",
    "\\text{Level } m - 2 \\text{ or any lesser degree versus level } m - 1 \\text{ or any higher degree}\\\\\n",
    "\\vdots \\\\\n",
    "\\text{Level } 2 \\text{ or any lesser degree versus level } 3 \\text{ or any higher degree}\\\\\n",
    "\\text{Level } 1 \\text{ versus level } 2 \\text{ or any higher degree}\\\\\n",
    "\\end{gather*}\n",
    "```"
   ]
  },
  {
   "cell_type": "markdown",
   "metadata": {
    "editable": true,
    "slideshow": {
     "slide_type": ""
    },
    "tags": []
   },
   "source": [
    "These $m - 1$ situations are translated into cumulative probabilities using the logarithms of the odds on the left-hand side ($m - 1$ link functions) subject to the linear combination of the $k$ regressors $X_{i,j}$ (for $j = 1, \\dots, k$):\n",
    "\n",
    "```{math}\n",
    "\\begin{gather*}\n",
    "\\eta_i^{(m - 1)} = \\log\\left[\\frac{P(Y_i \\leq m - 1 \\mid X_{i,1}, \\ldots, X_{i,k})}{P(Y_i = m \\mid X_{i,1}, \\ldots, X_{i,k})}\\right] = \\beta_0^{(m - 1)} - \\beta_1 X_{i, 1} - \\beta_2 X_{i, 2} - \\ldots - \\beta_k X_{i, k} \\\\\n",
    "\\eta_i^{(m - 2)} = \\log\\left[\\frac{P(Y_i \\leq m - 2 \\mid X_{i,1}, \\ldots, X_{i,k})}{P(Y_i > m - 2 \\mid X_{i,1}, \\ldots, X_{i,k})}\\right] = \\beta_0^{(m - 2)} - \\beta_1 X_{i, 1} - \\beta_2 X_{i, 2} - \\ldots - \\beta_k X_{i, k} \\\\\n",
    "\\vdots \\\\\n",
    "\\eta_i^{(2)} = \\log\\left[\\frac{P(Y_i \\leq 2 \\mid X_{i,1}, \\ldots, X_{i,k})}{P(Y_i > 2 \\mid X_{i,1}, \\ldots, X_{i,k})}\\right] = \\beta_0^{(2)} - \\beta_1 X_{i, 1} - \\beta_2 X_{i, 2} - \\ldots - \\beta_k X_{i, k} \\\\\n",
    "\\eta_i^{(1)} = \\log\\left[\\frac{P(Y_i = 1 \\mid X_{i,1}, \\ldots, X_{i,k})}{P(Y_i > 1 \\mid X_{i,1}, \\ldots, X_{i,k})}\\right] = \\beta_0^{(1)} - \\beta_1 X_{i, 1} - \\beta_2 X_{i, 2} - \\ldots - \\beta_k X_{i, k}.\n",
    "\\end{gather*}\n",
    "```"
   ]
  },
  {
   "cell_type": "markdown",
   "metadata": {
    "editable": true,
    "slideshow": {
     "slide_type": ""
    },
    "tags": []
   },
   "source": [
    "Note that the system above has $m - 1$ intercepts but **only $k$ regression coefficients**. In general, the previous $m - 1$ equations can be generalized for levels $j = m - 1, \\dots, 1$ as follows:\n",
    "\n",
    "```{math}\n",
    "\\begin{gather*}\n",
    "\\eta_i^{(j)} = \\log\\left[\\frac{P(Y_i \\leq j \\mid X_{i,1}, \\ldots, X_{i,k})}{P(Y_i > j \\mid X_{i,1}, \\ldots, X_{i,k})}\\right] = \\beta_0^{(j)} - \\beta_1 X_{i, 1} - \\beta_2 X_{i, 2} - \\ldots - \\beta_k X_{i, k} \\\\\n",
    "\\; \\; \\; \\; \\; \\; \\; \\; \\Rightarrow \\; P(Y_i \\leq j \\mid X_{i,1}, \\ldots, X_{i,k}) = \\frac{\\exp\\left(\\beta_0^{(j)} - \\beta_1 X_{i, 1} - \\beta_2 X_{i, 2} - \\ldots - \\beta_k X_{i, k}\\right)}{1 + \\exp\\left(\\beta_0^{(j)} - \\beta_1 X_{i, 1} - \\beta_2 X_{i, 2} - \\ldots - \\beta_k X_{i, k}\\right)}.\n",
    "\\end{gather*}\n",
    "```"
   ]
  },
  {
   "cell_type": "markdown",
   "metadata": {
    "editable": true,
    "slideshow": {
     "slide_type": ""
    },
    "tags": []
   },
   "source": [
    "The probability that $Y_i$ will fall in the category $j$ can be computed as follows:\n",
    "\n",
    "$$\n",
    "p_{i,j} = P(Y_i = j \\mid X_{i,1}, \\ldots, X_{i,k}) = P(Y_i \\leq j \\mid X_{i,1}, \\ldots, X_{i,k}) - P(Y_i \\leq j - 1 \\mid X_{i,1}, \\ldots, X_{i,k}),\n",
    "$$\n",
    "\n",
    "which leads to\n",
    "\n",
    "$$\n",
    "P(Y_i = 1) = p_{i,1} \\;\\;\\;\\; P(Y_i = 2) = p_{i,2} \\;\\; \\dots \\;\\; P(Y_i = m) = p_{i,m}\n",
    "$$\n",
    "\n",
    "where\n",
    "\n",
    "$$\n",
    "\\sum_{j = 1}^m p_{i,j} = p_{i,1} + p_{i,2} + \\dots + p_{i,m} = 1.\n",
    "$$"
   ]
  },
  {
   "cell_type": "markdown",
   "metadata": {
    "editable": true,
    "slideshow": {
     "slide_type": "slide"
    },
    "tags": []
   },
   "source": [
    "```{attention}\n",
    "You will prove why we have **proportional odds** in this model in the challenging **Exercise 4** of `lab2`.\n",
    "```"
   ]
  },
  {
   "cell_type": "markdown",
   "metadata": {
    "editable": true,
    "slideshow": {
     "slide_type": ""
    },
    "tags": []
   },
   "source": [
    "Let us check the next in-class question via [**iClicker**](https://student.iclicker.com/)."
   ]
  },
  {
   "cell_type": "markdown",
   "metadata": {
    "editable": true,
    "slideshow": {
     "slide_type": ""
    },
    "tags": []
   },
   "source": [
    "```{exercise}\n",
    ":label: lecture3-q2\n",
    "\n",
    "Suppose we have a case with an ordered response of five levels and four continuous regressors; how many link functions, intercepts, and coefficients will our Ordinal Logistic regression model have under a proportional odds assumption?\n",
    "\n",
    "**A.** Four link functions, four intercepts, and sixteen regression coefficients. \n",
    "\n",
    "**B.** Five link functions, five intercepts, and five regression coefficients. \n",
    "\n",
    "**C.** Five link functions, five intercepts, and twenty regression coefficients. \n",
    "\n",
    "**D.** Four link functions, four intercepts, and four regression coefficients. \n",
    "```"
   ]
  },
  {
   "cell_type": "markdown",
   "metadata": {
    "editable": true,
    "slideshow": {
     "slide_type": ""
    },
    "tags": []
   },
   "source": [
    "````{solution} lecture3-q2\n",
    ":label: lecture3-ans2\n",
    "\n",
    "The categories $1, 2, 3, 4, 5$ in the $i$th response $Y_i$ implicate an ordinal scale here, i.e., $1 < 2 < 3 < 4 < 5$. \n",
    "\n",
    "Hence, our Ordinal Logistic regression model will indicate how each one of the $4$ regressors $X_{i,1}$, $X_{i,2}$, $X_{i,3}$, and $X_{i,4}$ affects the **cumulative logarithm of the odds** in the ordinal response  for the following $4$ situations:\n",
    "\n",
    "```{math}\n",
    "\\begin{gather*}\n",
    "\\text{Level } 4 \\text{ or any lesser degree versus level } 5 \\\\\n",
    "\\text{Level } 3 \\text{ or any lesser degree versus level } 4 \\text{ or any higher degree}\\\\\n",
    "\\text{Level } 2 \\text{ or any lesser degree versus level } 3 \\text{ or any higher degree}\\\\\n",
    "\\text{Level } 1 \\text{ versus level } 2 \\text{ or any higher degree}\\\\\n",
    "\\end{gather*}\n",
    "```\n",
    "\n",
    "Then, our system of modelling equations will be:\n",
    "\n",
    "```{math}\n",
    "\\begin{gather*}\n",
    "\\eta_i^{(4)} = \\log\\left[\\frac{P(Y_i \\leq 4 \\mid X_{i,1}, \\ldots, X_{i,4})}{P(Y_i = 5 \\mid X_{i,1}, \\ldots, X_{i,4})}\\right] = \\beta_0^{(4)} - \\beta_1 X_{i, 1} - \\beta_2 X_{i, 2} - \\beta_3 X_{i, 3} - \\beta_4 X_{i, 4} \\\\\n",
    "\\eta_i^{(3)} = \\log\\left[\\frac{P(Y_i \\leq 3 \\mid X_{i,1}, \\ldots, X_{i,4})}{P(Y_i > 3 \\mid X_{i,1}, \\ldots, X_{i,4})}\\right] = \\beta_0^{(3)} - \\beta_1 X_{i, 1} - \\beta_2 X_{i, 2} - \\beta_3 X_{i, 3} - \\beta_4 X_{i, 4} \\\\\n",
    "\\eta_i^{(2)} = \\log\\left[\\frac{P(Y_i \\leq 2 \\mid X_{i,1}, \\ldots, X_{i,4})}{P(Y_i > 2 \\mid X_{i,1}, \\ldots, X_{i,4})}\\right] = \\beta_0^{(2)} - \\beta_1 X_{i, 1} - \\beta_2 X_{i, 2} - \\beta_3 X_{i, 3} - \\beta_4 X_{i, 4} \\\\\n",
    "\\eta_i^{(1)} = \\log\\left[\\frac{P(Y_i = 1 \\mid X_{i,1}, \\ldots, X_{i,4})}{P(Y_i > 1 \\mid X_{i,1}, \\ldots, X_{i,4})}\\right] = \\beta_0^{(1)} - \\beta_1 X_{i, 1} - \\beta_2 X_{i, 2} - \\beta_3 X_{i, 3} - \\beta_4 X_{i, 4}.\n",
    "\\end{gather*}\n",
    "```\n",
    "\n",
    "As we can see above; we would need four link functions, four intercepts $\\left( \\beta_0^{(4)}, \\beta_0^{(3)}, \\beta_0^{(2)}, \\beta_1^{(1)} \\right)$, and four coefficients $\\left( \\beta_1, \\beta_2, \\beta_3, \\beta_4 \\right)$.\n",
    "````"
   ]
  },
  {
   "cell_type": "markdown",
   "metadata": {
    "editable": true,
    "slideshow": {
     "slide_type": "slide"
    },
    "tags": []
   },
   "source": [
    "### A Graphical Intuition of the Proportional Odds Assumption"
   ]
  },
  {
   "cell_type": "markdown",
   "metadata": {
    "editable": true,
    "slideshow": {
     "slide_type": "fragment"
    },
    "tags": []
   },
   "source": [
    "The challenging **Exercise 4** in `lab2` is about showing mathematically what the proportional odds assumption stands for in the Ordinal Logistic regression model with $k$ regressors and a training set size of $n$, using a response of $m$ levels in general. That said, let us show the graphical intuition with an example of an ordinal response of $5$ levels and a single continuous regressor $X_{i , 1}$ (**which is unbounded!**)."
   ]
  },
  {
   "cell_type": "markdown",
   "metadata": {
    "editable": true,
    "slideshow": {
     "slide_type": "slide"
    },
    "tags": []
   },
   "source": [
    "The system of cumulative logit equations is the following:"
   ]
  },
  {
   "cell_type": "markdown",
   "metadata": {
    "editable": true,
    "slideshow": {
     "slide_type": "fragment"
    },
    "tags": []
   },
   "source": [
    "```{math}\n",
    "\\begin{gather*}\n",
    "\\eta_i^{(4)} = \\log\\left[\\frac{P(Y_i \\leq 4 \\mid X_{i,1})}{P(Y_i = 5 \\mid X_{i,1})}\\right] = \\beta_0^{(4)} - \\beta_1 X_{i, 1} \\\\\n",
    "\\eta_i^{(3)} = \\log\\left[\\frac{P(Y_i \\leq 3 \\mid X_{i,1})}{P(Y_i > 3 \\mid X_{i,1})}\\right] = \\beta_0^{(3)} - \\beta_1 X_{i, 1} \\\\\n",
    "\\eta_i^{(2)} = \\log\\left[\\frac{P(Y_i \\leq 2 \\mid X_{i,1})}{P(Y_i > 2 \\mid X_{i,1})}\\right] = \\beta_0^{(2)} - \\beta_1 X_{i, 1} \\\\\n",
    "\\eta_i^{(1)} = \\log\\left[\\frac{P(Y_i = 1 \\mid X_{i,1})}{P(Y_i > 1 \\mid X_{i,1})}\\right] = \\beta_0^{(1)} - \\beta_1 X_{i, 1}.\n",
    "\\end{gather*}\n",
    "```"
   ]
  },
  {
   "cell_type": "markdown",
   "metadata": {
    "editable": true,
    "slideshow": {
     "slide_type": "slide"
    },
    "tags": []
   },
   "source": [
    "This above system could be mathematically expressed as follows:"
   ]
  },
  {
   "cell_type": "markdown",
   "metadata": {
    "editable": true,
    "slideshow": {
     "slide_type": ""
    },
    "tags": []
   },
   "source": [
    "```{math}\n",
    "\\begin{gather*}\n",
    "P(Y_i \\leq 4 \\mid X_{i,1}) = \\frac{\\exp\\left(\\beta_0^{(4)} - \\beta_1 X_{i, 1} \\right)}{1 + \\exp\\left(\\beta_0^{(4)} - \\beta_1 X_{i, 1}\\right)} \\\\\n",
    "P(Y_i \\leq 3 \\mid X_{i,1}) = \\frac{\\exp\\left(\\beta_0^{(3)} - \\beta_1 X_{i, 1} \\right)}{1 + \\exp\\left(\\beta_0^{(3)} - \\beta_1 X_{i, 1}\\right)} \\\\\n",
    "P(Y_i \\leq 2 \\mid X_{i,1}) = \\frac{\\exp\\left(\\beta_0^{(2)} - \\beta_1 X_{i, 1} \\right)}{1 + \\exp\\left(\\beta_0^{(2)} - \\beta_1 X_{i, 1}\\right)} \\\\\n",
    "P(Y_i \\leq 1 \\mid X_{i,1}) = \\frac{\\exp\\left(\\beta_0^{(1)} - \\beta_1 X_{i, 1} \\right)}{1 + \\exp\\left(\\beta_0^{(1)} - \\beta_1 X_{i, 1}\\right)}. \\\\\n",
    "\\end{gather*}\n",
    "```"
   ]
  },
  {
   "cell_type": "markdown",
   "metadata": {
    "editable": true,
    "slideshow": {
     "slide_type": "slide"
    },
    "tags": []
   },
   "source": [
    "Note we have four intercepts $(\\beta_0^{(1)}, \\beta_0^{(2)}, \\beta_0^{(3)}, \\beta_0^{(4)})$  and a single coefficient $\\beta_1$. Moreover, let us assume we estimate these five parameters to be the following:\n",
    "\n",
    "```{math}\n",
    "\\begin{gather*}\n",
    "\\hat{\\beta}_0^{(1)} = 4\\\\\n",
    "\\hat{\\beta}_0^{(2)} = 5.5 \\\\ \n",
    "\\hat{\\beta}_0^{(3)} = 6.3 \\\\ \n",
    "\\hat{\\beta}_0^{(4)} = 10 \\\\\n",
    "\\hat{\\beta}_1 = 12.\n",
    "\\end{gather*}\n",
    "```"
   ]
  },
  {
   "cell_type": "markdown",
   "metadata": {
    "editable": true,
    "slideshow": {
     "slide_type": "fragment"
    },
    "tags": []
   },
   "source": [
    "Let us check our estimated sigmoid functions! As we can see in {numref}`sigmoid-functions`, the proportional odds assumption also implicates proportional sigmoid functions."
   ]
  },
  {
   "cell_type": "markdown",
   "metadata": {
    "editable": true,
    "slideshow": {
     "slide_type": ""
    },
    "tags": []
   },
   "source": [
    "````{div} full-width\n",
    "```{figure} ../img/sigmoid-functions.png\n",
    ":height: 550px\n",
    ":name: sigmoid-functions\n",
    "Sigmoid functions under a proportional odds assumption (Copyright [**GeoGebra®**](https://www.geogebra.org/), 2024).\n",
    "```\n",
    "````"
   ]
  },
  {
   "cell_type": "markdown",
   "metadata": {
    "editable": true,
    "slideshow": {
     "slide_type": ""
    },
    "tags": []
   },
   "source": [
    "## 5. Estimation"
   ]
  },
  {
   "cell_type": "markdown",
   "metadata": {
    "editable": true,
    "slideshow": {
     "slide_type": "slide"
    },
    "tags": []
   },
   "source": [
    "**All parameters** in the Ordinal Logistic regression model are also unknown. Therefore, model estimates are obtained through **maximum likelihood**, where we also assume a **Multinomial joint probability mass function** of the $n$ responses $Y_i$. Moreover, this Multinomial assumption plays around with cumulative probabilities in the joint likelihood function **as discussed in [Agresti (2013)](https://ebookcentral.proquest.com/lib/ubc/detail.action?docID=1168529) in Chapter 8 (Section 8.2.2)**.\n",
    "\n",
    "To fit the model with the package `MASS`, we use the function `polr()`, which obtains the corresponding estimates. The argument `Hess = TRUE` is required to compute the [Hessian matrix](https://mathworld.wolfram.com/Hessian.html) of the **log-likelihood function**, which is used to obtain the standard errors of the estimates."
   ]
  },
  {
   "cell_type": "code",
   "execution_count": 8,
   "metadata": {
    "editable": true,
    "slideshow": {
     "slide_type": "fragment"
    },
    "tags": []
   },
   "outputs": [],
   "source": [
    "ordinal_model <- polr(decision ~ parent_ed + GPA,\n",
    "  data = college_data, Hess = TRUE\n",
    ")"
   ]
  },
  {
   "cell_type": "markdown",
   "metadata": {
    "editable": true,
    "slideshow": {
     "slide_type": "fragment"
    },
    "tags": []
   },
   "source": [
    "```{important}\n",
    "Maximum likelihood estimation in this regression model is quite complex compared to the challenging **Exercise 5** in `lab1` for Binary Logistic regression. Thus, **the proof will be out of the scope of this course.**\n",
    "```"
   ]
  },
  {
   "cell_type": "markdown",
   "metadata": {
    "editable": true,
    "slideshow": {
     "slide_type": ""
    },
    "tags": []
   },
   "source": [
    "```{admonition} Note\n",
    ":class: note\n",
    "If you would like to check a further rationale on the use of the Hessian matrix to obtain the standard errors of regression estimates, you can find good insights into this matter via the classical linear regression model (i.e., Ordinary Least-squares but in its maximum likelihood estimation flavour) [**in this resource**](https://tidystat.com/meaning-of-hessian-matrix-from-optim-in-r/).\n",
    "```"
   ]
  },
  {
   "cell_type": "markdown",
   "metadata": {
    "editable": true,
    "slideshow": {
     "slide_type": ""
    },
    "tags": []
   },
   "source": [
    "## 6. Inference"
   ]
  },
  {
   "cell_type": "markdown",
   "metadata": {
    "editable": true,
    "slideshow": {
     "slide_type": ""
    },
    "tags": []
   },
   "source": [
    "**We can determine whether a regressor is statistically associated with the logarithm of the cumulative odds** through hypothesis testing for the parameters $\\beta_j$. We also use the **Wald statistic** $z_j$:\n",
    "\n",
    "$$\n",
    "z_j = \\frac{\\hat{\\beta}_j}{\\mbox{se}(\\hat{\\beta}_j)}\n",
    "$$\n",
    "\n",
    "to test the hypotheses\n",
    "\n",
    "```{math}\n",
    "\\begin{gather*}\n",
    "H_0: \\beta_j = 0\\\\\n",
    "H_a: \\beta_j \\neq 0.\n",
    "\\end{gather*}\n",
    "```\n",
    "\n",
    "The **null hypothesis** $H_0$ indicates that the $j$th regressor associated to $\\beta_j$ does not affect the response variable in the model, and the **alternative hypothesis** $H_a$ otherwise. Moreover, provided the sample size $n$ is large enough, $z_j$ has an **approximately Standard Normal distribution** under $H_0$."
   ]
  },
  {
   "cell_type": "markdown",
   "metadata": {
    "editable": true,
    "slideshow": {
     "slide_type": ""
    },
    "tags": []
   },
   "source": [
    "`R` provides the corresponding **$p$-values** for each $\\beta_j$. The smaller the $p$-value, the stronger the evidence against the null hypothesis $H_0$. As in the previous regression models, we would set a predetermined significance level $\\alpha$ (usually taken to be 0.05) to infer if the $p$-value is small enough. If the $p$-value is smaller than the predetermined level $\\alpha$, then you could claim that there is evidence to reject the null hypothesis. Hence, $p$-values that are small enough indicate that the data provides evidence in favour of **association** (**or causation in the case of an experimental study!**) between the response variable and the $j$th regressor."
   ]
  },
  {
   "cell_type": "markdown",
   "metadata": {
    "editable": true,
    "slideshow": {
     "slide_type": ""
    },
    "tags": []
   },
   "source": [
    "Furthermore, given a specified level of confidence where $\\alpha$ is the significance level, we can construct approximate $(1 - \\alpha) \\times 100\\%$ **confidence intervals** for the corresponding true value of $\\beta_j$:\n",
    "\n",
    "$$\n",
    "\\hat{\\beta}_j \\pm z_{\\alpha/2}\\mbox{se}(\\hat{\\beta}_j),\n",
    "$$\n",
    "\n",
    "where $z_{\\alpha/2}$ is the upper $\\alpha/2$ quantile of the **Standard Normal distribution**."
   ]
  },
  {
   "cell_type": "markdown",
   "metadata": {
    "editable": true,
    "slideshow": {
     "slide_type": "slide"
    },
    "tags": []
   },
   "source": [
    "Function `polr()` does not provide $p$-values, but we can compute them as follows:"
   ]
  },
  {
   "cell_type": "code",
   "execution_count": 9,
   "metadata": {
    "editable": true,
    "slideshow": {
     "slide_type": "fragment"
    },
    "tags": []
   },
   "outputs": [
    {
     "data": {
      "text/html": [
       "<table class=\"dataframe\">\n",
       "<caption>A data.frame: 4 × 6</caption>\n",
       "<thead>\n",
       "\t<tr><th scope=col>term</th><th scope=col>estimate</th><th scope=col>std.error</th><th scope=col>statistic</th><th scope=col>coef.type</th><th scope=col>p.value</th></tr>\n",
       "\t<tr><th scope=col>&lt;chr&gt;</th><th scope=col>&lt;dbl&gt;</th><th scope=col>&lt;dbl&gt;</th><th scope=col>&lt;dbl&gt;</th><th scope=col>&lt;chr&gt;</th><th scope=col>&lt;dbl&gt;</th></tr>\n",
       "</thead>\n",
       "<tbody>\n",
       "\t<tr><td>parent_edYes               </td><td>1.05</td><td>0.27</td><td>3.94</td><td>coefficient</td><td>0.00</td></tr>\n",
       "\t<tr><td>GPA                        </td><td>0.60</td><td>0.25</td><td>2.38</td><td>coefficient</td><td>0.02</td></tr>\n",
       "\t<tr><td>unlikely|somewhat likely   </td><td>2.18</td><td>0.77</td><td>2.84</td><td>scale      </td><td>0.00</td></tr>\n",
       "\t<tr><td>somewhat likely|very likely</td><td>4.27</td><td>0.79</td><td>5.39</td><td>scale      </td><td>0.00</td></tr>\n",
       "</tbody>\n",
       "</table>\n"
      ],
      "text/latex": [
       "A data.frame: 4 × 6\n",
       "\\begin{tabular}{llllll}\n",
       " term & estimate & std.error & statistic & coef.type & p.value\\\\\n",
       " <chr> & <dbl> & <dbl> & <dbl> & <chr> & <dbl>\\\\\n",
       "\\hline\n",
       "\t parent\\_edYes                & 1.05 & 0.27 & 3.94 & coefficient & 0.00\\\\\n",
       "\t GPA                         & 0.60 & 0.25 & 2.38 & coefficient & 0.02\\\\\n",
       "\t unlikely\\textbar{}somewhat likely    & 2.18 & 0.77 & 2.84 & scale       & 0.00\\\\\n",
       "\t somewhat likely\\textbar{}very likely & 4.27 & 0.79 & 5.39 & scale       & 0.00\\\\\n",
       "\\end{tabular}\n"
      ],
      "text/markdown": [
       "\n",
       "A data.frame: 4 × 6\n",
       "\n",
       "| term &lt;chr&gt; | estimate &lt;dbl&gt; | std.error &lt;dbl&gt; | statistic &lt;dbl&gt; | coef.type &lt;chr&gt; | p.value &lt;dbl&gt; |\n",
       "|---|---|---|---|---|---|\n",
       "| parent_edYes                | 1.05 | 0.27 | 3.94 | coefficient | 0.00 |\n",
       "| GPA                         | 0.60 | 0.25 | 2.38 | coefficient | 0.02 |\n",
       "| unlikely|somewhat likely    | 2.18 | 0.77 | 2.84 | scale       | 0.00 |\n",
       "| somewhat likely|very likely | 4.27 | 0.79 | 5.39 | scale       | 0.00 |\n",
       "\n"
      ],
      "text/plain": [
       "  term                        estimate std.error statistic coef.type   p.value\n",
       "1 parent_edYes                1.05     0.27      3.94      coefficient 0.00   \n",
       "2 GPA                         0.60     0.25      2.38      coefficient 0.02   \n",
       "3 unlikely|somewhat likely    2.18     0.77      2.84      scale       0.00   \n",
       "4 somewhat likely|very likely 4.27     0.79      5.39      scale       0.00   "
      ]
     },
     "metadata": {},
     "output_type": "display_data"
    }
   ],
   "source": [
    "summary_ordinal_model <- cbind(tidy(ordinal_model),\n",
    "  p.value = pnorm(abs(tidy(ordinal_model)$statistic),\n",
    "    lower.tail = FALSE\n",
    "  ) * 2\n",
    ") |>\n",
    "  mutate_if(is.numeric, round, 2)\n",
    "summary_ordinal_model"
   ]
  },
  {
   "cell_type": "markdown",
   "metadata": {
    "editable": true,
    "slideshow": {
     "slide_type": "slide"
    },
    "tags": []
   },
   "source": [
    "Terms `unlikely|somewhat likely` and `somewhat likely|very likely` refer to the estimated intercepts $\\hat{\\beta}_0^{(\\texttt{unlikely})}$ and $\\hat{\\beta}_0^{(\\texttt{somewhat likely})}$, respectively (**note the hat notation**)."
   ]
  },
  {
   "cell_type": "markdown",
   "metadata": {
    "editable": true,
    "slideshow": {
     "slide_type": "fragment"
    },
    "tags": []
   },
   "source": [
    "Finally, we see that those coefficients associated with `GPA` and `parent_ed` are statistically significant with $\\alpha = 0.05$."
   ]
  },
  {
   "cell_type": "markdown",
   "metadata": {
    "editable": true,
    "slideshow": {
     "slide_type": "slide"
    },
    "tags": []
   },
   "source": [
    "Function `confint()` can provide the 95% confidence intervals for the estimates contained in `tidy()`."
   ]
  },
  {
   "cell_type": "code",
   "execution_count": 10,
   "metadata": {
    "editable": true,
    "slideshow": {
     "slide_type": "fragment"
    },
    "tags": []
   },
   "outputs": [
    {
     "name": "stderr",
     "output_type": "stream",
     "text": [
      "Waiting for profiling to be done...\n",
      "\n"
     ]
    },
    {
     "data": {
      "text/html": [
       "<table class=\"dataframe\">\n",
       "<caption>A matrix: 2 × 2 of type dbl</caption>\n",
       "<thead>\n",
       "\t<tr><th></th><th scope=col>2.5 %</th><th scope=col>97.5 %</th></tr>\n",
       "</thead>\n",
       "<tbody>\n",
       "\t<tr><th scope=row>parent_edYes</th><td>0.53</td><td>1.57</td></tr>\n",
       "\t<tr><th scope=row>GPA</th><td>0.11</td><td>1.11</td></tr>\n",
       "</tbody>\n",
       "</table>\n"
      ],
      "text/latex": [
       "A matrix: 2 × 2 of type dbl\n",
       "\\begin{tabular}{r|ll}\n",
       "  & 2.5 \\% & 97.5 \\%\\\\\n",
       "\\hline\n",
       "\tparent\\_edYes & 0.53 & 1.57\\\\\n",
       "\tGPA & 0.11 & 1.11\\\\\n",
       "\\end{tabular}\n"
      ],
      "text/markdown": [
       "\n",
       "A matrix: 2 × 2 of type dbl\n",
       "\n",
       "| <!--/--> | 2.5 % | 97.5 % |\n",
       "|---|---|---|\n",
       "| parent_edYes | 0.53 | 1.57 |\n",
       "| GPA | 0.11 | 1.11 |\n",
       "\n"
      ],
      "text/plain": [
       "             2.5 % 97.5 %\n",
       "parent_edYes 0.53  1.57  \n",
       "GPA          0.11  1.11  "
      ]
     },
     "metadata": {},
     "output_type": "display_data"
    }
   ],
   "source": [
    "round(confint(ordinal_model), 2)"
   ]
  },
  {
   "cell_type": "markdown",
   "metadata": {
    "editable": true,
    "slideshow": {
     "slide_type": ""
    },
    "tags": []
   },
   "source": [
    "## 7. Coefficient Interpretation"
   ]
  },
  {
   "cell_type": "markdown",
   "metadata": {
    "editable": true,
    "slideshow": {
     "slide_type": "slide"
    },
    "tags": []
   },
   "source": [
    "The interpretation of the Ordinal Logistic regression coefficients will change since we are modelling cumulative probabilities. Let us interpret the association of `decision` with `GPA` and `parent_ed`."
   ]
  },
  {
   "cell_type": "code",
   "execution_count": 11,
   "metadata": {
    "editable": true,
    "slideshow": {
     "slide_type": "slide"
    },
    "tags": []
   },
   "outputs": [
    {
     "data": {
      "text/html": [
       "<table class=\"dataframe\">\n",
       "<caption>A tibble: 2 × 3</caption>\n",
       "<thead>\n",
       "\t<tr><th scope=col>term</th><th scope=col>estimate</th><th scope=col>exp.estimate</th></tr>\n",
       "\t<tr><th scope=col>&lt;chr&gt;</th><th scope=col>&lt;dbl&gt;</th><th scope=col>&lt;dbl&gt;</th></tr>\n",
       "</thead>\n",
       "<tbody>\n",
       "\t<tr><td>parent_edYes</td><td>1.05</td><td>2.86</td></tr>\n",
       "\t<tr><td>GPA         </td><td>0.60</td><td>1.82</td></tr>\n",
       "</tbody>\n",
       "</table>\n"
      ],
      "text/latex": [
       "A tibble: 2 × 3\n",
       "\\begin{tabular}{lll}\n",
       " term & estimate & exp.estimate\\\\\n",
       " <chr> & <dbl> & <dbl>\\\\\n",
       "\\hline\n",
       "\t parent\\_edYes & 1.05 & 2.86\\\\\n",
       "\t GPA          & 0.60 & 1.82\\\\\n",
       "\\end{tabular}\n"
      ],
      "text/markdown": [
       "\n",
       "A tibble: 2 × 3\n",
       "\n",
       "| term &lt;chr&gt; | estimate &lt;dbl&gt; | exp.estimate &lt;dbl&gt; |\n",
       "|---|---|---|\n",
       "| parent_edYes | 1.05 | 2.86 |\n",
       "| GPA          | 0.60 | 1.82 |\n",
       "\n"
      ],
      "text/plain": [
       "  term         estimate exp.estimate\n",
       "1 parent_edYes 1.05     2.86        \n",
       "2 GPA          0.60     1.82        "
      ]
     },
     "metadata": {},
     "output_type": "display_data"
    }
   ],
   "source": [
    "tibble(summary_ordinal_model[1:2, 1:2], exp.estimate = round(exp(summary_ordinal_model[1:2, 2]), 2))"
   ]
  },
  {
   "cell_type": "markdown",
   "metadata": {
    "editable": true,
    "slideshow": {
     "slide_type": "fragment"
    },
    "tags": []
   },
   "source": [
    "By using the column `exp.estimate`, **along with the model equations on the original scale of the cumulative odds**, we interpret the two regression coefficients above **by each odds** as follows:"
   ]
  },
  {
   "cell_type": "markdown",
   "metadata": {
    "editable": true,
    "slideshow": {
     "slide_type": "slide"
    },
    "tags": []
   },
   "source": [
    "For the odds \n",
    "\n",
    "$$\\frac{P(Y_i = \\texttt{very likely} \\mid X_{i, \\texttt{GPA}},X_{i, \\texttt{parent_ed}})}{P(Y_i \\leq \\texttt{somewhat likely} \\mid X_{i, \\texttt{GPA}},X_{i, \\texttt{parent_ed}})} = \\exp\\big(-\\beta_0^{(\\texttt{somewhat likely})}\\big) \\exp\\big(\\beta_1 X_{i, \\texttt{GPA}}\\big) \\exp\\big(\\beta_2 X_{i, \\texttt{parent_ed}}\\big).$$"
   ]
  },
  {
   "cell_type": "markdown",
   "metadata": {
    "editable": true,
    "slideshow": {
     "slide_type": ""
    },
    "tags": []
   },
   "source": [
    "> - $\\beta_1$: \"for each one-unit increase in the `GPA`, the odds that the student is `very likely`  versus `somewhat likely` or `unlikely` to apply to graduate school increase by $\\exp \\left( \\hat{\\beta}_1 \\right) = 1.82$ times (while holding `parent_ed` constant).\""
   ]
  },
  {
   "cell_type": "markdown",
   "metadata": {
    "editable": true,
    "slideshow": {
     "slide_type": ""
    },
    "tags": []
   },
   "source": [
    "> - $\\beta_2$: \"for those respondents whose parents attended to graduate school, the odds that the student is `very likely` versus `somewhat likely` or `unlikely` to apply to graduate school increase by $\\exp \\left( \\hat{\\beta}_2 \\right) = 2.86$ times (when compared to those respondents whose parents did not attend to graduate school and holding `GPA` constant).\""
   ]
  },
  {
   "cell_type": "markdown",
   "metadata": {
    "editable": true,
    "slideshow": {
     "slide_type": "slide"
    },
    "tags": []
   },
   "source": [
    "For the odds \n",
    "\n",
    "$$\\frac{P(Y_i \\geq \\texttt{somewhat likely} \\mid X_{i, \\texttt{GPA}},X_{i, \\texttt{parent_ed}})}{P(Y_i = \\texttt{unlikely} \\mid X_{i, \\texttt{GPA}},X_{i, \\texttt{parent_ed}})} = \\exp\\big(-\\beta_0^{(\\texttt{unlikely})}\\big) \\exp\\big(\\beta_1 X_{i, \\texttt{GPA}}\\big) \\exp\\big(\\beta_2 X_{i, \\texttt{parent_ed}}\\big).$$"
   ]
  },
  {
   "cell_type": "markdown",
   "metadata": {
    "editable": true,
    "slideshow": {
     "slide_type": ""
    },
    "tags": []
   },
   "source": [
    "> - $\\beta_1$: \"for each one-unit increase in the `GPA`, the odds that the student is `very likely` or `somewhat likely` versus `unlikely` to apply to graduate school increase by $\\exp \\left( \\hat{\\beta}_1 \\right) = 1.82$ times (while holding `parent_ed` constant).\""
   ]
  },
  {
   "cell_type": "markdown",
   "metadata": {
    "editable": true,
    "slideshow": {
     "slide_type": ""
    },
    "tags": []
   },
   "source": [
    "> - $\\beta_2$: \"for those respondents whose parents attended to graduate school, the odds that the student is `very likely`  or `somewhat likely` versus `unlikely` to apply to graduate school increase by $\\exp \\left( \\hat{\\beta}_2 \\right) = 2.86$ times (when compared to those respondents whose parents did not attend to graduate school and holding `GPA` constant).\""
   ]
  },
  {
   "cell_type": "markdown",
   "metadata": {
    "editable": true,
    "slideshow": {
     "slide_type": ""
    },
    "tags": []
   },
   "source": [
    "## 8. Predictions"
   ]
  },
  {
   "cell_type": "markdown",
   "metadata": {
    "editable": true,
    "slideshow": {
     "slide_type": "slide"
    },
    "tags": []
   },
   "source": [
    "**Aside from our main statistical inquiries**, using the function `predict()` with the object `ordinal_model`, we can obtain the estimated probabilities to apply to graduate school (associated to `unlikely`, `somewhat likely`, and `very likely`) for a student with a `GPA` of 3.5 whose parents attended to graduate school."
   ]
  },
  {
   "cell_type": "code",
   "execution_count": 12,
   "metadata": {
    "editable": true,
    "slideshow": {
     "slide_type": "fragment"
    },
    "tags": []
   },
   "outputs": [
    {
     "data": {
      "text/html": [
       "<style>\n",
       ".dl-inline {width: auto; margin:0; padding: 0}\n",
       ".dl-inline>dt, .dl-inline>dd {float: none; width: auto; display: inline-block}\n",
       ".dl-inline>dt::after {content: \":\\0020\"; padding-right: .5ex}\n",
       ".dl-inline>dt:not(:first-of-type) {padding-left: .5ex}\n",
       "</style><dl class=dl-inline><dt>unlikely</dt><dd>0.27</dd><dt>somewhat likely</dt><dd>0.48</dd><dt>very likely</dt><dd>0.25</dd></dl>\n"
      ],
      "text/latex": [
       "\\begin{description*}\n",
       "\\item[unlikely] 0.27\n",
       "\\item[somewhat likely] 0.48\n",
       "\\item[very likely] 0.25\n",
       "\\end{description*}\n"
      ],
      "text/markdown": [
       "unlikely\n",
       ":   0.27somewhat likely\n",
       ":   0.48very likely\n",
       ":   0.25\n",
       "\n"
      ],
      "text/plain": [
       "       unlikely somewhat likely     very likely \n",
       "           0.27            0.48            0.25 "
      ]
     },
     "metadata": {},
     "output_type": "display_data"
    }
   ],
   "source": [
    "round(predict(ordinal_model, tibble(GPA = 3.5, parent_ed = \"Yes\"), type = \"probs\"), 2)"
   ]
  },
  {
   "cell_type": "markdown",
   "metadata": {
    "editable": true,
    "slideshow": {
     "slide_type": "fragment"
    },
    "tags": []
   },
   "source": [
    "We can see that it is `somewhat likely` to apply to graduate school with a probability of 0.48. **Thus, we could classify the student in this ordinal category.**"
   ]
  },
  {
   "cell_type": "markdown",
   "metadata": {
    "editable": true,
    "slideshow": {
     "slide_type": "slide"
    },
    "tags": []
   },
   "source": [
    "Unfortunately, `predict()` with `polr()` does not provide a quick way to compute this model's corresponding predicted cumulative odds for a new observation. Nonetheless, we could use function `vglm()`(from package `VGAM`) again while keeping in mind that **this function labels the response categories as numbers**. Let us check this for `decision` with `levels()`."
   ]
  },
  {
   "cell_type": "code",
   "execution_count": 13,
   "metadata": {
    "editable": true,
    "slideshow": {
     "slide_type": "fragment"
    },
    "tags": []
   },
   "outputs": [
    {
     "data": {
      "text/html": [
       "<style>\n",
       ".list-inline {list-style: none; margin:0; padding: 0}\n",
       ".list-inline>li {display: inline-block}\n",
       ".list-inline>li:not(:last-child)::after {content: \"\\00b7\"; padding: 0 .5ex}\n",
       "</style>\n",
       "<ol class=list-inline><li>'unlikely'</li><li>'somewhat likely'</li><li>'very likely'</li></ol>\n"
      ],
      "text/latex": [
       "\\begin{enumerate*}\n",
       "\\item 'unlikely'\n",
       "\\item 'somewhat likely'\n",
       "\\item 'very likely'\n",
       "\\end{enumerate*}\n"
      ],
      "text/markdown": [
       "1. 'unlikely'\n",
       "2. 'somewhat likely'\n",
       "3. 'very likely'\n",
       "\n",
       "\n"
      ],
      "text/plain": [
       "[1] \"unlikely\"        \"somewhat likely\" \"very likely\"    "
      ]
     },
     "metadata": {},
     "output_type": "display_data"
    }
   ],
   "source": [
    "levels(college_data$decision)"
   ]
  },
  {
   "cell_type": "markdown",
   "metadata": {
    "editable": true,
    "slideshow": {
     "slide_type": "slide"
    },
    "tags": []
   },
   "source": [
    "Hence, `unlikely` is `1`, `somewhat likely` is `2`, and `very likely` is `3`. Now, let us use `vglm()` with `propodds` to fit the same model (named `ordinal_model_vglm`) as follows:"
   ]
  },
  {
   "cell_type": "code",
   "execution_count": 14,
   "metadata": {
    "editable": true,
    "slideshow": {
     "slide_type": "fragment"
    },
    "tags": []
   },
   "outputs": [
    {
     "data": {
      "text/plain": [
       "Call:\n",
       "vglm(formula = decision ~ parent_ed + GPA, family = propodds, \n",
       "    data = college_data)\n",
       "\n",
       "Coefficients: \n",
       "              Estimate Std. Error z value Pr(>|z|)    \n",
       "(Intercept):1  -2.1763     0.7726  -2.817  0.00485 ** \n",
       "(Intercept):2  -4.2716     0.7976  -5.356 8.52e-08 ***\n",
       "parent_edYes    1.0457     0.2682   3.899 9.67e-05 ***\n",
       "GPA             0.6043     0.2561   2.360  0.01829 *  \n",
       "---\n",
       "Signif. codes:  0 ‘***’ 0.001 ‘**’ 0.01 ‘*’ 0.05 ‘.’ 0.1 ‘ ’ 1\n",
       "\n",
       "Names of linear predictors: logitlink(P[Y>=2]), logitlink(P[Y>=3])\n",
       "\n",
       "Residual deviance: 717.0638 on 796 degrees of freedom\n",
       "\n",
       "Log-likelihood: -358.5319 on 796 degrees of freedom\n",
       "\n",
       "Number of Fisher scoring iterations: 4 \n",
       "\n",
       "No Hauck-Donner effect found in any of the estimates\n",
       "\n",
       "\n",
       "Exponentiated coefficients:\n",
       "parent_edYes          GPA \n",
       "    2.845388     1.829895 "
      ]
     },
     "metadata": {},
     "output_type": "display_data"
    }
   ],
   "source": [
    "ordinal_model_vglm <- vglm(decision ~ parent_ed + GPA, propodds,\n",
    "  data = college_data)\n",
    "\n",
    "summary(ordinal_model_vglm)"
   ]
  },
  {
   "cell_type": "markdown",
   "metadata": {
    "editable": true,
    "slideshow": {
     "slide_type": "slide"
    },
    "tags": []
   },
   "source": [
    "We will double-check whether `ordinal_model_vglm` provides the same classification probabilities via `predict()`. Note that the function parameterization changes to `type = \"response\"`."
   ]
  },
  {
   "cell_type": "code",
   "execution_count": 15,
   "metadata": {
    "editable": true,
    "slideshow": {
     "slide_type": "fragment"
    },
    "tags": []
   },
   "outputs": [
    {
     "data": {
      "text/html": [
       "<table class=\"dataframe\">\n",
       "<caption>A matrix: 1 × 3 of type dbl</caption>\n",
       "<thead>\n",
       "\t<tr><th></th><th scope=col>unlikely</th><th scope=col>somewhat likely</th><th scope=col>very likely</th></tr>\n",
       "</thead>\n",
       "<tbody>\n",
       "\t<tr><th scope=row>1</th><td>0.27</td><td>0.48</td><td>0.25</td></tr>\n",
       "</tbody>\n",
       "</table>\n"
      ],
      "text/latex": [
       "A matrix: 1 × 3 of type dbl\n",
       "\\begin{tabular}{r|lll}\n",
       "  & unlikely & somewhat likely & very likely\\\\\n",
       "\\hline\n",
       "\t1 & 0.27 & 0.48 & 0.25\\\\\n",
       "\\end{tabular}\n"
      ],
      "text/markdown": [
       "\n",
       "A matrix: 1 × 3 of type dbl\n",
       "\n",
       "| <!--/--> | unlikely | somewhat likely | very likely |\n",
       "|---|---|---|---|\n",
       "| 1 | 0.27 | 0.48 | 0.25 |\n",
       "\n"
      ],
      "text/plain": [
       "  unlikely somewhat likely very likely\n",
       "1 0.27     0.48            0.25       "
      ]
     },
     "metadata": {},
     "output_type": "display_data"
    }
   ],
   "source": [
    "round(predict(ordinal_model_vglm, tibble(GPA = 3.5, parent_ed = \"Yes\"), type = \"response\"), 2)"
   ]
  },
  {
   "cell_type": "markdown",
   "metadata": {
    "editable": true,
    "slideshow": {
     "slide_type": "fragment"
    },
    "tags": []
   },
   "source": [
    "Yes, we get identical results using `vglm()`. Now, let us use `predict()` with `ordinal_model_vglm` to obtain the predicted cumulative odds for a student with a `GPA` of 3.5 whose parents attended to graduate school (via argument `type = \"link\"` in `predict()`)."
   ]
  },
  {
   "cell_type": "code",
   "execution_count": 16,
   "metadata": {
    "editable": true,
    "slideshow": {
     "slide_type": "slide"
    },
    "tags": []
   },
   "outputs": [
    {
     "data": {
      "text/html": [
       "<table class=\"dataframe\">\n",
       "<caption>A matrix: 1 × 2 of type dbl</caption>\n",
       "<thead>\n",
       "\t<tr><th></th><th scope=col>logitlink(P[Y&gt;=2])</th><th scope=col>logitlink(P[Y&gt;=3])</th></tr>\n",
       "</thead>\n",
       "<tbody>\n",
       "\t<tr><th scope=row>1</th><td>0.98</td><td>-1.11</td></tr>\n",
       "</tbody>\n",
       "</table>\n"
      ],
      "text/latex": [
       "A matrix: 1 × 2 of type dbl\n",
       "\\begin{tabular}{r|ll}\n",
       "  & logitlink(P{[}Y>=2{]}) & logitlink(P{[}Y>=3{]})\\\\\n",
       "\\hline\n",
       "\t1 & 0.98 & -1.11\\\\\n",
       "\\end{tabular}\n"
      ],
      "text/markdown": [
       "\n",
       "A matrix: 1 × 2 of type dbl\n",
       "\n",
       "| <!--/--> | logitlink(P[Y&gt;=2]) | logitlink(P[Y&gt;=3]) |\n",
       "|---|---|---|\n",
       "| 1 | 0.98 | -1.11 |\n",
       "\n"
      ],
      "text/plain": [
       "  logitlink(P[Y>=2]) logitlink(P[Y>=3])\n",
       "1 0.98               -1.11             "
      ]
     },
     "metadata": {},
     "output_type": "display_data"
    }
   ],
   "source": [
    "round(predict(ordinal_model_vglm, tibble(GPA = 3.5, parent_ed = \"Yes\"), type = \"link\"), 2)"
   ]
  },
  {
   "cell_type": "markdown",
   "metadata": {
    "editable": true,
    "slideshow": {
     "slide_type": "slide"
    },
    "tags": []
   },
   "source": [
    "Then, let us take these predictions to the odds' original scale via `exp()`."
   ]
  },
  {
   "cell_type": "code",
   "execution_count": 17,
   "metadata": {
    "editable": true,
    "slideshow": {
     "slide_type": "fragment"
    },
    "tags": []
   },
   "outputs": [
    {
     "data": {
      "text/html": [
       "<table class=\"dataframe\">\n",
       "<caption>A matrix: 1 × 2 of type dbl</caption>\n",
       "<thead>\n",
       "\t<tr><th></th><th scope=col>logitlink(P[Y&gt;=2])</th><th scope=col>logitlink(P[Y&gt;=3])</th></tr>\n",
       "</thead>\n",
       "<tbody>\n",
       "\t<tr><th scope=row>1</th><td>2.68</td><td>0.33</td></tr>\n",
       "</tbody>\n",
       "</table>\n"
      ],
      "text/latex": [
       "A matrix: 1 × 2 of type dbl\n",
       "\\begin{tabular}{r|ll}\n",
       "  & logitlink(P{[}Y>=2{]}) & logitlink(P{[}Y>=3{]})\\\\\n",
       "\\hline\n",
       "\t1 & 2.68 & 0.33\\\\\n",
       "\\end{tabular}\n"
      ],
      "text/markdown": [
       "\n",
       "A matrix: 1 × 2 of type dbl\n",
       "\n",
       "| <!--/--> | logitlink(P[Y&gt;=2]) | logitlink(P[Y&gt;=3]) |\n",
       "|---|---|---|\n",
       "| 1 | 2.68 | 0.33 |\n",
       "\n"
      ],
      "text/plain": [
       "  logitlink(P[Y>=2]) logitlink(P[Y>=3])\n",
       "1 2.68               0.33              "
      ]
     },
     "metadata": {},
     "output_type": "display_data"
    }
   ],
   "source": [
    "round(exp(predict(ordinal_model_vglm, tibble(GPA = 3.5, parent_ed = \"Yes\"), type = \"link\")), 2)"
   ]
  },
  {
   "cell_type": "markdown",
   "metadata": {
    "editable": true,
    "slideshow": {
     "slide_type": "slide"
    },
    "tags": []
   },
   "source": [
    "Again, we see the numeric labels **(a drawback of using `vglm()`)**. We interpret these predictions as follows:"
   ]
  },
  {
   "cell_type": "markdown",
   "metadata": {
    "editable": true,
    "slideshow": {
     "slide_type": ""
    },
    "tags": []
   },
   "source": [
    "- $\\frac{P(Y_i = \\texttt{very likely} \\mid X_{i, \\texttt{GPA}},X_{i, \\texttt{parent_ed}})}{P(Y_i \\leq \\texttt{somewhat likely} \\mid X_{i, \\texttt{GPA}},X_{i, \\texttt{parent_ed}})}$, i.e., `P[Y>=3]` (label `3`, `very likely`): \"**a student, with a `GPA` of 3.5 whose parents attended to graduate school, is 3.03 ($1 / 0.33$) times `somewhat likely` or `unlikely` versus `very likely` to apply to graduate school**.\" This prediction goes in line with the predicted probabilities above, given that `somewhat likely` has a probability of 0.48 and `unlikely` a probability of 0.27."
   ]
  },
  {
   "cell_type": "markdown",
   "metadata": {
    "editable": true,
    "slideshow": {
     "slide_type": ""
    },
    "tags": []
   },
   "source": [
    "- $\\frac{P(Y_i \\geq \\texttt{somewhat likely} \\mid X_{i, \\texttt{GPA}},X_{i, \\texttt{parent_ed}})}{P(Y_i = \\texttt{unlikely} \\mid X_{i, \\texttt{GPA}},X_{i, \\texttt{parent_ed}})}$, i.e., `P[Y>=2]` (label `2`, ` somewhat likely`): \"**a student, with a `GPA` of 3.5 whose parents attended to graduate school, is 2.68 times `very likely` or `somewhat likely` versus `unlikely` to apply to graduate school**.\" This prediction goes in line with the predicted probabilities above, given that `somewhat likely` has a probability of 0.48 and ` very likely` a probability of 0.25."
   ]
  },
  {
   "cell_type": "markdown",
   "metadata": {
    "editable": true,
    "slideshow": {
     "slide_type": ""
    },
    "tags": []
   },
   "source": [
    "## 9. Model Selection"
   ]
  },
  {
   "cell_type": "markdown",
   "metadata": {
    "editable": true,
    "slideshow": {
     "slide_type": ""
    },
    "tags": []
   },
   "source": [
    "**To perform model selection**, we can use the same techniques from the Binary Logistic regression model (check {ref}`bin-log-model-selection`). That said, some `R` coding functions might not be entirely available for the `polr()` models. Still, these statistical techniques and metrics can be manually coded."
   ]
  },
  {
   "cell_type": "markdown",
   "metadata": {
    "editable": true,
    "slideshow": {
     "slide_type": "slide"
    },
    "tags": []
   },
   "source": [
    "## 10. Non-proportional Odds\n",
    "\n",
    "Now, we might wonder\n",
    "\n",
    "> What happens if we do not fulfil the proportional odds assumption in our Ordinal Logistic regression model?"
   ]
  },
  {
   "cell_type": "markdown",
   "metadata": {
    "editable": true,
    "slideshow": {
     "slide_type": "slide"
    },
    "tags": []
   },
   "source": [
    "### 10.1. The Brant-Wald Test"
   ]
  },
  {
   "cell_type": "markdown",
   "metadata": {
    "editable": true,
    "slideshow": {
     "slide_type": "fragment"
    },
    "tags": []
   },
   "source": [
    "It is essential to remember that the Ordinal Logistic model under the proportional odds assumption is **the first step** when performing Regression Analysis on an ordinal response. \n",
    "\n",
    "Once this model has been fitted, **it is possible to assess whether it fulfils this strong assumption statistically**."
   ]
  },
  {
   "cell_type": "markdown",
   "metadata": {
    "editable": true,
    "slideshow": {
     "slide_type": "slide"
    },
    "tags": []
   },
   "source": [
    "We can do it via the Brant-Wald test:\n",
    "\n",
    "- This tool statistically assesses whether our model globally fulfils this assumption. It has the following hypotheses:\n",
    "\n",
    "```{math}\n",
    "\\begin{gather*}\n",
    "H_0: \\text{Our Ordinal Logistic regression model globally fulfils the proportional odds assumption.} \\\\\n",
    "H_a: \\text{Otherwise}.\n",
    "\\end{gather*}\n",
    "```"
   ]
  },
  {
   "cell_type": "markdown",
   "metadata": {
    "editable": true,
    "slideshow": {
     "slide_type": "fragment"
    },
    "tags": []
   },
   "source": [
    "- Moreover, it also performs further hypothesis testing on each regressor. With $k$ regressors for $j = 1, \\dots, k$; we have the following hypotheses:\n",
    "\n",
    "```{math}\n",
    "\\begin{gather*}\n",
    "H_0: \\text{The } j \\text{th regressor in our Ordinal Logistic regression model fulfils the proportional odds assumption.} \\\\\n",
    "H_a: \\text{Otherwise}.\n",
    "\\end{gather*}\n",
    "```"
   ]
  },
  {
   "cell_type": "markdown",
   "metadata": {
    "editable": true,
    "slideshow": {
     "slide_type": "slide"
    },
    "tags": []
   },
   "source": [
    "Function `brant()` from package `brant` implements this tool, which can be used in our `polr()` object `ordinal_model`:"
   ]
  },
  {
   "cell_type": "code",
   "execution_count": 18,
   "metadata": {
    "editable": true,
    "slideshow": {
     "slide_type": "fragment"
    },
    "tags": []
   },
   "outputs": [
    {
     "name": "stdout",
     "output_type": "stream",
     "text": [
      "-------------------------------------------- \n",
      "Test for\tX2\tdf\tprobability \n",
      "-------------------------------------------- \n",
      "Omnibus\t\t0.73\t2\t0.69\n",
      "parent_edYes\t0.09\t1\t0.76\n",
      "GPA\t\t0.7\t1\t0.4\n",
      "-------------------------------------------- \n",
      "\n",
      "H0: Parallel Regression Assumption holds\n"
     ]
    }
   ],
   "source": [
    "brant(ordinal_model)"
   ]
  },
  {
   "cell_type": "markdown",
   "metadata": {
    "editable": true,
    "slideshow": {
     "slide_type": "slide"
    },
    "tags": []
   },
   "source": [
    "The row `Omnibus` represents the global model, while the other two rows correspond to our two regressors: `parent_ed` and `GPA`. Note that with $\\alpha = 0.05$, we are completely fulfilling the proportional odds assumption (the column `probability` delivers the corresponding $p$-values)."
   ]
  },
  {
   "cell_type": "markdown",
   "metadata": {
    "editable": true,
    "slideshow": {
     "slide_type": "fragment"
    },
    "tags": []
   },
   "source": [
    "```{important} \n",
    "The Brant Wald test essentially compares this basic Ordinal Logistic regression model of $k-1$ cumulative logit functions versus a combination of $k − 1$ correlated Binary Logistic regressions.\n",
    "```"
   ]
  },
  {
   "cell_type": "markdown",
   "metadata": {
    "editable": true,
    "slideshow": {
     "slide_type": "slide"
    },
    "tags": []
   },
   "source": [
    "### 10.2. A Non-proportional Odds Model"
   ]
  },
  {
   "cell_type": "markdown",
   "metadata": {
    "slideshow": {
     "slide_type": "slide"
    }
   },
   "source": [
    "Suppose that our example case **does not fulfil** the proportional odds assumption according to the Brant Wald test. It is possible to have a model under a **non-proportional odds assumption** as follows:"
   ]
  },
  {
   "cell_type": "markdown",
   "metadata": {
    "slideshow": {
     "slide_type": "fragment"
    }
   },
   "source": [
    "```{math}\n",
    "\\begin{align*}\n",
    "\\eta_i^{(\\texttt{somewhat likely})} &= \\log\\left[\\frac{P(Y_i \\leq \\texttt{somewhat likely} \\mid X_{i, \\texttt{GPA}},X_{i, \\texttt{parent_ed}})}{P(Y_i = \\texttt{very likely} \\mid X_{i, \\texttt{GPA}}, X_{i, \\texttt{parent_ed}})}\\right] \\\\ &= \\beta_0^{(\\texttt{somewhat likely})} - \\beta_1^{(\\texttt{somewhat likely})} X_{i, \\texttt{GPA}} - \\beta_2^{(\\texttt{somewhat likely})} X_{i, \\texttt{parent_ed}}\n",
    "\\end{align*}\n",
    "```\n",
    "\n",
    "```{math}\n",
    "\\begin{align*}\n",
    "\\eta_i^{(\\texttt{unlikely})} &= \\log\\left[\\frac{P(Y_i = \\texttt{unlikely} \\mid X_{i, \\texttt{GPA}},X_{i, \\texttt{parent_ed}})}{P(Y_i \\geq \\texttt{somewhat likely} \\mid X_{i, \\texttt{GPA}},X_{i, \\texttt{parent_ed}})}\\right] \\\\ &= \\beta_0^{(\\texttt{unlikely})} - \\beta_1^{(\\texttt{unlikely})} X_{i, \\texttt{GPA}} - \\beta_2^{(\\texttt{unlikely})} X_{i, \\texttt{parent_ed}}.\n",
    "\\end{align*}\n",
    "```"
   ]
  },
  {
   "cell_type": "markdown",
   "metadata": {
    "slideshow": {
     "slide_type": "slide"
    }
   },
   "source": [
    "This is called a **Generalized Ordinal Logistic regression model**. This class of models can be fit via [**the function `cumulative()`**](https://search.r-project.org/CRAN/refmans/VGAM/html/cumulative.html) from package `VGAM`. Note that estimation, inference, coefficient interpretation, and predictions are conducted in a similar way **compared to the proportional odds model**."
   ]
  },
  {
   "cell_type": "markdown",
   "metadata": {},
   "source": [
    "```{exercise}\n",
    ":label: lecture3-q3\n",
    "\n",
    "Why would we have to be cautious when fitting a non-proportional odds model in the context of a response with a considerable number of ordinal levels and regressors?\n",
    "```"
   ]
  },
  {
   "cell_type": "markdown",
   "metadata": {
    "editable": true,
    "slideshow": {
     "slide_type": ""
    },
    "tags": []
   },
   "source": [
    "````{solution} lecture3-q3\n",
    ":label: lecture3-ans3\n",
    "\n",
    "The Ordinal Logistic regression framework makes complex modelling since we deal with cumulative probabilities by each logit function in the system. On top of that, adding a considerable number of regression parameters to estimate in our optimization procedure via maximum likelihood might make convergence slow when fitting the model.\n",
    "````"
   ]
  },
  {
   "cell_type": "markdown",
   "metadata": {
    "editable": true,
    "slideshow": {
     "slide_type": "slide"
    },
    "tags": []
   },
   "source": [
    "## 11. Wrapping Up on Categorical Regression Models"
   ]
  },
  {
   "cell_type": "markdown",
   "metadata": {},
   "source": [
    "- Multinomial and Ordinal Logistic regression models address cases where our response is discrete and categorical. These models are another class GLMs with their corresponding link functions.\n",
    "- Multinomial Logistic regression approaches nominal responses. It heavily relies on a baseline response level and the odds' natural logarithm.\n",
    "- Ordinal Logistic regression approaches ordinal responses. It relies on cumulative odds on an ordinal scale.\n",
    "- We have to be careful with coefficient interpretations in these models, especially with the cumulative odds. This will imply an effective communication of these estimated models for inferential matters. "
   ]
  }
 ],
 "metadata": {
  "celltoolbar": "Tags",
  "kernelspec": {
   "display_name": "R",
   "language": "R",
   "name": "ir"
  },
  "language_info": {
   "codemirror_mode": "r",
   "file_extension": ".r",
   "mimetype": "text/x-r-source",
   "name": "R",
   "pygments_lexer": "r",
   "version": "4.4.1"
  },
  "latex_envs": {
   "LaTeX_envs_menu_present": true,
   "autoclose": false,
   "autocomplete": true,
   "bibliofile": "biblio.bib",
   "cite_by": "apalike",
   "current_citInitial": 1,
   "eqLabelWithNumbers": true,
   "eqNumInitial": 1,
   "hotkeys": {
    "equation": "Ctrl-E",
    "itemize": "Ctrl-I"
   },
   "labels_anchors": false,
   "latex_user_defs": false,
   "report_style_numbering": false,
   "user_envs_cfg": false
  }
 },
 "nbformat": 4,
 "nbformat_minor": 4
}
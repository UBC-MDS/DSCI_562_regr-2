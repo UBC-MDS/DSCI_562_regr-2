{
 "cells": [
  {
   "cell_type": "markdown",
   "id": "aeed2cc9",
   "metadata": {
    "slideshow": {
     "slide_type": ""
    },
    "tags": []
   },
   "source": [
    "# Regression Mind Map"
   ]
  },
  {
   "cell_type": "markdown",
   "id": "8d628a93",
   "metadata": {},
   "source": [
    "As we can see in the clouds of {numref}`reg-mindmap-app`, we will review a significant number of regression models in this course. \n",
    "\n",
    "We must clarify that the current statistical literature is not restricted to the below regression models. The field of Regression Analysis is vast, and one might encounter more complex models to target certain specific inquiries. Nonetheless, we consider these models the fundamental regression approaches that any Data Scientist must be familiar with in everyday practice."
   ]
  },
  {
   "cell_type": "markdown",
   "id": "f19b6d5e",
   "metadata": {},
   "source": [
    "````{div} full-width\n",
    "```{figure} ../img/reg-mindmap-7.png\n",
    ":height: 600px\n",
    ":name: reg-mindmap-app\n",
    "Expanded regression modelling mind map (click on the image to zoom in).\n",
    "```\n",
    "````"
   ]
  }
 ],
 "metadata": {
  "kernelspec": {
   "display_name": "R",
   "language": "R",
   "name": "ir"
  },
  "language_info": {
   "codemirror_mode": "r",
   "file_extension": ".r",
   "mimetype": "text/x-r-source",
   "name": "R",
   "pygments_lexer": "r",
   "version": "4.4.0"
  }
 },
 "nbformat": 4,
 "nbformat_minor": 5
}
